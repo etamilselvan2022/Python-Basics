{
 "cells": [
  {
   "cell_type": "markdown",
   "id": "65bd4698",
   "metadata": {},
   "source": [
    "#### Python Basics"
   ]
  },
  {
   "cell_type": "markdown",
   "id": "9832ede5",
   "metadata": {},
   "source": [
    "#### Variable"
   ]
  },
  {
   "cell_type": "code",
   "execution_count": 1,
   "id": "942aeddb",
   "metadata": {},
   "outputs": [],
   "source": [
    "a=10\n",
    "# a=symbloic name\n",
    "#10=associated value.This associated value can be changed."
   ]
  },
  {
   "cell_type": "code",
   "execution_count": 2,
   "id": "44455c80",
   "metadata": {},
   "outputs": [
    {
     "data": {
      "text/plain": [
       "10"
      ]
     },
     "execution_count": 2,
     "metadata": {},
     "output_type": "execute_result"
    }
   ],
   "source": [
    "a"
   ]
  },
  {
   "cell_type": "markdown",
   "id": "4f447a37",
   "metadata": {},
   "source": [
    "#### Rule to define variables\n",
    "- 1. Variable name will not start with a number\n",
    "- 2. No white spaces in a variable name,use '_' instead\n",
    "- 3. Variable names are case sensitive\n",
    "-       eg:name,NAME,Name\n",
    "- 4. Dont'use below symbols in variable names\n",
    "-       eg:!@#$%^&*()_+~?|\\\n"
   ]
  },
  {
   "cell_type": "code",
   "execution_count": 3,
   "id": "489d050d",
   "metadata": {},
   "outputs": [
    {
     "ename": "SyntaxError",
     "evalue": "invalid syntax (<ipython-input-3-851db64b5e42>, line 2)",
     "output_type": "error",
     "traceback": [
      "\u001b[1;36m  File \u001b[1;32m\"<ipython-input-3-851db64b5e42>\"\u001b[1;36m, line \u001b[1;32m2\u001b[0m\n\u001b[1;33m    1car='Honda'\u001b[0m\n\u001b[1;37m     ^\u001b[0m\n\u001b[1;31mSyntaxError\u001b[0m\u001b[1;31m:\u001b[0m invalid syntax\n"
     ]
    }
   ],
   "source": [
    "#Variable name will not start with a number\n",
    "1car='Honda'"
   ]
  },
  {
   "cell_type": "code",
   "execution_count": 4,
   "id": "4eaff3ef",
   "metadata": {},
   "outputs": [
    {
     "ename": "SyntaxError",
     "evalue": "invalid syntax (<ipython-input-4-33887536385f>, line 2)",
     "output_type": "error",
     "traceback": [
      "\u001b[1;36m  File \u001b[1;32m\"<ipython-input-4-33887536385f>\"\u001b[1;36m, line \u001b[1;32m2\u001b[0m\n\u001b[1;33m    my name='vijay'\u001b[0m\n\u001b[1;37m       ^\u001b[0m\n\u001b[1;31mSyntaxError\u001b[0m\u001b[1;31m:\u001b[0m invalid syntax\n"
     ]
    }
   ],
   "source": [
    "# No white spaces in a variable name,use '_' instead\n",
    "my name='vijay'"
   ]
  },
  {
   "cell_type": "code",
   "execution_count": 6,
   "id": "174bebdb",
   "metadata": {},
   "outputs": [],
   "source": [
    "my_name='vijay'"
   ]
  },
  {
   "cell_type": "code",
   "execution_count": 7,
   "id": "b957d8c1",
   "metadata": {},
   "outputs": [
    {
     "name": "stdout",
     "output_type": "stream",
     "text": [
      "car:BMW\n",
      "CAR:Mercedes\n",
      "Car:Jaguar\n"
     ]
    }
   ],
   "source": [
    "#Variable names are case sensitive\n",
    "car='BMW'\n",
    "CAR='Mercedes'\n",
    "Car='Jaguar'\n",
    "print(f'car:{car}')\n",
    "print(f'CAR:{CAR}')\n",
    "print(f'Car:{Car}')"
   ]
  },
  {
   "cell_type": "code",
   "execution_count": 10,
   "id": "f2ce9b69",
   "metadata": {},
   "outputs": [
    {
     "ename": "SyntaxError",
     "evalue": "invalid syntax (<ipython-input-10-38d7d5cf1795>, line 2)",
     "output_type": "error",
     "traceback": [
      "\u001b[1;36m  File \u001b[1;32m\"<ipython-input-10-38d7d5cf1795>\"\u001b[1;36m, line \u001b[1;32m2\u001b[0m\n\u001b[1;33m    @a='hello'\u001b[0m\n\u001b[1;37m      ^\u001b[0m\n\u001b[1;31mSyntaxError\u001b[0m\u001b[1;31m:\u001b[0m invalid syntax\n"
     ]
    }
   ],
   "source": [
    "# Dont'use below symbols in variable names\n",
    "@a='hello'"
   ]
  },
  {
   "cell_type": "code",
   "execution_count": 11,
   "id": "5c0d35ee",
   "metadata": {},
   "outputs": [
    {
     "ename": "NameError",
     "evalue": "name 'b' is not defined",
     "output_type": "error",
     "traceback": [
      "\u001b[1;31m---------------------------------------------------------------------------\u001b[0m",
      "\u001b[1;31mNameError\u001b[0m                                 Traceback (most recent call last)",
      "\u001b[1;32m<ipython-input-11-b05a2e814cc0>\u001b[0m in \u001b[0;36m<module>\u001b[1;34m\u001b[0m\n\u001b[1;32m----> 1\u001b[1;33m \u001b[0mb\u001b[0m\u001b[1;33m&=\u001b[0m\u001b[1;34m'hello'\u001b[0m\u001b[1;33m\u001b[0m\u001b[1;33m\u001b[0m\u001b[0m\n\u001b[0m",
      "\u001b[1;31mNameError\u001b[0m: name 'b' is not defined"
     ]
    }
   ],
   "source": [
    "b&='hello'"
   ]
  },
  {
   "cell_type": "markdown",
   "id": "74a8ad27",
   "metadata": {},
   "source": [
    "#### Best Practices\n",
    "- 1.Always define a variable name in lowercase\n",
    "- 2.Avoid using words that have special meaning\n",
    "-   Eg:str,list"
   ]
  },
  {
   "cell_type": "markdown",
   "id": "f744f44c",
   "metadata": {},
   "source": [
    "#### Dynamic Typing"
   ]
  },
  {
   "cell_type": "code",
   "execution_count": 12,
   "id": "5ea8a2c0",
   "metadata": {},
   "outputs": [
    {
     "name": "stdout",
     "output_type": "stream",
     "text": [
      "10\n"
     ]
    },
    {
     "data": {
      "text/plain": [
       "int"
      ]
     },
     "execution_count": 12,
     "metadata": {},
     "output_type": "execute_result"
    }
   ],
   "source": [
    "a=10\n",
    "print(a)\n",
    "type(a)"
   ]
  },
  {
   "cell_type": "code",
   "execution_count": 13,
   "id": "0d70dcb3",
   "metadata": {},
   "outputs": [
    {
     "name": "stdout",
     "output_type": "stream",
     "text": [
      "5.2\n"
     ]
    },
    {
     "data": {
      "text/plain": [
       "float"
      ]
     },
     "execution_count": 13,
     "metadata": {},
     "output_type": "execute_result"
    }
   ],
   "source": [
    "a=5.2\n",
    "print(a)\n",
    "type(a)"
   ]
  },
  {
   "cell_type": "code",
   "execution_count": 14,
   "id": "d01f68bf",
   "metadata": {},
   "outputs": [
    {
     "name": "stdout",
     "output_type": "stream",
     "text": [
      "hello\n"
     ]
    },
    {
     "data": {
      "text/plain": [
       "str"
      ]
     },
     "execution_count": 14,
     "metadata": {},
     "output_type": "execute_result"
    }
   ],
   "source": [
    "a='hello'\n",
    "print(a)\n",
    "type(a)"
   ]
  },
  {
   "cell_type": "markdown",
   "id": "0f7c2884",
   "metadata": {},
   "source": [
    "#### Datatypes\n",
    "- 1.Number\n",
    "- 2.String\n",
    "- 3.List\n",
    "- 4.Dictionary\n",
    "- 5.Tuple\n",
    "- 6.Set\n",
    "- 7.Boolean"
   ]
  },
  {
   "cell_type": "markdown",
   "id": "c6bbc46e",
   "metadata": {},
   "source": [
    "### Number\n",
    "#### i)Integer\n",
    "   Whole numbers\n",
    "   \n",
    "    eg:100,200,5\n",
    "    \n",
    "#### ii)Float\n",
    "\n",
    "   Number with decimal point\n",
    "   \n",
    "   eg:100.00,47.23,2.14"
   ]
  },
  {
   "cell_type": "code",
   "execution_count": 16,
   "id": "ad94f851",
   "metadata": {},
   "outputs": [
    {
     "name": "stdout",
     "output_type": "stream",
     "text": [
      "10\n"
     ]
    },
    {
     "data": {
      "text/plain": [
       "int"
      ]
     },
     "execution_count": 16,
     "metadata": {},
     "output_type": "execute_result"
    }
   ],
   "source": [
    "a=10\n",
    "print(a)\n",
    "type(a)"
   ]
  },
  {
   "cell_type": "code",
   "execution_count": 17,
   "id": "8f70df40",
   "metadata": {},
   "outputs": [
    {
     "name": "stdout",
     "output_type": "stream",
     "text": [
      "6.7\n"
     ]
    },
    {
     "data": {
      "text/plain": [
       "float"
      ]
     },
     "execution_count": 17,
     "metadata": {},
     "output_type": "execute_result"
    }
   ],
   "source": [
    "a=6.7\n",
    "print(a)\n",
    "type(a)"
   ]
  },
  {
   "cell_type": "markdown",
   "id": "bede8e35",
   "metadata": {},
   "source": [
    "#### Arithmetic operations\n",
    "- Addition(+)\n",
    "- Subtraction(-)\n",
    "- Multiplication(*)\n",
    "- Division(/)  --- It gives quotient value (Float).\n",
    "- Integer Division(//)  --- It gives quotient value (Integer).\n",
    "- Exponential(**)\n",
    "- Modulus(%) --- Remainder"
   ]
  },
  {
   "cell_type": "code",
   "execution_count": 18,
   "id": "3d3bb8db",
   "metadata": {},
   "outputs": [
    {
     "name": "stdout",
     "output_type": "stream",
     "text": [
      " Addition(+)         :8\n",
      " Subtraction(-)      :4\n",
      " Multiplication(*)   :12\n",
      " Division(/)         :3.0\n",
      " Integer Division(//):3\n",
      " Exponential(**)     :36\n",
      " Modulus(%)          :0\n"
     ]
    }
   ],
   "source": [
    "a=6\n",
    "b=2\n",
    "print(f' Addition(+)         :{a+b}')\n",
    "print(f' Subtraction(-)      :{a-b}')\n",
    "print(f' Multiplication(*)   :{a*b}')\n",
    "print(f' Division(/)         :{a/b}')\n",
    "print(f' Integer Division(//):{a//b}')\n",
    "print(f' Exponential(**)     :{a**b}')\n",
    "print(f' Modulus(%)          :{a%b}')\n"
   ]
  },
  {
   "cell_type": "code",
   "execution_count": 19,
   "id": "7a22adac",
   "metadata": {},
   "outputs": [
    {
     "data": {
      "text/plain": [
       "107"
      ]
     },
     "execution_count": 19,
     "metadata": {},
     "output_type": "execute_result"
    }
   ],
   "source": [
    "#### Division and Multiplication has highest priority\n",
    "#### These operators work from left to right\n",
    "2+10*10+5"
   ]
  },
  {
   "cell_type": "code",
   "execution_count": 20,
   "id": "63c78fcc",
   "metadata": {},
   "outputs": [
    {
     "data": {
      "text/plain": [
       "8.0"
      ]
     },
     "execution_count": 20,
     "metadata": {},
     "output_type": "execute_result"
    }
   ],
   "source": [
    "5+20/4*2-7"
   ]
  },
  {
   "cell_type": "code",
   "execution_count": 21,
   "id": "4df216fe",
   "metadata": {},
   "outputs": [
    {
     "data": {
      "text/plain": [
       "8"
      ]
     },
     "execution_count": 21,
     "metadata": {},
     "output_type": "execute_result"
    }
   ],
   "source": [
    "5+20//4*2-7"
   ]
  },
  {
   "cell_type": "markdown",
   "id": "93baa3cf",
   "metadata": {},
   "source": [
    "### String\n",
    "- String are ordered sequence of characters\n",
    "- Anything in ' ' or \" \" is a string for python\n",
    "- eg:\"Hello\",'Science',\"150\"\n",
    "- Immutable\n",
    "- supports indexing/slicing"
   ]
  },
  {
   "cell_type": "code",
   "execution_count": 22,
   "id": "44b80d08",
   "metadata": {},
   "outputs": [
    {
     "data": {
      "text/plain": [
       "'Hello World'"
      ]
     },
     "execution_count": 22,
     "metadata": {},
     "output_type": "execute_result"
    }
   ],
   "source": [
    "\"Hello World\""
   ]
  },
  {
   "cell_type": "code",
   "execution_count": 23,
   "id": "834cdb4f",
   "metadata": {},
   "outputs": [
    {
     "data": {
      "text/plain": [
       "'hello world'"
      ]
     },
     "execution_count": 23,
     "metadata": {},
     "output_type": "execute_result"
    }
   ],
   "source": [
    "'hello world'"
   ]
  },
  {
   "cell_type": "code",
   "execution_count": 24,
   "id": "90d6d84a",
   "metadata": {},
   "outputs": [
    {
     "name": "stdout",
     "output_type": "stream",
     "text": [
      "hello\n"
     ]
    },
    {
     "data": {
      "text/plain": [
       "str"
      ]
     },
     "execution_count": 24,
     "metadata": {},
     "output_type": "execute_result"
    }
   ],
   "source": [
    "a='hello'\n",
    "print(a)\n",
    "type(a)"
   ]
  },
  {
   "cell_type": "code",
   "execution_count": 25,
   "id": "1a2a06c1",
   "metadata": {},
   "outputs": [
    {
     "data": {
      "text/plain": [
       "['__add__',\n",
       " '__class__',\n",
       " '__contains__',\n",
       " '__delattr__',\n",
       " '__dir__',\n",
       " '__doc__',\n",
       " '__eq__',\n",
       " '__format__',\n",
       " '__ge__',\n",
       " '__getattribute__',\n",
       " '__getitem__',\n",
       " '__getnewargs__',\n",
       " '__gt__',\n",
       " '__hash__',\n",
       " '__init__',\n",
       " '__init_subclass__',\n",
       " '__iter__',\n",
       " '__le__',\n",
       " '__len__',\n",
       " '__lt__',\n",
       " '__mod__',\n",
       " '__mul__',\n",
       " '__ne__',\n",
       " '__new__',\n",
       " '__reduce__',\n",
       " '__reduce_ex__',\n",
       " '__repr__',\n",
       " '__rmod__',\n",
       " '__rmul__',\n",
       " '__setattr__',\n",
       " '__sizeof__',\n",
       " '__str__',\n",
       " '__subclasshook__',\n",
       " 'capitalize',\n",
       " 'casefold',\n",
       " 'center',\n",
       " 'count',\n",
       " 'encode',\n",
       " 'endswith',\n",
       " 'expandtabs',\n",
       " 'find',\n",
       " 'format',\n",
       " 'format_map',\n",
       " 'index',\n",
       " 'isalnum',\n",
       " 'isalpha',\n",
       " 'isascii',\n",
       " 'isdecimal',\n",
       " 'isdigit',\n",
       " 'isidentifier',\n",
       " 'islower',\n",
       " 'isnumeric',\n",
       " 'isprintable',\n",
       " 'isspace',\n",
       " 'istitle',\n",
       " 'isupper',\n",
       " 'join',\n",
       " 'ljust',\n",
       " 'lower',\n",
       " 'lstrip',\n",
       " 'maketrans',\n",
       " 'partition',\n",
       " 'replace',\n",
       " 'rfind',\n",
       " 'rindex',\n",
       " 'rjust',\n",
       " 'rpartition',\n",
       " 'rsplit',\n",
       " 'rstrip',\n",
       " 'split',\n",
       " 'splitlines',\n",
       " 'startswith',\n",
       " 'strip',\n",
       " 'swapcase',\n",
       " 'title',\n",
       " 'translate',\n",
       " 'upper',\n",
       " 'zfill']"
      ]
     },
     "execution_count": 25,
     "metadata": {},
     "output_type": "execute_result"
    }
   ],
   "source": [
    "dir(a)"
   ]
  },
  {
   "cell_type": "code",
   "execution_count": 29,
   "id": "c8a90cc4",
   "metadata": {},
   "outputs": [
    {
     "data": {
      "text/plain": [
       "'hello'"
      ]
     },
     "execution_count": 29,
     "metadata": {},
     "output_type": "execute_result"
    }
   ],
   "source": [
    "a"
   ]
  },
  {
   "cell_type": "markdown",
   "id": "2acb2246",
   "metadata": {},
   "source": [
    "#### Indexing and Slicing\n",
    "- Indexing : When we grab a single character from a string\n",
    "- Slicing  : When we grab a sub-section of the multiple characters from a string"
   ]
  },
  {
   "cell_type": "markdown",
   "id": "00d9696e",
   "metadata": {},
   "source": [
    "- Indexing    :0 1 2 3 4\n",
    "\n",
    "- String      :H E L L O\n",
    "\n",
    "- Rev.Indexing: -5 -4  -3  -2  -1"
   ]
  },
  {
   "cell_type": "code",
   "execution_count": 30,
   "id": "ae37879d",
   "metadata": {},
   "outputs": [
    {
     "data": {
      "text/plain": [
       "'h'"
      ]
     },
     "execution_count": 30,
     "metadata": {},
     "output_type": "execute_result"
    }
   ],
   "source": [
    "#Indexing\n",
    "a[0]"
   ]
  },
  {
   "cell_type": "code",
   "execution_count": 31,
   "id": "56dd1aa1",
   "metadata": {},
   "outputs": [
    {
     "data": {
      "text/plain": [
       "'o'"
      ]
     },
     "execution_count": 31,
     "metadata": {},
     "output_type": "execute_result"
    }
   ],
   "source": [
    "#Reverse Indexing\n",
    "a[-1]"
   ]
  },
  {
   "cell_type": "code",
   "execution_count": 32,
   "id": "97e71be3",
   "metadata": {},
   "outputs": [
    {
     "data": {
      "text/plain": [
       "'hello'"
      ]
     },
     "execution_count": 32,
     "metadata": {},
     "output_type": "execute_result"
    }
   ],
   "source": [
    "# Slicing\n",
    "# a[start:stop:step]\n",
    "a"
   ]
  },
  {
   "cell_type": "code",
   "execution_count": 33,
   "id": "7ade4c08",
   "metadata": {},
   "outputs": [
    {
     "data": {
      "text/plain": [
       "'hello'"
      ]
     },
     "execution_count": 33,
     "metadata": {},
     "output_type": "execute_result"
    }
   ],
   "source": [
    "a[::]"
   ]
  },
  {
   "cell_type": "code",
   "execution_count": 34,
   "id": "b616dc98",
   "metadata": {},
   "outputs": [
    {
     "data": {
      "text/plain": [
       "'olleh'"
      ]
     },
     "execution_count": 34,
     "metadata": {},
     "output_type": "execute_result"
    }
   ],
   "source": [
    "#Reverse a String\n",
    "a[::-1]"
   ]
  },
  {
   "cell_type": "code",
   "execution_count": 35,
   "id": "831d68d1",
   "metadata": {},
   "outputs": [
    {
     "data": {
      "text/plain": [
       "'he'"
      ]
     },
     "execution_count": 35,
     "metadata": {},
     "output_type": "execute_result"
    }
   ],
   "source": [
    "a[:2]"
   ]
  },
  {
   "cell_type": "code",
   "execution_count": 36,
   "id": "3d7e48da",
   "metadata": {},
   "outputs": [
    {
     "data": {
      "text/plain": [
       "'llo'"
      ]
     },
     "execution_count": 36,
     "metadata": {},
     "output_type": "execute_result"
    }
   ],
   "source": [
    "a[2:]"
   ]
  },
  {
   "cell_type": "code",
   "execution_count": 37,
   "id": "faead905",
   "metadata": {},
   "outputs": [
    {
     "data": {
      "text/plain": [
       "'hlo'"
      ]
     },
     "execution_count": 37,
     "metadata": {},
     "output_type": "execute_result"
    }
   ],
   "source": [
    "a[::2]"
   ]
  },
  {
   "cell_type": "markdown",
   "id": "d3ea747a",
   "metadata": {},
   "source": [
    "#### Immutable"
   ]
  },
  {
   "cell_type": "code",
   "execution_count": 39,
   "id": "d7c3219e",
   "metadata": {},
   "outputs": [
    {
     "data": {
      "text/plain": [
       "'hello'"
      ]
     },
     "execution_count": 39,
     "metadata": {},
     "output_type": "execute_result"
    }
   ],
   "source": [
    "a='hello'\n",
    "a"
   ]
  },
  {
   "cell_type": "code",
   "execution_count": 40,
   "id": "1055cb10",
   "metadata": {},
   "outputs": [
    {
     "data": {
      "text/plain": [
       "'h'"
      ]
     },
     "execution_count": 40,
     "metadata": {},
     "output_type": "execute_result"
    }
   ],
   "source": [
    "a[0]"
   ]
  },
  {
   "cell_type": "code",
   "execution_count": 42,
   "id": "06fd935b",
   "metadata": {},
   "outputs": [
    {
     "ename": "TypeError",
     "evalue": "'str' object does not support item assignment",
     "output_type": "error",
     "traceback": [
      "\u001b[1;31m---------------------------------------------------------------------------\u001b[0m",
      "\u001b[1;31mTypeError\u001b[0m                                 Traceback (most recent call last)",
      "\u001b[1;32m<ipython-input-42-3324cdb3c4a1>\u001b[0m in \u001b[0;36m<module>\u001b[1;34m\u001b[0m\n\u001b[1;32m----> 1\u001b[1;33m \u001b[0ma\u001b[0m\u001b[1;33m[\u001b[0m\u001b[1;36m0\u001b[0m\u001b[1;33m]\u001b[0m\u001b[1;33m=\u001b[0m\u001b[1;34m'k'\u001b[0m \u001b[1;31m# Strings are immutable\u001b[0m\u001b[1;33m\u001b[0m\u001b[1;33m\u001b[0m\u001b[0m\n\u001b[0m",
      "\u001b[1;31mTypeError\u001b[0m: 'str' object does not support item assignment"
     ]
    }
   ],
   "source": [
    "a[0]='k' # Strings are immutable"
   ]
  },
  {
   "cell_type": "markdown",
   "id": "448e7c49",
   "metadata": {},
   "source": [
    "#### concatenation"
   ]
  },
  {
   "cell_type": "code",
   "execution_count": 43,
   "id": "ce095ec6",
   "metadata": {},
   "outputs": [
    {
     "name": "stdout",
     "output_type": "stream",
     "text": [
      "Good Morning\n"
     ]
    }
   ],
   "source": [
    "x='Good'\n",
    "y='Morning'\n",
    "print(x+' '+y)"
   ]
  },
  {
   "cell_type": "markdown",
   "id": "915a64d4",
   "metadata": {},
   "source": [
    "- \\n - new line\n",
    "- \\t - tab\n",
    "- \\\\\" - escape for quotations\n",
    "- \\\\\\ - backslash"
   ]
  },
  {
   "cell_type": "code",
   "execution_count": 44,
   "id": "c5ebea2a",
   "metadata": {},
   "outputs": [
    {
     "name": "stdout",
     "output_type": "stream",
     "text": [
      "Hello \n",
      " Good Morning\n"
     ]
    }
   ],
   "source": [
    "print('Hello \\n Good Morning')"
   ]
  },
  {
   "cell_type": "code",
   "execution_count": 45,
   "id": "eeee2112",
   "metadata": {},
   "outputs": [
    {
     "name": "stdout",
     "output_type": "stream",
     "text": [
      "\t1\t2\t3\t4\n"
     ]
    }
   ],
   "source": [
    "print('\\t1\\t2\\t3\\t4')"
   ]
  },
  {
   "cell_type": "code",
   "execution_count": 51,
   "id": "1abeea33",
   "metadata": {},
   "outputs": [
    {
     "ename": "SyntaxError",
     "evalue": "invalid syntax (<ipython-input-51-f6b803165faf>, line 1)",
     "output_type": "error",
     "traceback": [
      "\u001b[1;36m  File \u001b[1;32m\"<ipython-input-51-f6b803165faf>\"\u001b[1;36m, line \u001b[1;32m1\u001b[0m\n\u001b[1;33m    name='vivek's home'\u001b[0m\n\u001b[1;37m                ^\u001b[0m\n\u001b[1;31mSyntaxError\u001b[0m\u001b[1;31m:\u001b[0m invalid syntax\n"
     ]
    }
   ],
   "source": [
    "name='vivek's home'"
   ]
  },
  {
   "cell_type": "code",
   "execution_count": 52,
   "id": "a60c6512",
   "metadata": {},
   "outputs": [
    {
     "name": "stdout",
     "output_type": "stream",
     "text": [
      "vivek's home\n"
     ]
    }
   ],
   "source": [
    "#Solution1\n",
    "name=\"vivek's home\"\n",
    "print(name)"
   ]
  },
  {
   "cell_type": "code",
   "execution_count": 53,
   "id": "22036976",
   "metadata": {},
   "outputs": [
    {
     "name": "stdout",
     "output_type": "stream",
     "text": [
      "vivek's home\n"
     ]
    }
   ],
   "source": [
    "#Solution2\n",
    "name='vivek\\'s home'\n",
    "print(name)"
   ]
  },
  {
   "cell_type": "code",
   "execution_count": 54,
   "id": "a607739c",
   "metadata": {},
   "outputs": [
    {
     "name": "stdout",
     "output_type": "stream",
     "text": [
      "\\\n"
     ]
    }
   ],
   "source": [
    "print('\\\\')"
   ]
  },
  {
   "cell_type": "code",
   "execution_count": 55,
   "id": "41a1ff70",
   "metadata": {},
   "outputs": [],
   "source": [
    "name='hello world'"
   ]
  },
  {
   "cell_type": "markdown",
   "id": "ec098843",
   "metadata": {},
   "source": [
    "#### title"
   ]
  },
  {
   "cell_type": "code",
   "execution_count": 56,
   "id": "e4aa92d9",
   "metadata": {},
   "outputs": [
    {
     "data": {
      "text/plain": [
       "'Hello World'"
      ]
     },
     "execution_count": 56,
     "metadata": {},
     "output_type": "execute_result"
    }
   ],
   "source": [
    "name.title()"
   ]
  },
  {
   "cell_type": "markdown",
   "id": "af4e7a51",
   "metadata": {},
   "source": [
    "#### capitalize"
   ]
  },
  {
   "cell_type": "code",
   "execution_count": 57,
   "id": "fe730566",
   "metadata": {},
   "outputs": [
    {
     "data": {
      "text/plain": [
       "'Hello world'"
      ]
     },
     "execution_count": 57,
     "metadata": {},
     "output_type": "execute_result"
    }
   ],
   "source": [
    "name.capitalize()"
   ]
  },
  {
   "cell_type": "markdown",
   "id": "7c4e2514",
   "metadata": {},
   "source": [
    "#### lower"
   ]
  },
  {
   "cell_type": "code",
   "execution_count": 58,
   "id": "8f104c25",
   "metadata": {},
   "outputs": [
    {
     "data": {
      "text/plain": [
       "'hello world'"
      ]
     },
     "execution_count": 58,
     "metadata": {},
     "output_type": "execute_result"
    }
   ],
   "source": [
    "name.lower()"
   ]
  },
  {
   "cell_type": "markdown",
   "id": "eda8bba1",
   "metadata": {},
   "source": [
    "#### upper"
   ]
  },
  {
   "cell_type": "code",
   "execution_count": 59,
   "id": "89f3fd99",
   "metadata": {},
   "outputs": [
    {
     "data": {
      "text/plain": [
       "'HELLO WORLD'"
      ]
     },
     "execution_count": 59,
     "metadata": {},
     "output_type": "execute_result"
    }
   ],
   "source": [
    "name.upper()"
   ]
  },
  {
   "cell_type": "markdown",
   "id": "7909b3ad",
   "metadata": {},
   "source": [
    "#### replace"
   ]
  },
  {
   "cell_type": "code",
   "execution_count": 60,
   "id": "a571bc48",
   "metadata": {},
   "outputs": [
    {
     "data": {
      "text/plain": [
       "'hello world'"
      ]
     },
     "execution_count": 60,
     "metadata": {},
     "output_type": "execute_result"
    }
   ],
   "source": [
    "name"
   ]
  },
  {
   "cell_type": "code",
   "execution_count": 61,
   "id": "c278e938",
   "metadata": {},
   "outputs": [
    {
     "data": {
      "text/plain": [
       "'hexxo worxd'"
      ]
     },
     "execution_count": 61,
     "metadata": {},
     "output_type": "execute_result"
    }
   ],
   "source": [
    "name.replace('l','x')"
   ]
  },
  {
   "cell_type": "code",
   "execution_count": 63,
   "id": "f5d8227c",
   "metadata": {},
   "outputs": [
    {
     "data": {
      "text/plain": [
       "'hexlo world'"
      ]
     },
     "execution_count": 63,
     "metadata": {},
     "output_type": "execute_result"
    }
   ],
   "source": [
    "name.replace('l','x',1)#First occurence"
   ]
  },
  {
   "cell_type": "code",
   "execution_count": 64,
   "id": "4ff19323",
   "metadata": {},
   "outputs": [
    {
     "data": {
      "text/plain": [
       "'hexxo world'"
      ]
     },
     "execution_count": 64,
     "metadata": {},
     "output_type": "execute_result"
    }
   ],
   "source": [
    "name.replace('l','x',2)#First two occurence"
   ]
  },
  {
   "cell_type": "code",
   "execution_count": 65,
   "id": "e622c2b3",
   "metadata": {},
   "outputs": [
    {
     "data": {
      "text/plain": [
       "'hexxo worxd'"
      ]
     },
     "execution_count": 65,
     "metadata": {},
     "output_type": "execute_result"
    }
   ],
   "source": [
    "name.replace('l','x',3)#First three occurence"
   ]
  },
  {
   "cell_type": "markdown",
   "id": "726fab67",
   "metadata": {},
   "source": [
    "#### strip\n",
    "- strip(): Removes both leading and trailing whitespaces\n",
    "- rstrip(): Removes trailing whitespaces(right-side) \n",
    "- lstrip(): Removes leading whitespaces(left-side"
   ]
  },
  {
   "cell_type": "code",
   "execution_count": 69,
   "id": "560a3cd0",
   "metadata": {},
   "outputs": [],
   "source": [
    "name=' Vivek Sankaran '"
   ]
  },
  {
   "cell_type": "code",
   "execution_count": 70,
   "id": "95972d66",
   "metadata": {},
   "outputs": [
    {
     "data": {
      "text/plain": [
       "'Vivek Sankaran'"
      ]
     },
     "execution_count": 70,
     "metadata": {},
     "output_type": "execute_result"
    }
   ],
   "source": [
    "name.strip()"
   ]
  },
  {
   "cell_type": "code",
   "execution_count": 71,
   "id": "d1477116",
   "metadata": {},
   "outputs": [
    {
     "data": {
      "text/plain": [
       "' Vivek Sankaran'"
      ]
     },
     "execution_count": 71,
     "metadata": {},
     "output_type": "execute_result"
    }
   ],
   "source": [
    "name.rstrip()"
   ]
  },
  {
   "cell_type": "code",
   "execution_count": 72,
   "id": "f6b4b629",
   "metadata": {},
   "outputs": [
    {
     "data": {
      "text/plain": [
       "'Vivek Sankaran '"
      ]
     },
     "execution_count": 72,
     "metadata": {},
     "output_type": "execute_result"
    }
   ],
   "source": [
    "name.lstrip()"
   ]
  },
  {
   "cell_type": "code",
   "execution_count": 73,
   "id": "933a821a",
   "metadata": {},
   "outputs": [
    {
     "data": {
      "text/plain": [
       "'hello'"
      ]
     },
     "execution_count": 73,
     "metadata": {},
     "output_type": "execute_result"
    }
   ],
   "source": [
    "a='hello'\n",
    "a"
   ]
  },
  {
   "cell_type": "code",
   "execution_count": 74,
   "id": "e1753a52",
   "metadata": {},
   "outputs": [
    {
     "data": {
      "text/plain": [
       "5"
      ]
     },
     "execution_count": 74,
     "metadata": {},
     "output_type": "execute_result"
    }
   ],
   "source": [
    "len(a)"
   ]
  },
  {
   "cell_type": "markdown",
   "id": "ee8d05ea",
   "metadata": {},
   "source": [
    "#### .format"
   ]
  },
  {
   "cell_type": "code",
   "execution_count": 75,
   "id": "e0795e20",
   "metadata": {},
   "outputs": [
    {
     "name": "stdout",
     "output_type": "stream",
     "text": [
      "I am Vijay\n"
     ]
    }
   ],
   "source": [
    "print('I am {}'.format('Vijay'))"
   ]
  },
  {
   "cell_type": "code",
   "execution_count": 76,
   "id": "f7d95aad",
   "metadata": {},
   "outputs": [
    {
     "name": "stdout",
     "output_type": "stream",
     "text": [
      "Vijay is 7 years old\n"
     ]
    }
   ],
   "source": [
    "print('{} is {} years old'.format('Vijay',7))"
   ]
  },
  {
   "cell_type": "code",
   "execution_count": 77,
   "id": "fc7964c2",
   "metadata": {},
   "outputs": [
    {
     "name": "stdout",
     "output_type": "stream",
     "text": [
      "Fruits are apple,banana and cherry\n"
     ]
    }
   ],
   "source": [
    "print('Fruits are {},{} and {}'.format('apple','banana','cherry'))"
   ]
  },
  {
   "cell_type": "code",
   "execution_count": 78,
   "id": "efa156f9",
   "metadata": {},
   "outputs": [
    {
     "name": "stdout",
     "output_type": "stream",
     "text": [
      "Fruits are apple,banana and cherry\n"
     ]
    }
   ],
   "source": [
    "print('Fruits are {0},{1} and {2}'.format('apple','banana','cherry'))#Index"
   ]
  },
  {
   "cell_type": "code",
   "execution_count": 79,
   "id": "886ae709",
   "metadata": {},
   "outputs": [
    {
     "name": "stdout",
     "output_type": "stream",
     "text": [
      "Fruits are cherry,banana and cherry\n"
     ]
    }
   ],
   "source": [
    "print('Fruits are {2},{1} and {2}'.format('apple','banana','cherry'))#Index"
   ]
  },
  {
   "cell_type": "code",
   "execution_count": 80,
   "id": "5a613736",
   "metadata": {},
   "outputs": [
    {
     "name": "stdout",
     "output_type": "stream",
     "text": [
      "Fruits are cherry,banana and apple\n"
     ]
    }
   ],
   "source": [
    "print('Fruits are {2},{1} and {0}'.format('apple','banana','cherry'))#Index"
   ]
  },
  {
   "cell_type": "code",
   "execution_count": 81,
   "id": "e7bd6c88",
   "metadata": {},
   "outputs": [
    {
     "name": "stdout",
     "output_type": "stream",
     "text": [
      "Fruits are banana,cherry and apple\n"
     ]
    }
   ],
   "source": [
    "print('Fruits are {b},{c} and {a}'.format(a='apple',b='banana',c='cherry'))#keyword"
   ]
  },
  {
   "cell_type": "markdown",
   "id": "7cede073",
   "metadata": {},
   "source": [
    "#### float formatting[Value:width.precision f]"
   ]
  },
  {
   "cell_type": "code",
   "execution_count": 82,
   "id": "4fc042b1",
   "metadata": {},
   "outputs": [
    {
     "name": "stdout",
     "output_type": "stream",
     "text": [
      "3.142857142857143\n"
     ]
    }
   ],
   "source": [
    "pie=22/7\n",
    "print(pie)"
   ]
  },
  {
   "cell_type": "code",
   "execution_count": 85,
   "id": "cfda750d",
   "metadata": {},
   "outputs": [
    {
     "name": "stdout",
     "output_type": "stream",
     "text": [
      "The Value is 3.14\n"
     ]
    }
   ],
   "source": [
    "print('The Value is {:.2f}'.format(pie))"
   ]
  },
  {
   "cell_type": "code",
   "execution_count": 86,
   "id": "ee282420",
   "metadata": {},
   "outputs": [
    {
     "name": "stdout",
     "output_type": "stream",
     "text": [
      "The Value is                      3.14\n"
     ]
    }
   ],
   "source": [
    "print('The Value is {p:25.2f}'.format(p=pie))"
   ]
  },
  {
   "cell_type": "markdown",
   "id": "6141ffbe",
   "metadata": {},
   "source": [
    "#### f-strings(formatted string literals)"
   ]
  },
  {
   "cell_type": "code",
   "execution_count": 87,
   "id": "81eaa895",
   "metadata": {},
   "outputs": [],
   "source": [
    "name='Vijay'\n",
    "place='Goa'\n",
    "temperature=25"
   ]
  },
  {
   "cell_type": "code",
   "execution_count": 88,
   "id": "1d5f6e35",
   "metadata": {},
   "outputs": [
    {
     "name": "stdout",
     "output_type": "stream",
     "text": [
      "The name is Vijay,place is Goa,temperature is 25\n"
     ]
    }
   ],
   "source": [
    "print(f'The name is {name},place is {place},temperature is {temperature}')"
   ]
  },
  {
   "cell_type": "code",
   "execution_count": 89,
   "id": "36e699a8",
   "metadata": {},
   "outputs": [
    {
     "name": "stdout",
     "output_type": "stream",
     "text": [
      "The name is Vijay,place is Goa,temperature is 25\n"
     ]
    }
   ],
   "source": [
    "print(F'The name is {name},place is {place},temperature is {temperature}')"
   ]
  },
  {
   "cell_type": "code",
   "execution_count": 90,
   "id": "c9f7cb73",
   "metadata": {},
   "outputs": [
    {
     "name": "stdout",
     "output_type": "stream",
     "text": [
      "The name is Vijay,place is Goa,temperature is 25\n"
     ]
    }
   ],
   "source": [
    "print(F\"The name is {name},place is {place},temperature is {temperature}\")"
   ]
  },
  {
   "cell_type": "markdown",
   "id": "a8aa2ce9",
   "metadata": {},
   "source": [
    "#### input function"
   ]
  },
  {
   "cell_type": "code",
   "execution_count": 350,
   "id": "bae46b22",
   "metadata": {},
   "outputs": [
    {
     "name": "stdout",
     "output_type": "stream",
     "text": [
      "Enter a Number:10\n",
      "10\n"
     ]
    },
    {
     "data": {
      "text/plain": [
       "str"
      ]
     },
     "execution_count": 350,
     "metadata": {},
     "output_type": "execute_result"
    }
   ],
   "source": [
    "n=input('Enter a Number:')\n",
    "print(n)\n",
    "type(n)"
   ]
  },
  {
   "cell_type": "code",
   "execution_count": 351,
   "id": "4328be08",
   "metadata": {},
   "outputs": [
    {
     "name": "stdout",
     "output_type": "stream",
     "text": [
      "Enter a Number:10\n",
      "10\n"
     ]
    },
    {
     "data": {
      "text/plain": [
       "int"
      ]
     },
     "execution_count": 351,
     "metadata": {},
     "output_type": "execute_result"
    }
   ],
   "source": [
    "n=int(input('Enter a Number:'))\n",
    "print(n)\n",
    "type(n)"
   ]
  },
  {
   "cell_type": "code",
   "execution_count": 352,
   "id": "786c57ff",
   "metadata": {},
   "outputs": [
    {
     "name": "stdout",
     "output_type": "stream",
     "text": [
      "Enter a Number:10\n",
      "10.0\n"
     ]
    },
    {
     "data": {
      "text/plain": [
       "float"
      ]
     },
     "execution_count": 352,
     "metadata": {},
     "output_type": "execute_result"
    }
   ],
   "source": [
    "n=float(input('Enter a Number:'))\n",
    "print(n)\n",
    "type(n)"
   ]
  },
  {
   "cell_type": "markdown",
   "id": "578f9e32",
   "metadata": {},
   "source": [
    "# Data Structures\n",
    "- List\n",
    "- Dictionary\n",
    "- Tuple\n",
    "- Set"
   ]
  },
  {
   "cell_type": "markdown",
   "id": "27d8c977",
   "metadata": {},
   "source": [
    "# List\n",
    "- [   ] or list()\n",
    "- supports indexing/slicing\n",
    "- mutable\n",
    "- contain all datatypes"
   ]
  },
  {
   "cell_type": "code",
   "execution_count": 91,
   "id": "c10f9590",
   "metadata": {},
   "outputs": [
    {
     "name": "stdout",
     "output_type": "stream",
     "text": [
      "[]\n"
     ]
    },
    {
     "data": {
      "text/plain": [
       "list"
      ]
     },
     "execution_count": 91,
     "metadata": {},
     "output_type": "execute_result"
    }
   ],
   "source": [
    "l=[]\n",
    "print(l)\n",
    "type(l)"
   ]
  },
  {
   "cell_type": "code",
   "execution_count": 92,
   "id": "7ae416f4",
   "metadata": {},
   "outputs": [
    {
     "data": {
      "text/plain": [
       "[100, 24.5, 'hello', [1, 2, 3], {'K1': 100}, (1, 2, 3), {1, 2, 3}, True]"
      ]
     },
     "execution_count": 92,
     "metadata": {},
     "output_type": "execute_result"
    }
   ],
   "source": [
    "# It contain all datatypes\n",
    "l=[100,24.5,'hello',[1,2,3],{'K1':100},(1,2,3),{1,2,3},True]\n",
    "l"
   ]
  },
  {
   "cell_type": "code",
   "execution_count": 97,
   "id": "5c4bbc63",
   "metadata": {},
   "outputs": [
    {
     "name": "stdout",
     "output_type": "stream",
     "text": [
      "Value=100,            Type=<class 'int'>\n",
      "Value=24.5,            Type=<class 'float'>\n",
      "Value=hello,            Type=<class 'str'>\n",
      "Value=[1, 2, 3],            Type=<class 'list'>\n",
      "Value={'K1': 100},            Type=<class 'dict'>\n",
      "Value=(1, 2, 3),            Type=<class 'tuple'>\n",
      "Value={1, 2, 3},            Type=<class 'set'>\n",
      "Value=True,            Type=<class 'bool'>\n"
     ]
    }
   ],
   "source": [
    "for i in l:\n",
    "    print(f'Value={i},            Type={i.__class__}')"
   ]
  },
  {
   "cell_type": "markdown",
   "id": "5c24a8de",
   "metadata": {},
   "source": [
    "#### Indexing and slicing"
   ]
  },
  {
   "cell_type": "code",
   "execution_count": 98,
   "id": "bfee4528",
   "metadata": {},
   "outputs": [
    {
     "data": {
      "text/plain": [
       "[100, 24.5, 'hello', [1, 2, 3], {'K1': 100}, (1, 2, 3), {1, 2, 3}, True]"
      ]
     },
     "execution_count": 98,
     "metadata": {},
     "output_type": "execute_result"
    }
   ],
   "source": [
    "#Indexing\n",
    "l"
   ]
  },
  {
   "cell_type": "code",
   "execution_count": 99,
   "id": "8780f024",
   "metadata": {},
   "outputs": [
    {
     "data": {
      "text/plain": [
       "100"
      ]
     },
     "execution_count": 99,
     "metadata": {},
     "output_type": "execute_result"
    }
   ],
   "source": [
    "l[0]"
   ]
  },
  {
   "cell_type": "code",
   "execution_count": 100,
   "id": "b3b5cd59",
   "metadata": {},
   "outputs": [
    {
     "data": {
      "text/plain": [
       "True"
      ]
     },
     "execution_count": 100,
     "metadata": {},
     "output_type": "execute_result"
    }
   ],
   "source": [
    "# Reverse Indexing\n",
    "l[-1]"
   ]
  },
  {
   "cell_type": "code",
   "execution_count": 101,
   "id": "57b6f0f5",
   "metadata": {},
   "outputs": [
    {
     "data": {
      "text/plain": [
       "[100, 24.5, 'hello', [1, 2, 3], {'K1': 100}, (1, 2, 3), {1, 2, 3}, True]"
      ]
     },
     "execution_count": 101,
     "metadata": {},
     "output_type": "execute_result"
    }
   ],
   "source": [
    "# Slicing\n",
    "l"
   ]
  },
  {
   "cell_type": "code",
   "execution_count": 102,
   "id": "f6aa06e8",
   "metadata": {},
   "outputs": [
    {
     "data": {
      "text/plain": [
       "[100, 24.5, 'hello', [1, 2, 3], {'K1': 100}, (1, 2, 3), {1, 2, 3}, True]"
      ]
     },
     "execution_count": 102,
     "metadata": {},
     "output_type": "execute_result"
    }
   ],
   "source": [
    "l[::]"
   ]
  },
  {
   "cell_type": "code",
   "execution_count": 103,
   "id": "82e86bea",
   "metadata": {},
   "outputs": [
    {
     "data": {
      "text/plain": [
       "[True, {1, 2, 3}, (1, 2, 3), {'K1': 100}, [1, 2, 3], 'hello', 24.5, 100]"
      ]
     },
     "execution_count": 103,
     "metadata": {},
     "output_type": "execute_result"
    }
   ],
   "source": [
    "l[::-1]#Reverse a List"
   ]
  },
  {
   "cell_type": "code",
   "execution_count": 104,
   "id": "3349b889",
   "metadata": {},
   "outputs": [
    {
     "data": {
      "text/plain": [
       "[100, 24.5]"
      ]
     },
     "execution_count": 104,
     "metadata": {},
     "output_type": "execute_result"
    }
   ],
   "source": [
    "l[:2]"
   ]
  },
  {
   "cell_type": "code",
   "execution_count": 105,
   "id": "3ac0ab05",
   "metadata": {},
   "outputs": [
    {
     "data": {
      "text/plain": [
       "['hello', [1, 2, 3], {'K1': 100}, (1, 2, 3), {1, 2, 3}, True]"
      ]
     },
     "execution_count": 105,
     "metadata": {},
     "output_type": "execute_result"
    }
   ],
   "source": [
    "l[2:]"
   ]
  },
  {
   "cell_type": "code",
   "execution_count": 106,
   "id": "f445bd18",
   "metadata": {},
   "outputs": [
    {
     "data": {
      "text/plain": [
       "[100, 'hello', {'K1': 100}, {1, 2, 3}]"
      ]
     },
     "execution_count": 106,
     "metadata": {},
     "output_type": "execute_result"
    }
   ],
   "source": [
    "l[::2]"
   ]
  },
  {
   "cell_type": "markdown",
   "id": "179a9113",
   "metadata": {},
   "source": [
    "#### Functions\n",
    "- insert()\n",
    "- append()\n",
    "- remove()\n",
    "- pop() --- By default,it removes the last item from the list.If index is specificed,it removes the index location value\n",
    "- extend()\n",
    "- index()\n",
    "- sort() --- It make the change permanent (ASC:reverse=False,DESC:reverse=True)\n",
    "- Sorted() --- It does not make the change permanent (ASC:reverse=False,DESC:reverse=True)\n",
    "- reverse() --- It make the change permanent\n",
    "- reversed() --- It does not make the change permanent\n",
    "- copy()\n",
    "- clear()\n",
    "- count() --- Get a value count in a list\n",
    "- del"
   ]
  },
  {
   "cell_type": "markdown",
   "id": "7be288cb",
   "metadata": {},
   "source": [
    "#### insert()"
   ]
  },
  {
   "cell_type": "code",
   "execution_count": 117,
   "id": "e7e92b55",
   "metadata": {},
   "outputs": [],
   "source": [
    "l=[1,2.5,'Hello']"
   ]
  },
  {
   "cell_type": "code",
   "execution_count": 118,
   "id": "e7cb0cf8",
   "metadata": {},
   "outputs": [],
   "source": [
    "l.insert(1,True)"
   ]
  },
  {
   "cell_type": "code",
   "execution_count": 119,
   "id": "aaa1570a",
   "metadata": {},
   "outputs": [
    {
     "data": {
      "text/plain": [
       "[1, True, 2.5, 'Hello']"
      ]
     },
     "execution_count": 119,
     "metadata": {},
     "output_type": "execute_result"
    }
   ],
   "source": [
    "l"
   ]
  },
  {
   "cell_type": "markdown",
   "id": "d8936d87",
   "metadata": {},
   "source": [
    "#### append()"
   ]
  },
  {
   "cell_type": "code",
   "execution_count": 120,
   "id": "16adeace",
   "metadata": {},
   "outputs": [],
   "source": [
    "l.append(555)"
   ]
  },
  {
   "cell_type": "code",
   "execution_count": 121,
   "id": "306656a0",
   "metadata": {},
   "outputs": [
    {
     "data": {
      "text/plain": [
       "[1, True, 2.5, 'Hello', 555]"
      ]
     },
     "execution_count": 121,
     "metadata": {},
     "output_type": "execute_result"
    }
   ],
   "source": [
    "l"
   ]
  },
  {
   "cell_type": "markdown",
   "id": "4834e0ec",
   "metadata": {},
   "source": [
    "#### remove()"
   ]
  },
  {
   "cell_type": "code",
   "execution_count": 122,
   "id": "aa8b7798",
   "metadata": {},
   "outputs": [],
   "source": [
    "l.remove(555)"
   ]
  },
  {
   "cell_type": "code",
   "execution_count": 123,
   "id": "e2d4ef5a",
   "metadata": {},
   "outputs": [
    {
     "data": {
      "text/plain": [
       "[1, True, 2.5, 'Hello']"
      ]
     },
     "execution_count": 123,
     "metadata": {},
     "output_type": "execute_result"
    }
   ],
   "source": [
    "l"
   ]
  },
  {
   "cell_type": "markdown",
   "id": "a70b8275",
   "metadata": {},
   "source": [
    "#### pop()"
   ]
  },
  {
   "cell_type": "code",
   "execution_count": 124,
   "id": "724b9395",
   "metadata": {},
   "outputs": [
    {
     "data": {
      "text/plain": [
       "'Hello'"
      ]
     },
     "execution_count": 124,
     "metadata": {},
     "output_type": "execute_result"
    }
   ],
   "source": [
    "l.pop()"
   ]
  },
  {
   "cell_type": "code",
   "execution_count": 125,
   "id": "11dbb2db",
   "metadata": {},
   "outputs": [
    {
     "data": {
      "text/plain": [
       "[1, True, 2.5]"
      ]
     },
     "execution_count": 125,
     "metadata": {},
     "output_type": "execute_result"
    }
   ],
   "source": [
    "l"
   ]
  },
  {
   "cell_type": "code",
   "execution_count": 126,
   "id": "bb30e19f",
   "metadata": {},
   "outputs": [
    {
     "data": {
      "text/plain": [
       "True"
      ]
     },
     "execution_count": 126,
     "metadata": {},
     "output_type": "execute_result"
    }
   ],
   "source": [
    "l.pop(1)"
   ]
  },
  {
   "cell_type": "code",
   "execution_count": 127,
   "id": "88eb4f24",
   "metadata": {},
   "outputs": [
    {
     "data": {
      "text/plain": [
       "[1, 2.5]"
      ]
     },
     "execution_count": 127,
     "metadata": {},
     "output_type": "execute_result"
    }
   ],
   "source": [
    "l"
   ]
  },
  {
   "cell_type": "markdown",
   "id": "d81b0207",
   "metadata": {},
   "source": [
    "#### extend()"
   ]
  },
  {
   "cell_type": "code",
   "execution_count": 128,
   "id": "28282d0c",
   "metadata": {},
   "outputs": [],
   "source": [
    "l1=[1,2,3,4,]\n",
    "l2=['a','b','c']"
   ]
  },
  {
   "cell_type": "code",
   "execution_count": 130,
   "id": "177831e6",
   "metadata": {},
   "outputs": [
    {
     "data": {
      "text/plain": [
       "[1, 2, 3, 4, 'a', 'b', 'c']"
      ]
     },
     "execution_count": 130,
     "metadata": {},
     "output_type": "execute_result"
    }
   ],
   "source": [
    "#Concatenation\n",
    "l3=l1+l2\n",
    "l3"
   ]
  },
  {
   "cell_type": "code",
   "execution_count": 131,
   "id": "9b3eb5f4",
   "metadata": {},
   "outputs": [],
   "source": [
    "#extend\n",
    "l1.extend(l2)"
   ]
  },
  {
   "cell_type": "code",
   "execution_count": 132,
   "id": "22e1f269",
   "metadata": {},
   "outputs": [
    {
     "data": {
      "text/plain": [
       "[1, 2, 3, 4, 'a', 'b', 'c']"
      ]
     },
     "execution_count": 132,
     "metadata": {},
     "output_type": "execute_result"
    }
   ],
   "source": [
    "l1"
   ]
  },
  {
   "cell_type": "code",
   "execution_count": 133,
   "id": "1f9a5039",
   "metadata": {},
   "outputs": [
    {
     "data": {
      "text/plain": [
       "['a', 'b', 'c']"
      ]
     },
     "execution_count": 133,
     "metadata": {},
     "output_type": "execute_result"
    }
   ],
   "source": [
    "l2"
   ]
  },
  {
   "cell_type": "markdown",
   "id": "882330e2",
   "metadata": {},
   "source": [
    "#### index"
   ]
  },
  {
   "cell_type": "code",
   "execution_count": 138,
   "id": "6239603f",
   "metadata": {},
   "outputs": [],
   "source": [
    "l=[1,2.5,'Hello',True]"
   ]
  },
  {
   "cell_type": "code",
   "execution_count": 139,
   "id": "a5287176",
   "metadata": {},
   "outputs": [
    {
     "name": "stdout",
     "output_type": "stream",
     "text": [
      "Index of 1 is 0\n",
      "Index of 2.5 is 1\n",
      "Index of Hello is 2\n",
      "Index of True is 0\n"
     ]
    }
   ],
   "source": [
    "for i in l:\n",
    "    print(f'Index of {i} is {l.index(i)}')"
   ]
  },
  {
   "cell_type": "markdown",
   "id": "7af112b9",
   "metadata": {},
   "source": [
    "#### sort()\n",
    "- It make the change permanent\n",
    "- ASC: reverse=False\n",
    "- DESC:reverse=True    "
   ]
  },
  {
   "cell_type": "code",
   "execution_count": 143,
   "id": "46640bd2",
   "metadata": {},
   "outputs": [
    {
     "data": {
      "text/plain": [
       "[5, 4, 3, 2, 1, 6, 8, 7, 9, 10]"
      ]
     },
     "execution_count": 143,
     "metadata": {},
     "output_type": "execute_result"
    }
   ],
   "source": [
    "l=[5,4,3,2,1,6,8,7,9,10]\n",
    "l"
   ]
  },
  {
   "cell_type": "code",
   "execution_count": 144,
   "id": "e3e2fa17",
   "metadata": {},
   "outputs": [],
   "source": [
    "l.sort()# By default:ASC"
   ]
  },
  {
   "cell_type": "code",
   "execution_count": 147,
   "id": "b95c9b4b",
   "metadata": {},
   "outputs": [
    {
     "data": {
      "text/plain": [
       "[1, 2, 3, 4, 5, 6, 7, 8, 9, 10]"
      ]
     },
     "execution_count": 147,
     "metadata": {},
     "output_type": "execute_result"
    }
   ],
   "source": [
    "l"
   ]
  },
  {
   "cell_type": "code",
   "execution_count": 149,
   "id": "a56b6710",
   "metadata": {},
   "outputs": [
    {
     "data": {
      "text/plain": [
       "[1, 2, 3, 4, 5, 6, 7, 8, 9, 10]"
      ]
     },
     "execution_count": 149,
     "metadata": {},
     "output_type": "execute_result"
    }
   ],
   "source": [
    "l.sort(reverse=False)#ASC\n",
    "l"
   ]
  },
  {
   "cell_type": "code",
   "execution_count": 150,
   "id": "6940526f",
   "metadata": {},
   "outputs": [
    {
     "data": {
      "text/plain": [
       "[10, 9, 8, 7, 6, 5, 4, 3, 2, 1]"
      ]
     },
     "execution_count": 150,
     "metadata": {},
     "output_type": "execute_result"
    }
   ],
   "source": [
    "l.sort(reverse=True)#DESC\n",
    "l"
   ]
  },
  {
   "cell_type": "markdown",
   "id": "8382e9d1",
   "metadata": {},
   "source": [
    "#### sorted()\n",
    "- It does not make the change permanent\n",
    "- ASC:reverse=False\n",
    "- DESC:reverse=True    "
   ]
  },
  {
   "cell_type": "code",
   "execution_count": 151,
   "id": "fa101d49",
   "metadata": {},
   "outputs": [
    {
     "data": {
      "text/plain": [
       "[4, 3, 2, 1, 5, 6, 8, 7, 10, 9]"
      ]
     },
     "execution_count": 151,
     "metadata": {},
     "output_type": "execute_result"
    }
   ],
   "source": [
    "l=[4,3,2,1,5,6,8,7,10,9]\n",
    "l"
   ]
  },
  {
   "cell_type": "code",
   "execution_count": 153,
   "id": "39346c1d",
   "metadata": {},
   "outputs": [
    {
     "data": {
      "text/plain": [
       "[1, 2, 3, 4, 5, 6, 7, 8, 9, 10]"
      ]
     },
     "execution_count": 153,
     "metadata": {},
     "output_type": "execute_result"
    }
   ],
   "source": [
    "sorted(l)# By default ASC"
   ]
  },
  {
   "cell_type": "code",
   "execution_count": 155,
   "id": "c1df4115",
   "metadata": {},
   "outputs": [
    {
     "data": {
      "text/plain": [
       "[4, 3, 2, 1, 5, 6, 8, 7, 10, 9]"
      ]
     },
     "execution_count": 155,
     "metadata": {},
     "output_type": "execute_result"
    }
   ],
   "source": [
    "l"
   ]
  },
  {
   "cell_type": "code",
   "execution_count": 159,
   "id": "1ba1146c",
   "metadata": {},
   "outputs": [
    {
     "data": {
      "text/plain": [
       "[1, 2, 3, 4, 5, 6, 7, 8, 9, 10]"
      ]
     },
     "execution_count": 159,
     "metadata": {},
     "output_type": "execute_result"
    }
   ],
   "source": [
    "sorted(l,reverse=False)# ASC"
   ]
  },
  {
   "cell_type": "code",
   "execution_count": 160,
   "id": "f5bd94c3",
   "metadata": {},
   "outputs": [
    {
     "data": {
      "text/plain": [
       "[10, 9, 8, 7, 6, 5, 4, 3, 2, 1]"
      ]
     },
     "execution_count": 160,
     "metadata": {},
     "output_type": "execute_result"
    }
   ],
   "source": [
    "sorted(l,reverse=True)#DESC"
   ]
  },
  {
   "cell_type": "markdown",
   "id": "9b2acb84",
   "metadata": {},
   "source": [
    "#### reverse()\n",
    "- It make the change permanent"
   ]
  },
  {
   "cell_type": "code",
   "execution_count": 172,
   "id": "642fd236",
   "metadata": {},
   "outputs": [
    {
     "data": {
      "text/plain": [
       "[4, 3, 2, 1, 5, 6, 8, 7, 10, 9]"
      ]
     },
     "execution_count": 172,
     "metadata": {},
     "output_type": "execute_result"
    }
   ],
   "source": [
    "l"
   ]
  },
  {
   "cell_type": "code",
   "execution_count": 173,
   "id": "ec5c6fba",
   "metadata": {},
   "outputs": [],
   "source": [
    "l.reverse()"
   ]
  },
  {
   "cell_type": "code",
   "execution_count": 174,
   "id": "8dc43f11",
   "metadata": {},
   "outputs": [
    {
     "data": {
      "text/plain": [
       "[9, 10, 7, 8, 6, 5, 1, 2, 3, 4]"
      ]
     },
     "execution_count": 174,
     "metadata": {},
     "output_type": "execute_result"
    }
   ],
   "source": [
    "l"
   ]
  },
  {
   "cell_type": "markdown",
   "id": "ec770b25",
   "metadata": {},
   "source": [
    "#### reversed()\n",
    "- It does not make the change permanent"
   ]
  },
  {
   "cell_type": "code",
   "execution_count": 179,
   "id": "3ff94729",
   "metadata": {},
   "outputs": [
    {
     "data": {
      "text/plain": [
       "[9, 10, 7, 8, 6, 5, 1, 2, 3, 4]"
      ]
     },
     "execution_count": 179,
     "metadata": {},
     "output_type": "execute_result"
    }
   ],
   "source": [
    "l"
   ]
  },
  {
   "cell_type": "code",
   "execution_count": 180,
   "id": "0a107b24",
   "metadata": {},
   "outputs": [
    {
     "data": {
      "text/plain": [
       "[4, 3, 2, 1, 5, 6, 8, 7, 10, 9]"
      ]
     },
     "execution_count": 180,
     "metadata": {},
     "output_type": "execute_result"
    }
   ],
   "source": [
    "list(reversed(l))"
   ]
  },
  {
   "cell_type": "code",
   "execution_count": 181,
   "id": "47197a1e",
   "metadata": {},
   "outputs": [
    {
     "data": {
      "text/plain": [
       "[9, 10, 7, 8, 6, 5, 1, 2, 3, 4]"
      ]
     },
     "execution_count": 181,
     "metadata": {},
     "output_type": "execute_result"
    }
   ],
   "source": [
    "l"
   ]
  },
  {
   "cell_type": "markdown",
   "id": "20c59826",
   "metadata": {},
   "source": [
    "#### copy()"
   ]
  },
  {
   "cell_type": "code",
   "execution_count": 182,
   "id": "0b5466af",
   "metadata": {},
   "outputs": [
    {
     "name": "stdout",
     "output_type": "stream",
     "text": [
      "Without Copy:\n",
      "a:[1, 2, 3, 4]\n",
      "b:[1, 2, 3, 4]\n",
      "After append 1000 into b\n",
      "a:[1, 2, 3, 4, 1000]\n",
      "b:[1, 2, 3, 4, 1000]\n"
     ]
    }
   ],
   "source": [
    "print('Without Copy:')\n",
    "a=[1,2,3,4]\n",
    "b=a\n",
    "print(f'a:{a}')\n",
    "print(f'b:{b}')\n",
    "print('After append 1000 into b')\n",
    "b.append(1000)\n",
    "print(f'a:{a}')\n",
    "print(f'b:{b}')\n"
   ]
  },
  {
   "cell_type": "code",
   "execution_count": 184,
   "id": "554df8ce",
   "metadata": {},
   "outputs": [
    {
     "name": "stdout",
     "output_type": "stream",
     "text": [
      "With Copy:\n",
      "a:[1, 2, 3, 4]\n",
      "b:[1, 2, 3, 4]\n",
      "After append 1000 into b\n",
      "a:[1, 2, 3, 4]\n",
      "b:[1, 2, 3, 4, 1000]\n"
     ]
    }
   ],
   "source": [
    "print('With Copy:')\n",
    "a=[1,2,3,4]\n",
    "b=a.copy()\n",
    "print(f'a:{a}')\n",
    "print(f'b:{b}')\n",
    "print('After append 1000 into b')\n",
    "b.append(1000)\n",
    "print(f'a:{a}')\n",
    "print(f'b:{b}')"
   ]
  },
  {
   "cell_type": "markdown",
   "id": "35156308",
   "metadata": {},
   "source": [
    "#### count()"
   ]
  },
  {
   "cell_type": "code",
   "execution_count": 186,
   "id": "725af515",
   "metadata": {},
   "outputs": [
    {
     "name": "stdout",
     "output_type": "stream",
     "text": [
      "Value=1,count=1\n",
      "Value=2,count=2\n",
      "Value=3,count=3\n",
      "Value=4,count=2\n",
      "Value=5,count=3\n"
     ]
    }
   ],
   "source": [
    "l=[1,2,2,3,3,3,4,4,5,5,5]\n",
    "for i in set(l):\n",
    "    print(f'Value={i},count={l.count(i)}')"
   ]
  },
  {
   "cell_type": "markdown",
   "id": "05bf6db2",
   "metadata": {},
   "source": [
    "#### clear()"
   ]
  },
  {
   "cell_type": "code",
   "execution_count": 187,
   "id": "e6e868eb",
   "metadata": {},
   "outputs": [
    {
     "data": {
      "text/plain": [
       "[1, 2, 3, 4, 5, 6]"
      ]
     },
     "execution_count": 187,
     "metadata": {},
     "output_type": "execute_result"
    }
   ],
   "source": [
    "l=[1,2,3,4,5,6]\n",
    "l"
   ]
  },
  {
   "cell_type": "code",
   "execution_count": 188,
   "id": "5fdb3db4",
   "metadata": {},
   "outputs": [],
   "source": [
    "l.clear()"
   ]
  },
  {
   "cell_type": "code",
   "execution_count": 189,
   "id": "f23bebc5",
   "metadata": {},
   "outputs": [
    {
     "data": {
      "text/plain": [
       "[]"
      ]
     },
     "execution_count": 189,
     "metadata": {},
     "output_type": "execute_result"
    }
   ],
   "source": [
    "l"
   ]
  },
  {
   "cell_type": "code",
   "execution_count": 190,
   "id": "adda2f1b",
   "metadata": {},
   "outputs": [
    {
     "data": {
      "text/plain": [
       "list"
      ]
     },
     "execution_count": 190,
     "metadata": {},
     "output_type": "execute_result"
    }
   ],
   "source": [
    "type(l)"
   ]
  },
  {
   "cell_type": "markdown",
   "id": "26d75b6c",
   "metadata": {},
   "source": [
    "#### del"
   ]
  },
  {
   "cell_type": "code",
   "execution_count": 191,
   "id": "9992f8d3",
   "metadata": {},
   "outputs": [
    {
     "data": {
      "text/plain": [
       "[1, 2, 3, 4, 5]"
      ]
     },
     "execution_count": 191,
     "metadata": {},
     "output_type": "execute_result"
    }
   ],
   "source": [
    "l=[1,2,3,4,5]\n",
    "l"
   ]
  },
  {
   "cell_type": "code",
   "execution_count": 192,
   "id": "6bab81e5",
   "metadata": {},
   "outputs": [],
   "source": [
    "del l"
   ]
  },
  {
   "cell_type": "code",
   "execution_count": 193,
   "id": "b007b511",
   "metadata": {},
   "outputs": [
    {
     "ename": "NameError",
     "evalue": "name 'l' is not defined",
     "output_type": "error",
     "traceback": [
      "\u001b[1;31m---------------------------------------------------------------------------\u001b[0m",
      "\u001b[1;31mNameError\u001b[0m                                 Traceback (most recent call last)",
      "\u001b[1;32m<ipython-input-193-cde25b5e10ad>\u001b[0m in \u001b[0;36m<module>\u001b[1;34m\u001b[0m\n\u001b[1;32m----> 1\u001b[1;33m \u001b[0ml\u001b[0m\u001b[1;33m\u001b[0m\u001b[1;33m\u001b[0m\u001b[0m\n\u001b[0m",
      "\u001b[1;31mNameError\u001b[0m: name 'l' is not defined"
     ]
    }
   ],
   "source": [
    "l"
   ]
  },
  {
   "cell_type": "markdown",
   "id": "828bf646",
   "metadata": {},
   "source": [
    "### Dictionary\n",
    "- dict() or { }\n",
    "- Key Value Pair\n",
    "- Dictionary Key is a Word\n",
    "- Dictionary Value is a meaning \n",
    "- Two words have same meaning.But the same word does not have two meaning\n",
    "- Mutable\n",
    "- Contain all datatypes"
   ]
  },
  {
   "cell_type": "code",
   "execution_count": 194,
   "id": "25f0cf5d",
   "metadata": {},
   "outputs": [
    {
     "data": {
      "text/plain": [
       "dict"
      ]
     },
     "execution_count": 194,
     "metadata": {},
     "output_type": "execute_result"
    }
   ],
   "source": [
    "d=dict()\n",
    "type(d)"
   ]
  },
  {
   "cell_type": "code",
   "execution_count": 195,
   "id": "9dd5a1bb",
   "metadata": {},
   "outputs": [
    {
     "data": {
      "text/plain": [
       "dict"
      ]
     },
     "execution_count": 195,
     "metadata": {},
     "output_type": "execute_result"
    }
   ],
   "source": [
    "d={}\n",
    "type(d)"
   ]
  },
  {
   "cell_type": "code",
   "execution_count": 196,
   "id": "200e32c0",
   "metadata": {},
   "outputs": [],
   "source": [
    "# Contain all datatypes\n",
    "d={'K1':100,\n",
    "   'K2':24.5,\n",
    "   'K3':'Hello',\n",
    "   'K4':[1,2,3],\n",
    "   'K5':{'Apple':2},\n",
    "   'K6':(1,2,3),\n",
    "   'K7':{1,2,3},\n",
    "   'K8':True}"
   ]
  },
  {
   "cell_type": "code",
   "execution_count": 198,
   "id": "1c1d3f30",
   "metadata": {},
   "outputs": [
    {
     "name": "stdout",
     "output_type": "stream",
     "text": [
      "Value =100,           Type=<class 'int'>\n",
      "Value =24.5,           Type=<class 'float'>\n",
      "Value =Hello,           Type=<class 'str'>\n",
      "Value =[1, 2, 3],           Type=<class 'list'>\n",
      "Value ={'Apple': 2},           Type=<class 'dict'>\n",
      "Value =(1, 2, 3),           Type=<class 'tuple'>\n",
      "Value ={1, 2, 3},           Type=<class 'set'>\n",
      "Value =True,           Type=<class 'bool'>\n"
     ]
    }
   ],
   "source": [
    "for i,j in d.items():\n",
    "    print(f'Value ={j},           Type={type(d.get(i))}')"
   ]
  },
  {
   "cell_type": "markdown",
   "id": "9cdf50c7",
   "metadata": {},
   "source": [
    "#### Functions\n",
    "- keys()\n",
    "- values()\n",
    "- items()\n",
    "- pop() --- Key should mention here\n",
    "- popitem() --- By default,it removes the last key value pair in a dictionary\n",
    "- get() --- Access a value using key\n",
    "- update()\n",
    "- zip()\n",
    "- sorted()\n",
    "- clear()\n",
    "- del"
   ]
  },
  {
   "cell_type": "markdown",
   "id": "72fb6e47",
   "metadata": {},
   "source": [
    "#### keys()"
   ]
  },
  {
   "cell_type": "code",
   "execution_count": 199,
   "id": "d5c5d54a",
   "metadata": {},
   "outputs": [
    {
     "data": {
      "text/plain": [
       "{'K1': 100,\n",
       " 'K2': 24.5,\n",
       " 'K3': 'Hello',\n",
       " 'K4': [1, 2, 3],\n",
       " 'K5': {'Apple': 2},\n",
       " 'K6': (1, 2, 3),\n",
       " 'K7': {1, 2, 3},\n",
       " 'K8': True}"
      ]
     },
     "execution_count": 199,
     "metadata": {},
     "output_type": "execute_result"
    }
   ],
   "source": [
    "d"
   ]
  },
  {
   "cell_type": "code",
   "execution_count": 203,
   "id": "fc73f26e",
   "metadata": {},
   "outputs": [
    {
     "data": {
      "text/plain": [
       "dict_keys(['K1', 'K2', 'K3', 'K4', 'K5', 'K6', 'K7', 'K8'])"
      ]
     },
     "execution_count": 203,
     "metadata": {},
     "output_type": "execute_result"
    }
   ],
   "source": [
    "d.keys()"
   ]
  },
  {
   "cell_type": "markdown",
   "id": "4324143b",
   "metadata": {},
   "source": [
    "#### values()"
   ]
  },
  {
   "cell_type": "code",
   "execution_count": 204,
   "id": "063eb809",
   "metadata": {},
   "outputs": [
    {
     "data": {
      "text/plain": [
       "dict_values([100, 24.5, 'Hello', [1, 2, 3], {'Apple': 2}, (1, 2, 3), {1, 2, 3}, True])"
      ]
     },
     "execution_count": 204,
     "metadata": {},
     "output_type": "execute_result"
    }
   ],
   "source": [
    "d.values()"
   ]
  },
  {
   "cell_type": "markdown",
   "id": "e893e2e6",
   "metadata": {},
   "source": [
    "#### items()"
   ]
  },
  {
   "cell_type": "code",
   "execution_count": 205,
   "id": "d8fa61cc",
   "metadata": {},
   "outputs": [
    {
     "data": {
      "text/plain": [
       "dict_items([('K1', 100), ('K2', 24.5), ('K3', 'Hello'), ('K4', [1, 2, 3]), ('K5', {'Apple': 2}), ('K6', (1, 2, 3)), ('K7', {1, 2, 3}), ('K8', True)])"
      ]
     },
     "execution_count": 205,
     "metadata": {},
     "output_type": "execute_result"
    }
   ],
   "source": [
    "d.items()"
   ]
  },
  {
   "cell_type": "code",
   "execution_count": 209,
   "id": "d31b0f5a",
   "metadata": {},
   "outputs": [
    {
     "name": "stdout",
     "output_type": "stream",
     "text": [
      "Key=K1, Value=100,            Type= <class 'int'>\n",
      "Key=K2, Value=24.5,            Type= <class 'float'>\n",
      "Key=K3, Value=Hello,            Type= <class 'str'>\n",
      "Key=K4, Value=[1, 2, 3],            Type= <class 'list'>\n",
      "Key=K5, Value={'Apple': 2},            Type= <class 'dict'>\n",
      "Key=K6, Value=(1, 2, 3),            Type= <class 'tuple'>\n",
      "Key=K7, Value={1, 2, 3},            Type= <class 'set'>\n",
      "Key=K8, Value=True,            Type= <class 'bool'>\n"
     ]
    }
   ],
   "source": [
    "for i,j in d.items():\n",
    "    print(f'Key={i}, Value={j},            Type= {type(j)}')"
   ]
  },
  {
   "cell_type": "markdown",
   "id": "d617beb0",
   "metadata": {},
   "source": [
    "#### add or update"
   ]
  },
  {
   "cell_type": "code",
   "execution_count": 210,
   "id": "c3f8f707",
   "metadata": {},
   "outputs": [
    {
     "data": {
      "text/plain": [
       "{'k1': 100, 'k2': 200}"
      ]
     },
     "execution_count": 210,
     "metadata": {},
     "output_type": "execute_result"
    }
   ],
   "source": [
    "d={'k1':100,'k2':200}\n",
    "d"
   ]
  },
  {
   "cell_type": "code",
   "execution_count": 211,
   "id": "74f9ac5b",
   "metadata": {},
   "outputs": [],
   "source": [
    "d.update({'k3':300})"
   ]
  },
  {
   "cell_type": "code",
   "execution_count": 212,
   "id": "f3c49b8c",
   "metadata": {},
   "outputs": [
    {
     "data": {
      "text/plain": [
       "{'k1': 100, 'k2': 200, 'k3': 300}"
      ]
     },
     "execution_count": 212,
     "metadata": {},
     "output_type": "execute_result"
    }
   ],
   "source": [
    "d"
   ]
  },
  {
   "cell_type": "code",
   "execution_count": 213,
   "id": "932957b4",
   "metadata": {},
   "outputs": [],
   "source": [
    "d.update({'k3':600})"
   ]
  },
  {
   "cell_type": "code",
   "execution_count": 214,
   "id": "ad45e1c4",
   "metadata": {},
   "outputs": [
    {
     "data": {
      "text/plain": [
       "{'k1': 100, 'k2': 200, 'k3': 600}"
      ]
     },
     "execution_count": 214,
     "metadata": {},
     "output_type": "execute_result"
    }
   ],
   "source": [
    "d"
   ]
  },
  {
   "cell_type": "code",
   "execution_count": 215,
   "id": "45e194b3",
   "metadata": {},
   "outputs": [],
   "source": [
    "d['k4']=400"
   ]
  },
  {
   "cell_type": "code",
   "execution_count": 216,
   "id": "f7d7f163",
   "metadata": {},
   "outputs": [
    {
     "data": {
      "text/plain": [
       "{'k1': 100, 'k2': 200, 'k3': 600, 'k4': 400}"
      ]
     },
     "execution_count": 216,
     "metadata": {},
     "output_type": "execute_result"
    }
   ],
   "source": [
    "d"
   ]
  },
  {
   "cell_type": "code",
   "execution_count": 217,
   "id": "dbbe5cc1",
   "metadata": {},
   "outputs": [],
   "source": [
    "d['k4']=800"
   ]
  },
  {
   "cell_type": "code",
   "execution_count": 218,
   "id": "f627693c",
   "metadata": {},
   "outputs": [
    {
     "data": {
      "text/plain": [
       "{'k1': 100, 'k2': 200, 'k3': 600, 'k4': 800}"
      ]
     },
     "execution_count": 218,
     "metadata": {},
     "output_type": "execute_result"
    }
   ],
   "source": [
    "d"
   ]
  },
  {
   "cell_type": "markdown",
   "id": "a782345f",
   "metadata": {},
   "source": [
    "#### get()"
   ]
  },
  {
   "cell_type": "code",
   "execution_count": 219,
   "id": "49046563",
   "metadata": {},
   "outputs": [
    {
     "name": "stdout",
     "output_type": "stream",
     "text": [
      "key=k1,value=100\n",
      "key=k2,value=200\n",
      "key=k3,value=600\n",
      "key=k4,value=800\n"
     ]
    }
   ],
   "source": [
    "for i in d.keys():\n",
    "    print(f'key={i},value={d.get(i)}')"
   ]
  },
  {
   "cell_type": "markdown",
   "id": "6cd73003",
   "metadata": {},
   "source": [
    "#### pop()"
   ]
  },
  {
   "cell_type": "code",
   "execution_count": 221,
   "id": "c784d992",
   "metadata": {},
   "outputs": [
    {
     "data": {
      "text/plain": [
       "{'k1': 100, 'k2': 200, 'k3': 600, 'k4': 800}"
      ]
     },
     "execution_count": 221,
     "metadata": {},
     "output_type": "execute_result"
    }
   ],
   "source": [
    "d"
   ]
  },
  {
   "cell_type": "code",
   "execution_count": 222,
   "id": "ba549a2e",
   "metadata": {},
   "outputs": [
    {
     "ename": "TypeError",
     "evalue": "pop expected at least 1 argument, got 0",
     "output_type": "error",
     "traceback": [
      "\u001b[1;31m---------------------------------------------------------------------------\u001b[0m",
      "\u001b[1;31mTypeError\u001b[0m                                 Traceback (most recent call last)",
      "\u001b[1;32m<ipython-input-222-663961784a31>\u001b[0m in \u001b[0;36m<module>\u001b[1;34m\u001b[0m\n\u001b[1;32m----> 1\u001b[1;33m \u001b[0md\u001b[0m\u001b[1;33m.\u001b[0m\u001b[0mpop\u001b[0m\u001b[1;33m(\u001b[0m\u001b[1;33m)\u001b[0m\u001b[1;33m\u001b[0m\u001b[1;33m\u001b[0m\u001b[0m\n\u001b[0m",
      "\u001b[1;31mTypeError\u001b[0m: pop expected at least 1 argument, got 0"
     ]
    }
   ],
   "source": [
    "d.pop()"
   ]
  },
  {
   "cell_type": "code",
   "execution_count": 224,
   "id": "d4b08785",
   "metadata": {},
   "outputs": [
    {
     "data": {
      "text/plain": [
       "600"
      ]
     },
     "execution_count": 224,
     "metadata": {},
     "output_type": "execute_result"
    }
   ],
   "source": [
    "d.pop('k3')"
   ]
  },
  {
   "cell_type": "code",
   "execution_count": 225,
   "id": "8fbd4a12",
   "metadata": {},
   "outputs": [
    {
     "data": {
      "text/plain": [
       "{'k1': 100, 'k2': 200, 'k4': 800}"
      ]
     },
     "execution_count": 225,
     "metadata": {},
     "output_type": "execute_result"
    }
   ],
   "source": [
    "d"
   ]
  },
  {
   "cell_type": "markdown",
   "id": "48316d8b",
   "metadata": {},
   "source": [
    "#### popitem()"
   ]
  },
  {
   "cell_type": "code",
   "execution_count": 226,
   "id": "a18d27a3",
   "metadata": {},
   "outputs": [
    {
     "data": {
      "text/plain": [
       "{'k1': 100, 'k2': 200, 'k4': 800}"
      ]
     },
     "execution_count": 226,
     "metadata": {},
     "output_type": "execute_result"
    }
   ],
   "source": [
    "d"
   ]
  },
  {
   "cell_type": "code",
   "execution_count": 227,
   "id": "2038e4e0",
   "metadata": {},
   "outputs": [
    {
     "data": {
      "text/plain": [
       "('k4', 800)"
      ]
     },
     "execution_count": 227,
     "metadata": {},
     "output_type": "execute_result"
    }
   ],
   "source": [
    "d.popitem()"
   ]
  },
  {
   "cell_type": "code",
   "execution_count": 228,
   "id": "8169c3bd",
   "metadata": {},
   "outputs": [
    {
     "data": {
      "text/plain": [
       "{'k1': 100, 'k2': 200}"
      ]
     },
     "execution_count": 228,
     "metadata": {},
     "output_type": "execute_result"
    }
   ],
   "source": [
    "d"
   ]
  },
  {
   "cell_type": "code",
   "execution_count": 229,
   "id": "2d7ef470",
   "metadata": {},
   "outputs": [
    {
     "data": {
      "text/plain": [
       "('k2', 200)"
      ]
     },
     "execution_count": 229,
     "metadata": {},
     "output_type": "execute_result"
    }
   ],
   "source": [
    "d.popitem()"
   ]
  },
  {
   "cell_type": "code",
   "execution_count": 230,
   "id": "a7418f92",
   "metadata": {},
   "outputs": [
    {
     "data": {
      "text/plain": [
       "{'k1': 100}"
      ]
     },
     "execution_count": 230,
     "metadata": {},
     "output_type": "execute_result"
    }
   ],
   "source": [
    "d"
   ]
  },
  {
   "cell_type": "markdown",
   "id": "5f220b1f",
   "metadata": {},
   "source": [
    "#### sorted()"
   ]
  },
  {
   "cell_type": "code",
   "execution_count": 232,
   "id": "6eb3fdd4",
   "metadata": {},
   "outputs": [
    {
     "data": {
      "text/plain": [
       "{'k1': 10, 'k2': 30, 'k3': 20}"
      ]
     },
     "execution_count": 232,
     "metadata": {},
     "output_type": "execute_result"
    }
   ],
   "source": [
    "d={'k1':10,'k2':30,'k3':20}\n",
    "d"
   ]
  },
  {
   "cell_type": "code",
   "execution_count": 236,
   "id": "3a8eeeac",
   "metadata": {},
   "outputs": [
    {
     "data": {
      "text/plain": [
       "[10, 30, 20]"
      ]
     },
     "execution_count": 236,
     "metadata": {},
     "output_type": "execute_result"
    }
   ],
   "source": [
    "list(d.values())"
   ]
  },
  {
   "cell_type": "code",
   "execution_count": 237,
   "id": "e6f5151b",
   "metadata": {},
   "outputs": [
    {
     "data": {
      "text/plain": [
       "[10, 20, 30]"
      ]
     },
     "execution_count": 237,
     "metadata": {},
     "output_type": "execute_result"
    }
   ],
   "source": [
    "sorted(d.values())"
   ]
  },
  {
   "cell_type": "code",
   "execution_count": 238,
   "id": "2fc5e6c1",
   "metadata": {},
   "outputs": [
    {
     "data": {
      "text/plain": [
       "{'k1': 10, 'k2': 30, 'k3': 20}"
      ]
     },
     "execution_count": 238,
     "metadata": {},
     "output_type": "execute_result"
    }
   ],
   "source": [
    "d"
   ]
  },
  {
   "cell_type": "markdown",
   "id": "c94daa40",
   "metadata": {},
   "source": [
    "#### zip()"
   ]
  },
  {
   "cell_type": "code",
   "execution_count": 242,
   "id": "1bd0069c",
   "metadata": {},
   "outputs": [
    {
     "data": {
      "text/plain": [
       "{1: 1, 2: 4, 3: 9, 4: 16, 5: 25, 6: 36, 7: 49, 8: 64, 9: 81, 10: 100}"
      ]
     },
     "execution_count": 242,
     "metadata": {},
     "output_type": "execute_result"
    }
   ],
   "source": [
    "num=[i  for i in range(1,11)]\n",
    "sq=[i**2 for i in range(1,11)]\n",
    "d=dict(zip(num,sq))\n",
    "d"
   ]
  },
  {
   "cell_type": "markdown",
   "id": "420e5d5a",
   "metadata": {},
   "source": [
    "#### clear()"
   ]
  },
  {
   "cell_type": "code",
   "execution_count": 243,
   "id": "d212a4cf",
   "metadata": {},
   "outputs": [
    {
     "data": {
      "text/plain": [
       "{1: 1, 2: 4, 3: 9, 4: 16, 5: 25, 6: 36, 7: 49, 8: 64, 9: 81, 10: 100}"
      ]
     },
     "execution_count": 243,
     "metadata": {},
     "output_type": "execute_result"
    }
   ],
   "source": [
    "d"
   ]
  },
  {
   "cell_type": "code",
   "execution_count": 244,
   "id": "d1165410",
   "metadata": {},
   "outputs": [],
   "source": [
    "d.clear()"
   ]
  },
  {
   "cell_type": "code",
   "execution_count": 245,
   "id": "136f4ace",
   "metadata": {},
   "outputs": [
    {
     "data": {
      "text/plain": [
       "{}"
      ]
     },
     "execution_count": 245,
     "metadata": {},
     "output_type": "execute_result"
    }
   ],
   "source": [
    "d"
   ]
  },
  {
   "cell_type": "code",
   "execution_count": 246,
   "id": "713b8c55",
   "metadata": {},
   "outputs": [
    {
     "data": {
      "text/plain": [
       "dict"
      ]
     },
     "execution_count": 246,
     "metadata": {},
     "output_type": "execute_result"
    }
   ],
   "source": [
    "type(d)"
   ]
  },
  {
   "cell_type": "markdown",
   "id": "db94a7fa",
   "metadata": {},
   "source": [
    "#### del"
   ]
  },
  {
   "cell_type": "code",
   "execution_count": 248,
   "id": "82bc1a1e",
   "metadata": {},
   "outputs": [
    {
     "data": {
      "text/plain": [
       "{'k1': 100}"
      ]
     },
     "execution_count": 248,
     "metadata": {},
     "output_type": "execute_result"
    }
   ],
   "source": [
    "d={'k1':100}\n",
    "d"
   ]
  },
  {
   "cell_type": "code",
   "execution_count": 249,
   "id": "5a5157c3",
   "metadata": {},
   "outputs": [],
   "source": [
    "del d"
   ]
  },
  {
   "cell_type": "code",
   "execution_count": 250,
   "id": "22385551",
   "metadata": {},
   "outputs": [
    {
     "ename": "NameError",
     "evalue": "name 'd' is not defined",
     "output_type": "error",
     "traceback": [
      "\u001b[1;31m---------------------------------------------------------------------------\u001b[0m",
      "\u001b[1;31mNameError\u001b[0m                                 Traceback (most recent call last)",
      "\u001b[1;32m<ipython-input-250-e983f374794d>\u001b[0m in \u001b[0;36m<module>\u001b[1;34m\u001b[0m\n\u001b[1;32m----> 1\u001b[1;33m \u001b[0md\u001b[0m\u001b[1;33m\u001b[0m\u001b[1;33m\u001b[0m\u001b[0m\n\u001b[0m",
      "\u001b[1;31mNameError\u001b[0m: name 'd' is not defined"
     ]
    }
   ],
   "source": [
    "d"
   ]
  },
  {
   "cell_type": "markdown",
   "id": "844a898d",
   "metadata": {},
   "source": [
    "#### Tuple\n",
    "- () or tuple()\n",
    "- Immutable\n",
    "- Supports Indexing/Slicing\n",
    "- Contain all datatypes"
   ]
  },
  {
   "cell_type": "code",
   "execution_count": 263,
   "id": "0c78d403",
   "metadata": {},
   "outputs": [
    {
     "data": {
      "text/plain": [
       "tuple"
      ]
     },
     "execution_count": 263,
     "metadata": {},
     "output_type": "execute_result"
    }
   ],
   "source": [
    "t=()\n",
    "type(t)"
   ]
  },
  {
   "cell_type": "code",
   "execution_count": 264,
   "id": "b1b2b530",
   "metadata": {},
   "outputs": [
    {
     "data": {
      "text/plain": [
       "tuple"
      ]
     },
     "execution_count": 264,
     "metadata": {},
     "output_type": "execute_result"
    }
   ],
   "source": [
    "t=tuple()\n",
    "type(t)"
   ]
  },
  {
   "cell_type": "code",
   "execution_count": 265,
   "id": "991d444b",
   "metadata": {},
   "outputs": [
    {
     "data": {
      "text/plain": [
       "(200, 2.5, 'Hello', [1, 2, 3], {'k1': 100}, (1, 2, 3), {1, 2, 3}, True)"
      ]
     },
     "execution_count": 265,
     "metadata": {},
     "output_type": "execute_result"
    }
   ],
   "source": [
    "#contain all datatypes\n",
    "t=(200,2.5,'Hello',[1,2,3],{'k1':100},(1,2,3),{1,2,3},True)\n",
    "t"
   ]
  },
  {
   "cell_type": "code",
   "execution_count": 267,
   "id": "6ba5478e",
   "metadata": {},
   "outputs": [
    {
     "name": "stdout",
     "output_type": "stream",
     "text": [
      "Value=200,                       Type=<class 'int'>\n",
      "Value=2.5,                       Type=<class 'float'>\n",
      "Value=Hello,                       Type=<class 'str'>\n",
      "Value=[1, 2, 3],                       Type=<class 'list'>\n",
      "Value={'k1': 100},                       Type=<class 'dict'>\n",
      "Value=(1, 2, 3),                       Type=<class 'tuple'>\n",
      "Value={1, 2, 3},                       Type=<class 'set'>\n",
      "Value=True,                       Type=<class 'bool'>\n"
     ]
    }
   ],
   "source": [
    "for i in t:\n",
    "    print(f'Value={i},                       Type={type(i)}')"
   ]
  },
  {
   "cell_type": "code",
   "execution_count": 268,
   "id": "44b03c0a",
   "metadata": {},
   "outputs": [
    {
     "name": "stdout",
     "output_type": "stream",
     "text": [
      "1\n"
     ]
    },
    {
     "data": {
      "text/plain": [
       "int"
      ]
     },
     "execution_count": 268,
     "metadata": {},
     "output_type": "execute_result"
    }
   ],
   "source": [
    "t=(1)\n",
    "print(t)\n",
    "type(t)"
   ]
  },
  {
   "cell_type": "code",
   "execution_count": 269,
   "id": "ae2d637c",
   "metadata": {},
   "outputs": [
    {
     "name": "stdout",
     "output_type": "stream",
     "text": [
      "(1,)\n"
     ]
    },
    {
     "data": {
      "text/plain": [
       "tuple"
      ]
     },
     "execution_count": 269,
     "metadata": {},
     "output_type": "execute_result"
    }
   ],
   "source": [
    "t=(1,)\n",
    "print(t)\n",
    "type(t)"
   ]
  },
  {
   "cell_type": "markdown",
   "id": "86bdd46c",
   "metadata": {},
   "source": [
    "#### multiple variable assignment"
   ]
  },
  {
   "cell_type": "code",
   "execution_count": 271,
   "id": "931b3ff4",
   "metadata": {},
   "outputs": [
    {
     "name": "stdout",
     "output_type": "stream",
     "text": [
      "Value = 1,              Type=<class 'int'>\n",
      "Value = hello,              Type=<class 'str'>\n",
      "Value = True,              Type=<class 'bool'>\n",
      "Value = 2.5,              Type=<class 'float'>\n"
     ]
    }
   ],
   "source": [
    "p,q,r,s=(1,'hello',True,2.5)\n",
    "for i in p,q,r,s:\n",
    "    print(f'Value = {i},              Type={type(i)}')"
   ]
  },
  {
   "cell_type": "markdown",
   "id": "80530ed5",
   "metadata": {},
   "source": [
    "#### Indexing and Slicing"
   ]
  },
  {
   "cell_type": "code",
   "execution_count": 272,
   "id": "aa519444",
   "metadata": {},
   "outputs": [],
   "source": [
    "t=(1,2.4,'Hello')"
   ]
  },
  {
   "cell_type": "code",
   "execution_count": 273,
   "id": "ce073644",
   "metadata": {},
   "outputs": [
    {
     "data": {
      "text/plain": [
       "1"
      ]
     },
     "execution_count": 273,
     "metadata": {},
     "output_type": "execute_result"
    }
   ],
   "source": [
    "#Indexing\n",
    "t[0]"
   ]
  },
  {
   "cell_type": "code",
   "execution_count": 274,
   "id": "d5f4afbc",
   "metadata": {},
   "outputs": [
    {
     "data": {
      "text/plain": [
       "'Hello'"
      ]
     },
     "execution_count": 274,
     "metadata": {},
     "output_type": "execute_result"
    }
   ],
   "source": [
    "#reverse indexing\n",
    "t[-1]"
   ]
  },
  {
   "cell_type": "code",
   "execution_count": 275,
   "id": "feb6e942",
   "metadata": {},
   "outputs": [
    {
     "data": {
      "text/plain": [
       "(1, 2.4, 'Hello')"
      ]
     },
     "execution_count": 275,
     "metadata": {},
     "output_type": "execute_result"
    }
   ],
   "source": [
    "#Slicing\n",
    "t"
   ]
  },
  {
   "cell_type": "code",
   "execution_count": 276,
   "id": "0c65693f",
   "metadata": {},
   "outputs": [
    {
     "data": {
      "text/plain": [
       "(1, 2.4, 'Hello')"
      ]
     },
     "execution_count": 276,
     "metadata": {},
     "output_type": "execute_result"
    }
   ],
   "source": [
    "t[::]"
   ]
  },
  {
   "cell_type": "code",
   "execution_count": 277,
   "id": "0fd50ada",
   "metadata": {},
   "outputs": [
    {
     "data": {
      "text/plain": [
       "('Hello', 2.4, 1)"
      ]
     },
     "execution_count": 277,
     "metadata": {},
     "output_type": "execute_result"
    }
   ],
   "source": [
    "t[::-1]"
   ]
  },
  {
   "cell_type": "code",
   "execution_count": 278,
   "id": "a31dd9af",
   "metadata": {},
   "outputs": [
    {
     "data": {
      "text/plain": [
       "(1, 2.4)"
      ]
     },
     "execution_count": 278,
     "metadata": {},
     "output_type": "execute_result"
    }
   ],
   "source": [
    "t[:2]"
   ]
  },
  {
   "cell_type": "code",
   "execution_count": 279,
   "id": "1c2766e6",
   "metadata": {},
   "outputs": [
    {
     "data": {
      "text/plain": [
       "('Hello',)"
      ]
     },
     "execution_count": 279,
     "metadata": {},
     "output_type": "execute_result"
    }
   ],
   "source": [
    "t[2:]"
   ]
  },
  {
   "cell_type": "code",
   "execution_count": 280,
   "id": "0663b7ce",
   "metadata": {},
   "outputs": [
    {
     "data": {
      "text/plain": [
       "(1, 'Hello')"
      ]
     },
     "execution_count": 280,
     "metadata": {},
     "output_type": "execute_result"
    }
   ],
   "source": [
    "t[::2]"
   ]
  },
  {
   "cell_type": "code",
   "execution_count": 281,
   "id": "cd676328",
   "metadata": {},
   "outputs": [
    {
     "data": {
      "text/plain": [
       "(1, 2, 3, 4, 5, 6)"
      ]
     },
     "execution_count": 281,
     "metadata": {},
     "output_type": "execute_result"
    }
   ],
   "source": [
    "t1=(1,2,3)\n",
    "t2=(4,5,6)\n",
    "t1+t2"
   ]
  },
  {
   "cell_type": "code",
   "execution_count": 283,
   "id": "a45017b5",
   "metadata": {},
   "outputs": [
    {
     "data": {
      "text/plain": [
       "(1, 2.4, 'Hello')"
      ]
     },
     "execution_count": 283,
     "metadata": {},
     "output_type": "execute_result"
    }
   ],
   "source": [
    "#### immutable\n",
    "t"
   ]
  },
  {
   "cell_type": "code",
   "execution_count": 284,
   "id": "8b12ccf5",
   "metadata": {},
   "outputs": [
    {
     "ename": "TypeError",
     "evalue": "'tuple' object does not support item assignment",
     "output_type": "error",
     "traceback": [
      "\u001b[1;31m---------------------------------------------------------------------------\u001b[0m",
      "\u001b[1;31mTypeError\u001b[0m                                 Traceback (most recent call last)",
      "\u001b[1;32m<ipython-input-284-fd8b48b97559>\u001b[0m in \u001b[0;36m<module>\u001b[1;34m\u001b[0m\n\u001b[1;32m----> 1\u001b[1;33m \u001b[0mt\u001b[0m\u001b[1;33m[\u001b[0m\u001b[1;36m1\u001b[0m\u001b[1;33m]\u001b[0m\u001b[1;33m=\u001b[0m\u001b[1;36m100\u001b[0m\u001b[1;33m\u001b[0m\u001b[1;33m\u001b[0m\u001b[0m\n\u001b[0m",
      "\u001b[1;31mTypeError\u001b[0m: 'tuple' object does not support item assignment"
     ]
    }
   ],
   "source": [
    "t[1]=100"
   ]
  },
  {
   "cell_type": "markdown",
   "id": "5f933a52",
   "metadata": {},
   "source": [
    "### Set\n",
    "- set() or { }\n",
    "- Mutable\n",
    "- Contain all datatypes except(List,Dictionary,Sets)\n",
    "- unordered collection of unique elements"
   ]
  },
  {
   "cell_type": "code",
   "execution_count": 291,
   "id": "48281809",
   "metadata": {},
   "outputs": [
    {
     "data": {
      "text/plain": [
       "dict"
      ]
     },
     "execution_count": 291,
     "metadata": {},
     "output_type": "execute_result"
    }
   ],
   "source": [
    "s={}\n",
    "type(s)"
   ]
  },
  {
   "cell_type": "code",
   "execution_count": 293,
   "id": "9e7003bb",
   "metadata": {},
   "outputs": [
    {
     "data": {
      "text/plain": [
       "set"
      ]
     },
     "execution_count": 293,
     "metadata": {},
     "output_type": "execute_result"
    }
   ],
   "source": [
    "s=set()\n",
    "type(s)"
   ]
  },
  {
   "cell_type": "code",
   "execution_count": 303,
   "id": "d5d2ca02",
   "metadata": {},
   "outputs": [
    {
     "name": "stdout",
     "output_type": "stream",
     "text": [
      "value=1,      Type=<class 'int'>\n",
      "value=2.5,      Type=<class 'float'>\n",
      "value=(1, 2, 3),      Type=<class 'tuple'>\n",
      "value=Hello,      Type=<class 'str'>\n"
     ]
    }
   ],
   "source": [
    "# Contain all datatypes\n",
    "s={1,2.5,'Hello',(1,2,3),True}\n",
    "for i in s:\n",
    "    print(f'value={i},      Type={type(i)}')"
   ]
  },
  {
   "cell_type": "markdown",
   "id": "6ca2823e",
   "metadata": {},
   "source": [
    "#### Functions\n",
    "- add()\n",
    "- update()\n",
    "- pop()\n",
    "- remove()\n",
    "- discard()\n",
    "- union() - '|'\n",
    "- intersection() - '&'\n",
    "- intersection_update() \n",
    "- difference() - '-'\n",
    "- difference_update()\n",
    "- symmetric_difference() - '^'\n",
    "- symmetric_difference_update()\n",
    "- clear()\n",
    "- copy()\n",
    "- del"
   ]
  },
  {
   "cell_type": "markdown",
   "id": "9f9eefaa",
   "metadata": {},
   "source": [
    "#### add()"
   ]
  },
  {
   "cell_type": "code",
   "execution_count": 304,
   "id": "d1b32176",
   "metadata": {},
   "outputs": [
    {
     "data": {
      "text/plain": [
       "{1, 2, 3, 4}"
      ]
     },
     "execution_count": 304,
     "metadata": {},
     "output_type": "execute_result"
    }
   ],
   "source": [
    "s={1,2,3,4}\n",
    "s"
   ]
  },
  {
   "cell_type": "code",
   "execution_count": 305,
   "id": "2a8928a7",
   "metadata": {},
   "outputs": [],
   "source": [
    "s.add(500)"
   ]
  },
  {
   "cell_type": "code",
   "execution_count": 306,
   "id": "6d5fedec",
   "metadata": {},
   "outputs": [
    {
     "data": {
      "text/plain": [
       "{1, 2, 3, 4, 500}"
      ]
     },
     "execution_count": 306,
     "metadata": {},
     "output_type": "execute_result"
    }
   ],
   "source": [
    "s"
   ]
  },
  {
   "cell_type": "markdown",
   "id": "0420ce14",
   "metadata": {},
   "source": [
    "#### update()"
   ]
  },
  {
   "cell_type": "code",
   "execution_count": 307,
   "id": "1b38d56c",
   "metadata": {},
   "outputs": [],
   "source": [
    "s1={1,2,3}\n",
    "s2={'a','b','c'}\n",
    "s1.update(s2)"
   ]
  },
  {
   "cell_type": "code",
   "execution_count": 308,
   "id": "25df3258",
   "metadata": {},
   "outputs": [
    {
     "data": {
      "text/plain": [
       "{1, 2, 3, 'a', 'b', 'c'}"
      ]
     },
     "execution_count": 308,
     "metadata": {},
     "output_type": "execute_result"
    }
   ],
   "source": [
    "s1"
   ]
  },
  {
   "cell_type": "code",
   "execution_count": 309,
   "id": "77c86287",
   "metadata": {},
   "outputs": [
    {
     "data": {
      "text/plain": [
       "{'a', 'b', 'c'}"
      ]
     },
     "execution_count": 309,
     "metadata": {},
     "output_type": "execute_result"
    }
   ],
   "source": [
    "s2"
   ]
  },
  {
   "cell_type": "markdown",
   "id": "6fbd74ee",
   "metadata": {},
   "source": [
    "#### pop()"
   ]
  },
  {
   "cell_type": "code",
   "execution_count": 310,
   "id": "bfccf1ad",
   "metadata": {},
   "outputs": [
    {
     "data": {
      "text/plain": [
       "{1, 2, 3, 4, 500}"
      ]
     },
     "execution_count": 310,
     "metadata": {},
     "output_type": "execute_result"
    }
   ],
   "source": [
    "s"
   ]
  },
  {
   "cell_type": "code",
   "execution_count": 311,
   "id": "75134cb2",
   "metadata": {},
   "outputs": [
    {
     "data": {
      "text/plain": [
       "1"
      ]
     },
     "execution_count": 311,
     "metadata": {},
     "output_type": "execute_result"
    }
   ],
   "source": [
    "s.pop()"
   ]
  },
  {
   "cell_type": "code",
   "execution_count": 312,
   "id": "5d85e676",
   "metadata": {},
   "outputs": [
    {
     "data": {
      "text/plain": [
       "2"
      ]
     },
     "execution_count": 312,
     "metadata": {},
     "output_type": "execute_result"
    }
   ],
   "source": [
    "s.pop()"
   ]
  },
  {
   "cell_type": "code",
   "execution_count": 313,
   "id": "bdc90e52",
   "metadata": {},
   "outputs": [
    {
     "data": {
      "text/plain": [
       "{3, 4, 500}"
      ]
     },
     "execution_count": 313,
     "metadata": {},
     "output_type": "execute_result"
    }
   ],
   "source": [
    "s"
   ]
  },
  {
   "cell_type": "markdown",
   "id": "da43d9ac",
   "metadata": {},
   "source": [
    "#### remove()"
   ]
  },
  {
   "cell_type": "code",
   "execution_count": 314,
   "id": "92276b65",
   "metadata": {},
   "outputs": [
    {
     "data": {
      "text/plain": [
       "{1, 2, 3, 4, 5}"
      ]
     },
     "execution_count": 314,
     "metadata": {},
     "output_type": "execute_result"
    }
   ],
   "source": [
    "s={1,2,3,4,5}\n",
    "s"
   ]
  },
  {
   "cell_type": "code",
   "execution_count": 315,
   "id": "013529f6",
   "metadata": {},
   "outputs": [],
   "source": [
    "s.remove(4)"
   ]
  },
  {
   "cell_type": "code",
   "execution_count": 316,
   "id": "d9717a9f",
   "metadata": {},
   "outputs": [
    {
     "data": {
      "text/plain": [
       "{1, 2, 3, 5}"
      ]
     },
     "execution_count": 316,
     "metadata": {},
     "output_type": "execute_result"
    }
   ],
   "source": [
    "s"
   ]
  },
  {
   "cell_type": "code",
   "execution_count": 317,
   "id": "c5c96432",
   "metadata": {},
   "outputs": [
    {
     "ename": "KeyError",
     "evalue": "6",
     "output_type": "error",
     "traceback": [
      "\u001b[1;31m---------------------------------------------------------------------------\u001b[0m",
      "\u001b[1;31mKeyError\u001b[0m                                  Traceback (most recent call last)",
      "\u001b[1;32m<ipython-input-317-077f15baad77>\u001b[0m in \u001b[0;36m<module>\u001b[1;34m\u001b[0m\n\u001b[1;32m----> 1\u001b[1;33m \u001b[0ms\u001b[0m\u001b[1;33m.\u001b[0m\u001b[0mremove\u001b[0m\u001b[1;33m(\u001b[0m\u001b[1;36m6\u001b[0m\u001b[1;33m)\u001b[0m\u001b[1;33m\u001b[0m\u001b[1;33m\u001b[0m\u001b[0m\n\u001b[0m",
      "\u001b[1;31mKeyError\u001b[0m: 6"
     ]
    }
   ],
   "source": [
    "s.remove(6)"
   ]
  },
  {
   "cell_type": "markdown",
   "id": "088facd1",
   "metadata": {},
   "source": [
    "#### discard()"
   ]
  },
  {
   "cell_type": "code",
   "execution_count": 318,
   "id": "26af5afd",
   "metadata": {},
   "outputs": [
    {
     "data": {
      "text/plain": [
       "{1, 2, 3, 4, 5}"
      ]
     },
     "execution_count": 318,
     "metadata": {},
     "output_type": "execute_result"
    }
   ],
   "source": [
    "s={1,2,3,4,5}\n",
    "s"
   ]
  },
  {
   "cell_type": "code",
   "execution_count": 319,
   "id": "c5a39f13",
   "metadata": {},
   "outputs": [],
   "source": [
    "s.discard(4)"
   ]
  },
  {
   "cell_type": "code",
   "execution_count": 320,
   "id": "972916a9",
   "metadata": {},
   "outputs": [
    {
     "data": {
      "text/plain": [
       "{1, 2, 3, 5}"
      ]
     },
     "execution_count": 320,
     "metadata": {},
     "output_type": "execute_result"
    }
   ],
   "source": [
    "s"
   ]
  },
  {
   "cell_type": "code",
   "execution_count": 321,
   "id": "8af6d634",
   "metadata": {},
   "outputs": [],
   "source": [
    "s.discard(6)"
   ]
  },
  {
   "cell_type": "markdown",
   "id": "b7ec8faf",
   "metadata": {},
   "source": [
    "#### union()"
   ]
  },
  {
   "cell_type": "code",
   "execution_count": 322,
   "id": "10060e0d",
   "metadata": {},
   "outputs": [
    {
     "data": {
      "text/plain": [
       "{1, 2, 3, 6}"
      ]
     },
     "execution_count": 322,
     "metadata": {},
     "output_type": "execute_result"
    }
   ],
   "source": [
    "s1={1,2,3}\n",
    "s2={2,3,6}\n",
    "s1.union(s2)"
   ]
  },
  {
   "cell_type": "code",
   "execution_count": 323,
   "id": "85e6fecd",
   "metadata": {},
   "outputs": [
    {
     "data": {
      "text/plain": [
       "{1, 2, 3, 6}"
      ]
     },
     "execution_count": 323,
     "metadata": {},
     "output_type": "execute_result"
    }
   ],
   "source": [
    "s1 | s2"
   ]
  },
  {
   "cell_type": "markdown",
   "id": "83740c62",
   "metadata": {},
   "source": [
    "#### intersection()"
   ]
  },
  {
   "cell_type": "code",
   "execution_count": 324,
   "id": "b8b81d29",
   "metadata": {},
   "outputs": [
    {
     "data": {
      "text/plain": [
       "{2, 3}"
      ]
     },
     "execution_count": 324,
     "metadata": {},
     "output_type": "execute_result"
    }
   ],
   "source": [
    "s1={1,2,3}\n",
    "s2={2,3,6}\n",
    "s1.intersection(s2)"
   ]
  },
  {
   "cell_type": "code",
   "execution_count": 325,
   "id": "a82157f8",
   "metadata": {},
   "outputs": [
    {
     "data": {
      "text/plain": [
       "{2, 3}"
      ]
     },
     "execution_count": 325,
     "metadata": {},
     "output_type": "execute_result"
    }
   ],
   "source": [
    "s1 & s2"
   ]
  },
  {
   "cell_type": "markdown",
   "id": "f8de9563",
   "metadata": {},
   "source": [
    "#### intersection_update()"
   ]
  },
  {
   "cell_type": "code",
   "execution_count": 326,
   "id": "96735ea1",
   "metadata": {},
   "outputs": [],
   "source": [
    "s1={1,2,3}\n",
    "s2={2,3,6}\n",
    "s1.intersection_update(s2)"
   ]
  },
  {
   "cell_type": "code",
   "execution_count": 327,
   "id": "4672e61a",
   "metadata": {},
   "outputs": [
    {
     "data": {
      "text/plain": [
       "{2, 3}"
      ]
     },
     "execution_count": 327,
     "metadata": {},
     "output_type": "execute_result"
    }
   ],
   "source": [
    "s1"
   ]
  },
  {
   "cell_type": "code",
   "execution_count": 328,
   "id": "7606b2ac",
   "metadata": {},
   "outputs": [
    {
     "data": {
      "text/plain": [
       "{2, 3, 6}"
      ]
     },
     "execution_count": 328,
     "metadata": {},
     "output_type": "execute_result"
    }
   ],
   "source": [
    "s2"
   ]
  },
  {
   "cell_type": "markdown",
   "id": "447e89b3",
   "metadata": {},
   "source": [
    "#### difference()"
   ]
  },
  {
   "cell_type": "code",
   "execution_count": 329,
   "id": "d021a19f",
   "metadata": {},
   "outputs": [
    {
     "data": {
      "text/plain": [
       "{1}"
      ]
     },
     "execution_count": 329,
     "metadata": {},
     "output_type": "execute_result"
    }
   ],
   "source": [
    "s1={1,2,3}\n",
    "s2={2,3,6}\n",
    "s1.difference(s2)"
   ]
  },
  {
   "cell_type": "code",
   "execution_count": 330,
   "id": "ec23cc89",
   "metadata": {},
   "outputs": [
    {
     "data": {
      "text/plain": [
       "{1}"
      ]
     },
     "execution_count": 330,
     "metadata": {},
     "output_type": "execute_result"
    }
   ],
   "source": [
    "s1-s2"
   ]
  },
  {
   "cell_type": "markdown",
   "id": "b362fde1",
   "metadata": {},
   "source": [
    "#### difference_update()"
   ]
  },
  {
   "cell_type": "code",
   "execution_count": 331,
   "id": "deed1778",
   "metadata": {},
   "outputs": [],
   "source": [
    "s1={1,2,3}\n",
    "s2={2,3,6}\n",
    "s1.difference_update(s2)"
   ]
  },
  {
   "cell_type": "code",
   "execution_count": 332,
   "id": "c7776efe",
   "metadata": {},
   "outputs": [
    {
     "data": {
      "text/plain": [
       "{1}"
      ]
     },
     "execution_count": 332,
     "metadata": {},
     "output_type": "execute_result"
    }
   ],
   "source": [
    "s1"
   ]
  },
  {
   "cell_type": "code",
   "execution_count": 333,
   "id": "150ed0ee",
   "metadata": {},
   "outputs": [
    {
     "data": {
      "text/plain": [
       "{2, 3, 6}"
      ]
     },
     "execution_count": 333,
     "metadata": {},
     "output_type": "execute_result"
    }
   ],
   "source": [
    "s2"
   ]
  },
  {
   "cell_type": "markdown",
   "id": "caf0fed7",
   "metadata": {},
   "source": [
    "#### symmetric_difference()"
   ]
  },
  {
   "cell_type": "code",
   "execution_count": 334,
   "id": "697673d4",
   "metadata": {},
   "outputs": [
    {
     "data": {
      "text/plain": [
       "{1, 6}"
      ]
     },
     "execution_count": 334,
     "metadata": {},
     "output_type": "execute_result"
    }
   ],
   "source": [
    "s1={1,2,3}\n",
    "s2={2,3,6}\n",
    "s1.symmetric_difference(s2)"
   ]
  },
  {
   "cell_type": "code",
   "execution_count": 335,
   "id": "0ee76fad",
   "metadata": {},
   "outputs": [
    {
     "data": {
      "text/plain": [
       "{1, 6}"
      ]
     },
     "execution_count": 335,
     "metadata": {},
     "output_type": "execute_result"
    }
   ],
   "source": [
    "s1 ^ s2"
   ]
  },
  {
   "cell_type": "markdown",
   "id": "4d05c254",
   "metadata": {},
   "source": [
    "#### symmetric_difference_update()"
   ]
  },
  {
   "cell_type": "code",
   "execution_count": 336,
   "id": "397fa5b3",
   "metadata": {},
   "outputs": [],
   "source": [
    "s1={1,2,3}\n",
    "s2={2,3,6}\n",
    "s1.symmetric_difference_update(s2)"
   ]
  },
  {
   "cell_type": "code",
   "execution_count": 337,
   "id": "d3641668",
   "metadata": {},
   "outputs": [
    {
     "data": {
      "text/plain": [
       "{1, 6}"
      ]
     },
     "execution_count": 337,
     "metadata": {},
     "output_type": "execute_result"
    }
   ],
   "source": [
    "s1"
   ]
  },
  {
   "cell_type": "code",
   "execution_count": 338,
   "id": "52e215fd",
   "metadata": {},
   "outputs": [
    {
     "data": {
      "text/plain": [
       "{2, 3, 6}"
      ]
     },
     "execution_count": 338,
     "metadata": {},
     "output_type": "execute_result"
    }
   ],
   "source": [
    "s2"
   ]
  },
  {
   "cell_type": "markdown",
   "id": "9a8b05fc",
   "metadata": {},
   "source": [
    "#### copy()"
   ]
  },
  {
   "cell_type": "code",
   "execution_count": 339,
   "id": "8979457e",
   "metadata": {},
   "outputs": [
    {
     "name": "stdout",
     "output_type": "stream",
     "text": [
      "Without Copy:\n",
      "s1:{1, 2, 3}\n",
      "s2:{1, 2, 3}\n",
      "After append 1000 into s2\n",
      "s1:{1000, 1, 2, 3}\n",
      "s2:{1000, 1, 2, 3}\n"
     ]
    }
   ],
   "source": [
    "print('Without Copy:')\n",
    "s1={1,2,3}\n",
    "s2=s1\n",
    "print(f's1:{s1}')\n",
    "print(f's2:{s2}')\n",
    "print('After append 1000 into s2')\n",
    "s2.add(1000)\n",
    "print(f's1:{s1}')\n",
    "print(f's2:{s2}')"
   ]
  },
  {
   "cell_type": "code",
   "execution_count": 340,
   "id": "da79e9e3",
   "metadata": {},
   "outputs": [
    {
     "name": "stdout",
     "output_type": "stream",
     "text": [
      "With Copy:\n",
      "s1:{1, 2, 3}\n",
      "s2:{1, 2, 3}\n",
      "After append 1000 into s2\n",
      "s1:{1, 2, 3}\n",
      "s2:{1000, 1, 2, 3}\n"
     ]
    }
   ],
   "source": [
    "print('With Copy:')\n",
    "s1={1,2,3}\n",
    "s2=s1.copy()\n",
    "print(f's1:{s1}')\n",
    "print(f's2:{s2}')\n",
    "print('After append 1000 into s2')\n",
    "s2.add(1000)\n",
    "print(f's1:{s1}')\n",
    "print(f's2:{s2}')"
   ]
  },
  {
   "cell_type": "markdown",
   "id": "16d4d5d7",
   "metadata": {},
   "source": [
    "#### clear()"
   ]
  },
  {
   "cell_type": "code",
   "execution_count": 341,
   "id": "7867c97f",
   "metadata": {},
   "outputs": [
    {
     "data": {
      "text/plain": [
       "{1, 2, 3}"
      ]
     },
     "execution_count": 341,
     "metadata": {},
     "output_type": "execute_result"
    }
   ],
   "source": [
    "s={1,2,3}\n",
    "s"
   ]
  },
  {
   "cell_type": "code",
   "execution_count": 342,
   "id": "d514e605",
   "metadata": {},
   "outputs": [],
   "source": [
    "s.clear()"
   ]
  },
  {
   "cell_type": "code",
   "execution_count": 343,
   "id": "3d2ce4d6",
   "metadata": {},
   "outputs": [
    {
     "data": {
      "text/plain": [
       "set()"
      ]
     },
     "execution_count": 343,
     "metadata": {},
     "output_type": "execute_result"
    }
   ],
   "source": [
    "s"
   ]
  },
  {
   "cell_type": "code",
   "execution_count": 345,
   "id": "93765da9",
   "metadata": {},
   "outputs": [
    {
     "data": {
      "text/plain": [
       "set"
      ]
     },
     "execution_count": 345,
     "metadata": {},
     "output_type": "execute_result"
    }
   ],
   "source": [
    "type(s)"
   ]
  },
  {
   "cell_type": "markdown",
   "id": "055afc83",
   "metadata": {},
   "source": [
    "#### del"
   ]
  },
  {
   "cell_type": "code",
   "execution_count": 347,
   "id": "e4d0874d",
   "metadata": {},
   "outputs": [
    {
     "data": {
      "text/plain": [
       "{1, 2, 3}"
      ]
     },
     "execution_count": 347,
     "metadata": {},
     "output_type": "execute_result"
    }
   ],
   "source": [
    "s={1,2,3}\n",
    "s"
   ]
  },
  {
   "cell_type": "code",
   "execution_count": 348,
   "id": "87deb826",
   "metadata": {},
   "outputs": [],
   "source": [
    "del s"
   ]
  },
  {
   "cell_type": "code",
   "execution_count": 349,
   "id": "3de7889b",
   "metadata": {},
   "outputs": [
    {
     "ename": "NameError",
     "evalue": "name 's' is not defined",
     "output_type": "error",
     "traceback": [
      "\u001b[1;31m---------------------------------------------------------------------------\u001b[0m",
      "\u001b[1;31mNameError\u001b[0m                                 Traceback (most recent call last)",
      "\u001b[1;32m<ipython-input-349-ded5ba42480f>\u001b[0m in \u001b[0;36m<module>\u001b[1;34m\u001b[0m\n\u001b[1;32m----> 1\u001b[1;33m \u001b[0ms\u001b[0m\u001b[1;33m\u001b[0m\u001b[1;33m\u001b[0m\u001b[0m\n\u001b[0m",
      "\u001b[1;31mNameError\u001b[0m: name 's' is not defined"
     ]
    }
   ],
   "source": [
    "s"
   ]
  },
  {
   "cell_type": "markdown",
   "id": "ae2c6321",
   "metadata": {},
   "source": [
    "#### useful functions\n",
    "- List comprehensions\n",
    "- zip()\n",
    "- enumerate()\n",
    "- map\n",
    "- filter\n",
    "- lambda"
   ]
  },
  {
   "cell_type": "markdown",
   "id": "992006c8",
   "metadata": {},
   "source": [
    "#### List Comprehensions"
   ]
  },
  {
   "cell_type": "code",
   "execution_count": 353,
   "id": "a4403197",
   "metadata": {},
   "outputs": [],
   "source": [
    "even_numbers=[i for i in range(11) if (i%2)==0]"
   ]
  },
  {
   "cell_type": "code",
   "execution_count": 354,
   "id": "8400137e",
   "metadata": {},
   "outputs": [
    {
     "data": {
      "text/plain": [
       "[0, 2, 4, 6, 8, 10]"
      ]
     },
     "execution_count": 354,
     "metadata": {},
     "output_type": "execute_result"
    }
   ],
   "source": [
    "even_numbers"
   ]
  },
  {
   "cell_type": "markdown",
   "id": "73b67ace",
   "metadata": {},
   "source": [
    "#### zip()"
   ]
  },
  {
   "cell_type": "code",
   "execution_count": 358,
   "id": "b2a8fc92",
   "metadata": {},
   "outputs": [
    {
     "data": {
      "text/plain": [
       "<zip at 0x18264dd09c0>"
      ]
     },
     "execution_count": 358,
     "metadata": {},
     "output_type": "execute_result"
    }
   ],
   "source": [
    "num=[i for i in range(1,11)]\n",
    "sq=[i**2 for i in range(1,11)]\n",
    "zip(num,sq)"
   ]
  },
  {
   "cell_type": "code",
   "execution_count": 359,
   "id": "ab70562a",
   "metadata": {},
   "outputs": [
    {
     "name": "stdout",
     "output_type": "stream",
     "text": [
      "List of tuples      :[(1, 1), (2, 4), (3, 9), (4, 16), (5, 25), (6, 36), (7, 49), (8, 64), (9, 81), (10, 100)]\n",
      "Dictionary          :{1: 1, 2: 4, 3: 9, 4: 16, 5: 25, 6: 36, 7: 49, 8: 64, 9: 81, 10: 100}\n",
      "Tuple of tuples     :((1, 1), (2, 4), (3, 9), (4, 16), (5, 25), (6, 36), (7, 49), (8, 64), (9, 81), (10, 100))\n",
      "set of tuples       :{(7, 49), (2, 4), (4, 16), (1, 1), (8, 64), (6, 36), (10, 100), (3, 9), (5, 25), (9, 81)}\n"
     ]
    }
   ],
   "source": [
    "print(f'List of tuples      :{list(zip(num,sq))}')\n",
    "print(f'Dictionary          :{dict(zip(num,sq))}')\n",
    "print(f'Tuple of tuples     :{tuple(zip(num,sq))}')\n",
    "print(f'set of tuples       :{set(zip(num,sq))}')      "
   ]
  },
  {
   "cell_type": "code",
   "execution_count": 362,
   "id": "93f60c00",
   "metadata": {},
   "outputs": [
    {
     "data": {
      "text/plain": [
       "{1: 'a', 2: 'b', 3: 'c'}"
      ]
     },
     "execution_count": 362,
     "metadata": {},
     "output_type": "execute_result"
    }
   ],
   "source": [
    "l1=[1,2,3,4]\n",
    "l2=['a','b','c']\n",
    "dict(zip(l1,l2))"
   ]
  },
  {
   "cell_type": "markdown",
   "id": "91b58b43",
   "metadata": {},
   "source": [
    "#### enumerate()"
   ]
  },
  {
   "cell_type": "code",
   "execution_count": 360,
   "id": "fa7cdcec",
   "metadata": {},
   "outputs": [
    {
     "data": {
      "text/plain": [
       "'vijay'"
      ]
     },
     "execution_count": 360,
     "metadata": {},
     "output_type": "execute_result"
    }
   ],
   "source": [
    "name='vijay'\n",
    "name"
   ]
  },
  {
   "cell_type": "code",
   "execution_count": 361,
   "id": "deb9569f",
   "metadata": {},
   "outputs": [
    {
     "name": "stdout",
     "output_type": "stream",
     "text": [
      "(0, 'v')\n",
      "(1, 'i')\n",
      "(2, 'j')\n",
      "(3, 'a')\n",
      "(4, 'y')\n"
     ]
    }
   ],
   "source": [
    "for i in enumerate(name):\n",
    "    print(i)"
   ]
  },
  {
   "cell_type": "code",
   "execution_count": 363,
   "id": "689cf10e",
   "metadata": {},
   "outputs": [
    {
     "name": "stdout",
     "output_type": "stream",
     "text": [
      "0 v\n",
      "1 i\n",
      "2 j\n",
      "3 a\n",
      "4 y\n"
     ]
    }
   ],
   "source": [
    "for i,j in enumerate(name):\n",
    "    print(i,j)"
   ]
  },
  {
   "cell_type": "markdown",
   "id": "509219bc",
   "metadata": {},
   "source": [
    "#### map"
   ]
  },
  {
   "cell_type": "code",
   "execution_count": 365,
   "id": "d5aec641",
   "metadata": {},
   "outputs": [],
   "source": [
    "def cal_square(n):\n",
    "    return n**2"
   ]
  },
  {
   "cell_type": "code",
   "execution_count": 366,
   "id": "65538b4d",
   "metadata": {},
   "outputs": [
    {
     "data": {
      "text/plain": [
       "25"
      ]
     },
     "execution_count": 366,
     "metadata": {},
     "output_type": "execute_result"
    }
   ],
   "source": [
    "cal_square(5)"
   ]
  },
  {
   "cell_type": "code",
   "execution_count": 367,
   "id": "7e1ebb79",
   "metadata": {},
   "outputs": [
    {
     "data": {
      "text/plain": [
       "[1, 2, 3, 4, 5]"
      ]
     },
     "execution_count": 367,
     "metadata": {},
     "output_type": "execute_result"
    }
   ],
   "source": [
    "l=[1,2,3,4,5]\n",
    "l"
   ]
  },
  {
   "cell_type": "code",
   "execution_count": 369,
   "id": "122df5ec",
   "metadata": {},
   "outputs": [
    {
     "data": {
      "text/plain": [
       "[1, 4, 9, 16, 25]"
      ]
     },
     "execution_count": 369,
     "metadata": {},
     "output_type": "execute_result"
    }
   ],
   "source": [
    "list(map(cal_square,l))"
   ]
  },
  {
   "cell_type": "markdown",
   "id": "be433319",
   "metadata": {},
   "source": [
    "#### filter"
   ]
  },
  {
   "cell_type": "code",
   "execution_count": 370,
   "id": "4df7bb1b",
   "metadata": {},
   "outputs": [],
   "source": [
    "def even_number(n):\n",
    "    return n%2==0"
   ]
  },
  {
   "cell_type": "code",
   "execution_count": 371,
   "id": "4937c39b",
   "metadata": {},
   "outputs": [
    {
     "data": {
      "text/plain": [
       "True"
      ]
     },
     "execution_count": 371,
     "metadata": {},
     "output_type": "execute_result"
    }
   ],
   "source": [
    "even_number(4)"
   ]
  },
  {
   "cell_type": "code",
   "execution_count": 372,
   "id": "b7239788",
   "metadata": {},
   "outputs": [
    {
     "data": {
      "text/plain": [
       "False"
      ]
     },
     "execution_count": 372,
     "metadata": {},
     "output_type": "execute_result"
    }
   ],
   "source": [
    "even_number(5)"
   ]
  },
  {
   "cell_type": "code",
   "execution_count": 374,
   "id": "1764b1fd",
   "metadata": {},
   "outputs": [
    {
     "data": {
      "text/plain": [
       "[0, 1, 2, 3, 4, 5, 6, 7, 8, 9, 10]"
      ]
     },
     "execution_count": 374,
     "metadata": {},
     "output_type": "execute_result"
    }
   ],
   "source": [
    "l=[i for i in range(11)]\n",
    "l"
   ]
  },
  {
   "cell_type": "code",
   "execution_count": 376,
   "id": "d4862d67",
   "metadata": {},
   "outputs": [
    {
     "data": {
      "text/plain": [
       "[0, 2, 4, 6, 8, 10]"
      ]
     },
     "execution_count": 376,
     "metadata": {},
     "output_type": "execute_result"
    }
   ],
   "source": [
    "list(filter(even_number,l))"
   ]
  },
  {
   "cell_type": "markdown",
   "id": "bc419c0b",
   "metadata": {},
   "source": [
    "#### lambda"
   ]
  },
  {
   "cell_type": "code",
   "execution_count": 377,
   "id": "dec77b7d",
   "metadata": {},
   "outputs": [
    {
     "data": {
      "text/plain": [
       "4"
      ]
     },
     "execution_count": 377,
     "metadata": {},
     "output_type": "execute_result"
    }
   ],
   "source": [
    "cal_square= lambda n: n*n\n",
    "cal_square(2)"
   ]
  },
  {
   "cell_type": "code",
   "execution_count": 380,
   "id": "6e822f52",
   "metadata": {},
   "outputs": [],
   "source": [
    "even_number=lambda n:n%2==0"
   ]
  },
  {
   "cell_type": "code",
   "execution_count": 381,
   "id": "66ec8dbf",
   "metadata": {},
   "outputs": [
    {
     "data": {
      "text/plain": [
       "False"
      ]
     },
     "execution_count": 381,
     "metadata": {},
     "output_type": "execute_result"
    }
   ],
   "source": [
    "even_number(1)"
   ]
  },
  {
   "cell_type": "code",
   "execution_count": 382,
   "id": "92ba8913",
   "metadata": {},
   "outputs": [
    {
     "data": {
      "text/plain": [
       "True"
      ]
     },
     "execution_count": 382,
     "metadata": {},
     "output_type": "execute_result"
    }
   ],
   "source": [
    "even_number(2)"
   ]
  },
  {
   "cell_type": "code",
   "execution_count": 383,
   "id": "40fe8a28",
   "metadata": {},
   "outputs": [
    {
     "data": {
      "text/plain": [
       "[0, 1, 2, 3, 4, 5, 6, 7, 8, 9, 10]"
      ]
     },
     "execution_count": 383,
     "metadata": {},
     "output_type": "execute_result"
    }
   ],
   "source": [
    "#### map with lambda together\n",
    "l"
   ]
  },
  {
   "cell_type": "code",
   "execution_count": 385,
   "id": "cb1492f1",
   "metadata": {},
   "outputs": [
    {
     "data": {
      "text/plain": [
       "[0, 1, 4, 9, 16, 25, 36, 49, 64, 81, 100]"
      ]
     },
     "execution_count": 385,
     "metadata": {},
     "output_type": "execute_result"
    }
   ],
   "source": [
    "list(map(lambda n:n*n,l))"
   ]
  },
  {
   "cell_type": "code",
   "execution_count": 386,
   "id": "53d04875",
   "metadata": {},
   "outputs": [
    {
     "data": {
      "text/plain": [
       "[0, 1, 2, 3, 4, 5, 6, 7, 8, 9, 10]"
      ]
     },
     "execution_count": 386,
     "metadata": {},
     "output_type": "execute_result"
    }
   ],
   "source": [
    "#### filter with lambda together\n",
    "l"
   ]
  },
  {
   "cell_type": "code",
   "execution_count": 388,
   "id": "d60fff0e",
   "metadata": {},
   "outputs": [
    {
     "data": {
      "text/plain": [
       "[0, 2, 4, 6, 8, 10]"
      ]
     },
     "execution_count": 388,
     "metadata": {},
     "output_type": "execute_result"
    }
   ],
   "source": [
    "list(filter(lambda n:n%2==0,l))"
   ]
  },
  {
   "cell_type": "code",
   "execution_count": null,
   "id": "f3bff70d",
   "metadata": {},
   "outputs": [],
   "source": []
  }
 ],
 "metadata": {
  "kernelspec": {
   "display_name": "Python 3",
   "language": "python",
   "name": "python3"
  },
  "language_info": {
   "codemirror_mode": {
    "name": "ipython",
    "version": 3
   },
   "file_extension": ".py",
   "mimetype": "text/x-python",
   "name": "python",
   "nbconvert_exporter": "python",
   "pygments_lexer": "ipython3",
   "version": "3.8.8"
  }
 },
 "nbformat": 4,
 "nbformat_minor": 5
}
