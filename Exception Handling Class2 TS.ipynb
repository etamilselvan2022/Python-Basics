{
 "cells": [
  {
   "cell_type": "markdown",
   "id": "309cfbef",
   "metadata": {},
   "source": [
    "#### Exception Handling - Class2"
   ]
  },
  {
   "cell_type": "code",
   "execution_count": 2,
   "id": "fe4cb314",
   "metadata": {},
   "outputs": [
    {
     "name": "stdout",
     "output_type": "stream",
     "text": [
      "K4:100\n",
      "End\n"
     ]
    }
   ],
   "source": [
    "try:\n",
    "    d={'k1':10,'k2':20,'k3':30}\n",
    "    d['k4']=int(input('K4:'))\n",
    "except Exception as e:\n",
    "    print('Error:',e)\n",
    "finally:\n",
    "    print('End')"
   ]
  },
  {
   "cell_type": "code",
   "execution_count": 3,
   "id": "a2b1a038",
   "metadata": {},
   "outputs": [
    {
     "name": "stdout",
     "output_type": "stream",
     "text": [
      "K4:s\n",
      "Error: invalid literal for int() with base 10: 's'\n",
      "End\n"
     ]
    }
   ],
   "source": [
    "try:\n",
    "    d={'k1':10,'k2':20,'k3':30}\n",
    "    d['k4']=int(input('K4:'))\n",
    "except Exception as e:\n",
    "    print('Error:',e)\n",
    "finally:\n",
    "    print('End')"
   ]
  },
  {
   "cell_type": "code",
   "execution_count": 4,
   "id": "f7fae975",
   "metadata": {},
   "outputs": [],
   "source": [
    "def askintput():\n",
    "    a=int(input('Value:'))\n",
    "    return a"
   ]
  },
  {
   "cell_type": "code",
   "execution_count": 5,
   "id": "0023381b",
   "metadata": {},
   "outputs": [
    {
     "name": "stdout",
     "output_type": "stream",
     "text": [
      "Value:10\n"
     ]
    },
    {
     "data": {
      "text/plain": [
       "10"
      ]
     },
     "execution_count": 5,
     "metadata": {},
     "output_type": "execute_result"
    }
   ],
   "source": [
    "askintput()"
   ]
  },
  {
   "cell_type": "code",
   "execution_count": 6,
   "id": "4083c260",
   "metadata": {},
   "outputs": [
    {
     "name": "stdout",
     "output_type": "stream",
     "text": [
      "Value:a\n"
     ]
    },
    {
     "ename": "ValueError",
     "evalue": "invalid literal for int() with base 10: 'a'",
     "output_type": "error",
     "traceback": [
      "\u001b[1;31m---------------------------------------------------------------------------\u001b[0m",
      "\u001b[1;31mValueError\u001b[0m                                Traceback (most recent call last)",
      "\u001b[1;32mC:\\Users\\TAMILS~1.E\\AppData\\Local\\Temp/ipykernel_2076/184239019.py\u001b[0m in \u001b[0;36m<module>\u001b[1;34m\u001b[0m\n\u001b[1;32m----> 1\u001b[1;33m \u001b[0maskintput\u001b[0m\u001b[1;33m(\u001b[0m\u001b[1;33m)\u001b[0m\u001b[1;33m\u001b[0m\u001b[1;33m\u001b[0m\u001b[0m\n\u001b[0m",
      "\u001b[1;32mC:\\Users\\TAMILS~1.E\\AppData\\Local\\Temp/ipykernel_2076/2012153000.py\u001b[0m in \u001b[0;36maskintput\u001b[1;34m()\u001b[0m\n\u001b[0;32m      1\u001b[0m \u001b[1;32mdef\u001b[0m \u001b[0maskintput\u001b[0m\u001b[1;33m(\u001b[0m\u001b[1;33m)\u001b[0m\u001b[1;33m:\u001b[0m\u001b[1;33m\u001b[0m\u001b[1;33m\u001b[0m\u001b[0m\n\u001b[1;32m----> 2\u001b[1;33m     \u001b[0ma\u001b[0m\u001b[1;33m=\u001b[0m\u001b[0mint\u001b[0m\u001b[1;33m(\u001b[0m\u001b[0minput\u001b[0m\u001b[1;33m(\u001b[0m\u001b[1;34m'Value:'\u001b[0m\u001b[1;33m)\u001b[0m\u001b[1;33m)\u001b[0m\u001b[1;33m\u001b[0m\u001b[1;33m\u001b[0m\u001b[0m\n\u001b[0m\u001b[0;32m      3\u001b[0m     \u001b[1;32mreturn\u001b[0m \u001b[0ma\u001b[0m\u001b[1;33m\u001b[0m\u001b[1;33m\u001b[0m\u001b[0m\n",
      "\u001b[1;31mValueError\u001b[0m: invalid literal for int() with base 10: 'a'"
     ]
    }
   ],
   "source": [
    "askintput()"
   ]
  },
  {
   "cell_type": "code",
   "execution_count": 7,
   "id": "984075ce",
   "metadata": {},
   "outputs": [],
   "source": [
    "def askinput1():\n",
    "    '''\n",
    "    i/p: Get a input from the user\n",
    "    o/p:Return a Integer\n",
    "    '''\n",
    "    try:\n",
    "        a=int(input('Value:'))\n",
    "    except Exception as e:\n",
    "        print('Error:',e)\n",
    "    else:\n",
    "        return a"
   ]
  },
  {
   "cell_type": "code",
   "execution_count": 8,
   "id": "7190f4d6",
   "metadata": {},
   "outputs": [
    {
     "name": "stdout",
     "output_type": "stream",
     "text": [
      "Value:1\n"
     ]
    },
    {
     "data": {
      "text/plain": [
       "1"
      ]
     },
     "execution_count": 8,
     "metadata": {},
     "output_type": "execute_result"
    }
   ],
   "source": [
    "askinput1()"
   ]
  },
  {
   "cell_type": "code",
   "execution_count": 9,
   "id": "47d34bdc",
   "metadata": {},
   "outputs": [
    {
     "name": "stdout",
     "output_type": "stream",
     "text": [
      "Value:s\n",
      "Error: invalid literal for int() with base 10: 's'\n"
     ]
    }
   ],
   "source": [
    "askinput1()"
   ]
  },
  {
   "cell_type": "code",
   "execution_count": 10,
   "id": "079c5bd6",
   "metadata": {},
   "outputs": [],
   "source": [
    "def askinput2():\n",
    "    flag=True\n",
    "    while flag:\n",
    "        try:\n",
    "            a=int(input('Value:'))\n",
    "            if type(a)==int:\n",
    "                flag=False\n",
    "                return a\n",
    "        except Exception as e:\n",
    "            print('Error:',e)"
   ]
  },
  {
   "cell_type": "code",
   "execution_count": 11,
   "id": "61a1cd17",
   "metadata": {},
   "outputs": [
    {
     "name": "stdout",
     "output_type": "stream",
     "text": [
      "Value:10\n"
     ]
    },
    {
     "data": {
      "text/plain": [
       "10"
      ]
     },
     "execution_count": 11,
     "metadata": {},
     "output_type": "execute_result"
    }
   ],
   "source": [
    "askinput2()"
   ]
  },
  {
   "cell_type": "code",
   "execution_count": 12,
   "id": "fabfd7d9",
   "metadata": {},
   "outputs": [
    {
     "name": "stdout",
     "output_type": "stream",
     "text": [
      "Value:a\n",
      "Error: invalid literal for int() with base 10: 'a'\n",
      "Value:b\n",
      "Error: invalid literal for int() with base 10: 'b'\n",
      "Value:c\n",
      "Error: invalid literal for int() with base 10: 'c'\n",
      "Value:d\n",
      "Error: invalid literal for int() with base 10: 'd'\n",
      "Value:e\n",
      "Error: invalid literal for int() with base 10: 'e'\n",
      "Value:1\n"
     ]
    },
    {
     "data": {
      "text/plain": [
       "1"
      ]
     },
     "execution_count": 12,
     "metadata": {},
     "output_type": "execute_result"
    }
   ],
   "source": [
    "askinput2()"
   ]
  },
  {
   "cell_type": "code",
   "execution_count": 13,
   "id": "1953fa94",
   "metadata": {},
   "outputs": [],
   "source": [
    "def askinput3():\n",
    "    while True:\n",
    "        try:\n",
    "            a=int(input('value:'))\n",
    "            return a\n",
    "            break\n",
    "        except Exception as e:\n",
    "            continue"
   ]
  },
  {
   "cell_type": "code",
   "execution_count": 14,
   "id": "446929c5",
   "metadata": {},
   "outputs": [
    {
     "name": "stdout",
     "output_type": "stream",
     "text": [
      "value:10\n"
     ]
    },
    {
     "data": {
      "text/plain": [
       "10"
      ]
     },
     "execution_count": 14,
     "metadata": {},
     "output_type": "execute_result"
    }
   ],
   "source": [
    "askinput3()"
   ]
  },
  {
   "cell_type": "code",
   "execution_count": 15,
   "id": "d34d202d",
   "metadata": {},
   "outputs": [
    {
     "name": "stdout",
     "output_type": "stream",
     "text": [
      "value:a\n",
      "value:b\n",
      "value:c\n",
      "value:d\n",
      "value:e\n",
      "value:1\n"
     ]
    },
    {
     "data": {
      "text/plain": [
       "1"
      ]
     },
     "execution_count": 15,
     "metadata": {},
     "output_type": "execute_result"
    }
   ],
   "source": [
    "askinput3()"
   ]
  },
  {
   "cell_type": "code",
   "execution_count": 16,
   "id": "84d34761",
   "metadata": {},
   "outputs": [],
   "source": [
    "def rt(a):\n",
    "    if a<0:\n",
    "        raise Exception(a)\n",
    "    return a    "
   ]
  },
  {
   "cell_type": "code",
   "execution_count": 17,
   "id": "87bea75d",
   "metadata": {},
   "outputs": [
    {
     "data": {
      "text/plain": [
       "1"
      ]
     },
     "execution_count": 17,
     "metadata": {},
     "output_type": "execute_result"
    }
   ],
   "source": [
    "rt(1)"
   ]
  },
  {
   "cell_type": "code",
   "execution_count": 18,
   "id": "9049085e",
   "metadata": {},
   "outputs": [
    {
     "ename": "Exception",
     "evalue": "-1",
     "output_type": "error",
     "traceback": [
      "\u001b[1;31m---------------------------------------------------------------------------\u001b[0m",
      "\u001b[1;31mException\u001b[0m                                 Traceback (most recent call last)",
      "\u001b[1;32mC:\\Users\\TAMILS~1.E\\AppData\\Local\\Temp/ipykernel_2076/2265347939.py\u001b[0m in \u001b[0;36m<module>\u001b[1;34m\u001b[0m\n\u001b[1;32m----> 1\u001b[1;33m \u001b[0mrt\u001b[0m\u001b[1;33m(\u001b[0m\u001b[1;33m-\u001b[0m\u001b[1;36m1\u001b[0m\u001b[1;33m)\u001b[0m\u001b[1;33m\u001b[0m\u001b[1;33m\u001b[0m\u001b[0m\n\u001b[0m",
      "\u001b[1;32mC:\\Users\\TAMILS~1.E\\AppData\\Local\\Temp/ipykernel_2076/1161184935.py\u001b[0m in \u001b[0;36mrt\u001b[1;34m(a)\u001b[0m\n\u001b[0;32m      1\u001b[0m \u001b[1;32mdef\u001b[0m \u001b[0mrt\u001b[0m\u001b[1;33m(\u001b[0m\u001b[0ma\u001b[0m\u001b[1;33m)\u001b[0m\u001b[1;33m:\u001b[0m\u001b[1;33m\u001b[0m\u001b[1;33m\u001b[0m\u001b[0m\n\u001b[0;32m      2\u001b[0m     \u001b[1;32mif\u001b[0m \u001b[0ma\u001b[0m\u001b[1;33m<\u001b[0m\u001b[1;36m0\u001b[0m\u001b[1;33m:\u001b[0m\u001b[1;33m\u001b[0m\u001b[1;33m\u001b[0m\u001b[0m\n\u001b[1;32m----> 3\u001b[1;33m         \u001b[1;32mraise\u001b[0m \u001b[0mException\u001b[0m\u001b[1;33m(\u001b[0m\u001b[0ma\u001b[0m\u001b[1;33m)\u001b[0m\u001b[1;33m\u001b[0m\u001b[1;33m\u001b[0m\u001b[0m\n\u001b[0m\u001b[0;32m      4\u001b[0m     \u001b[1;32mreturn\u001b[0m \u001b[0ma\u001b[0m\u001b[1;33m\u001b[0m\u001b[1;33m\u001b[0m\u001b[0m\n",
      "\u001b[1;31mException\u001b[0m: -1"
     ]
    }
   ],
   "source": [
    "rt(-1)"
   ]
  },
  {
   "cell_type": "code",
   "execution_count": 19,
   "id": "ee2b1754",
   "metadata": {},
   "outputs": [],
   "source": [
    "def rt1(a):\n",
    "    if a<0:\n",
    "        raise Exception('You have entered a Negative Value',a)\n",
    "    return a   "
   ]
  },
  {
   "cell_type": "code",
   "execution_count": 22,
   "id": "79c9e17d",
   "metadata": {},
   "outputs": [
    {
     "data": {
      "text/plain": [
       "1"
      ]
     },
     "execution_count": 22,
     "metadata": {},
     "output_type": "execute_result"
    }
   ],
   "source": [
    "rt1(1)"
   ]
  },
  {
   "cell_type": "code",
   "execution_count": 23,
   "id": "d829d337",
   "metadata": {},
   "outputs": [
    {
     "ename": "Exception",
     "evalue": "('You have entered a Negative Value', -1)",
     "output_type": "error",
     "traceback": [
      "\u001b[1;31m---------------------------------------------------------------------------\u001b[0m",
      "\u001b[1;31mException\u001b[0m                                 Traceback (most recent call last)",
      "\u001b[1;32mC:\\Users\\TAMILS~1.E\\AppData\\Local\\Temp/ipykernel_2076/2473719297.py\u001b[0m in \u001b[0;36m<module>\u001b[1;34m\u001b[0m\n\u001b[1;32m----> 1\u001b[1;33m \u001b[0mrt1\u001b[0m\u001b[1;33m(\u001b[0m\u001b[1;33m-\u001b[0m\u001b[1;36m1\u001b[0m\u001b[1;33m)\u001b[0m\u001b[1;33m\u001b[0m\u001b[1;33m\u001b[0m\u001b[0m\n\u001b[0m",
      "\u001b[1;32mC:\\Users\\TAMILS~1.E\\AppData\\Local\\Temp/ipykernel_2076/1469566396.py\u001b[0m in \u001b[0;36mrt1\u001b[1;34m(a)\u001b[0m\n\u001b[0;32m      1\u001b[0m \u001b[1;32mdef\u001b[0m \u001b[0mrt1\u001b[0m\u001b[1;33m(\u001b[0m\u001b[0ma\u001b[0m\u001b[1;33m)\u001b[0m\u001b[1;33m:\u001b[0m\u001b[1;33m\u001b[0m\u001b[1;33m\u001b[0m\u001b[0m\n\u001b[0;32m      2\u001b[0m     \u001b[1;32mif\u001b[0m \u001b[0ma\u001b[0m\u001b[1;33m<\u001b[0m\u001b[1;36m0\u001b[0m\u001b[1;33m:\u001b[0m\u001b[1;33m\u001b[0m\u001b[1;33m\u001b[0m\u001b[0m\n\u001b[1;32m----> 3\u001b[1;33m         \u001b[1;32mraise\u001b[0m \u001b[0mException\u001b[0m\u001b[1;33m(\u001b[0m\u001b[1;34m'You have entered a Negative Value'\u001b[0m\u001b[1;33m,\u001b[0m\u001b[0ma\u001b[0m\u001b[1;33m)\u001b[0m\u001b[1;33m\u001b[0m\u001b[1;33m\u001b[0m\u001b[0m\n\u001b[0m\u001b[0;32m      4\u001b[0m     \u001b[1;32mreturn\u001b[0m \u001b[0ma\u001b[0m\u001b[1;33m\u001b[0m\u001b[1;33m\u001b[0m\u001b[0m\n",
      "\u001b[1;31mException\u001b[0m: ('You have entered a Negative Value', -1)"
     ]
    }
   ],
   "source": [
    "rt1(-1)"
   ]
  },
  {
   "cell_type": "code",
   "execution_count": 24,
   "id": "ba2efd8c",
   "metadata": {},
   "outputs": [],
   "source": [
    "def rt2(a):\n",
    "    if a<0:\n",
    "        raise ZeroDivisionError('You have entered a Negative Value',a)\n",
    "    return a   "
   ]
  },
  {
   "cell_type": "code",
   "execution_count": 25,
   "id": "651c33f3",
   "metadata": {},
   "outputs": [
    {
     "data": {
      "text/plain": [
       "1"
      ]
     },
     "execution_count": 25,
     "metadata": {},
     "output_type": "execute_result"
    }
   ],
   "source": [
    "rt2(1)"
   ]
  },
  {
   "cell_type": "code",
   "execution_count": 26,
   "id": "1ce0e735",
   "metadata": {},
   "outputs": [
    {
     "ename": "ZeroDivisionError",
     "evalue": "('You have entered a Negative Value', -1)",
     "output_type": "error",
     "traceback": [
      "\u001b[1;31m---------------------------------------------------------------------------\u001b[0m",
      "\u001b[1;31mZeroDivisionError\u001b[0m                         Traceback (most recent call last)",
      "\u001b[1;32mC:\\Users\\TAMILS~1.E\\AppData\\Local\\Temp/ipykernel_2076/2510847926.py\u001b[0m in \u001b[0;36m<module>\u001b[1;34m\u001b[0m\n\u001b[1;32m----> 1\u001b[1;33m \u001b[0mrt2\u001b[0m\u001b[1;33m(\u001b[0m\u001b[1;33m-\u001b[0m\u001b[1;36m1\u001b[0m\u001b[1;33m)\u001b[0m\u001b[1;33m\u001b[0m\u001b[1;33m\u001b[0m\u001b[0m\n\u001b[0m",
      "\u001b[1;32mC:\\Users\\TAMILS~1.E\\AppData\\Local\\Temp/ipykernel_2076/1412595294.py\u001b[0m in \u001b[0;36mrt2\u001b[1;34m(a)\u001b[0m\n\u001b[0;32m      1\u001b[0m \u001b[1;32mdef\u001b[0m \u001b[0mrt2\u001b[0m\u001b[1;33m(\u001b[0m\u001b[0ma\u001b[0m\u001b[1;33m)\u001b[0m\u001b[1;33m:\u001b[0m\u001b[1;33m\u001b[0m\u001b[1;33m\u001b[0m\u001b[0m\n\u001b[0;32m      2\u001b[0m     \u001b[1;32mif\u001b[0m \u001b[0ma\u001b[0m\u001b[1;33m<\u001b[0m\u001b[1;36m0\u001b[0m\u001b[1;33m:\u001b[0m\u001b[1;33m\u001b[0m\u001b[1;33m\u001b[0m\u001b[0m\n\u001b[1;32m----> 3\u001b[1;33m         \u001b[1;32mraise\u001b[0m \u001b[0mZeroDivisionError\u001b[0m\u001b[1;33m(\u001b[0m\u001b[1;34m'You have entered a Negative Value'\u001b[0m\u001b[1;33m,\u001b[0m\u001b[0ma\u001b[0m\u001b[1;33m)\u001b[0m\u001b[1;33m\u001b[0m\u001b[1;33m\u001b[0m\u001b[0m\n\u001b[0m\u001b[0;32m      4\u001b[0m     \u001b[1;32mreturn\u001b[0m \u001b[0ma\u001b[0m\u001b[1;33m\u001b[0m\u001b[1;33m\u001b[0m\u001b[0m\n",
      "\u001b[1;31mZeroDivisionError\u001b[0m: ('You have entered a Negative Value', -1)"
     ]
    }
   ],
   "source": [
    "rt2(-1)"
   ]
  },
  {
   "cell_type": "code",
   "execution_count": 27,
   "id": "88a8fd6c",
   "metadata": {},
   "outputs": [],
   "source": [
    "def rt3(a):\n",
    "    if a<0:\n",
    "        raise ValueError('You have entered a Negative Value',a)\n",
    "    return a  "
   ]
  },
  {
   "cell_type": "code",
   "execution_count": 29,
   "id": "ba702a4e",
   "metadata": {},
   "outputs": [
    {
     "data": {
      "text/plain": [
       "1"
      ]
     },
     "execution_count": 29,
     "metadata": {},
     "output_type": "execute_result"
    }
   ],
   "source": [
    "rt3(1)"
   ]
  },
  {
   "cell_type": "code",
   "execution_count": 31,
   "id": "449b2bc9",
   "metadata": {},
   "outputs": [
    {
     "ename": "ValueError",
     "evalue": "('You have entered a Negative Value', -1)",
     "output_type": "error",
     "traceback": [
      "\u001b[1;31m---------------------------------------------------------------------------\u001b[0m",
      "\u001b[1;31mValueError\u001b[0m                                Traceback (most recent call last)",
      "\u001b[1;32mC:\\Users\\TAMILS~1.E\\AppData\\Local\\Temp/ipykernel_2076/556945349.py\u001b[0m in \u001b[0;36m<module>\u001b[1;34m\u001b[0m\n\u001b[1;32m----> 1\u001b[1;33m \u001b[0mrt3\u001b[0m\u001b[1;33m(\u001b[0m\u001b[1;33m-\u001b[0m\u001b[1;36m1\u001b[0m\u001b[1;33m)\u001b[0m\u001b[1;33m\u001b[0m\u001b[1;33m\u001b[0m\u001b[0m\n\u001b[0m",
      "\u001b[1;32mC:\\Users\\TAMILS~1.E\\AppData\\Local\\Temp/ipykernel_2076/1844439819.py\u001b[0m in \u001b[0;36mrt3\u001b[1;34m(a)\u001b[0m\n\u001b[0;32m      1\u001b[0m \u001b[1;32mdef\u001b[0m \u001b[0mrt3\u001b[0m\u001b[1;33m(\u001b[0m\u001b[0ma\u001b[0m\u001b[1;33m)\u001b[0m\u001b[1;33m:\u001b[0m\u001b[1;33m\u001b[0m\u001b[1;33m\u001b[0m\u001b[0m\n\u001b[0;32m      2\u001b[0m     \u001b[1;32mif\u001b[0m \u001b[0ma\u001b[0m\u001b[1;33m<\u001b[0m\u001b[1;36m0\u001b[0m\u001b[1;33m:\u001b[0m\u001b[1;33m\u001b[0m\u001b[1;33m\u001b[0m\u001b[0m\n\u001b[1;32m----> 3\u001b[1;33m         \u001b[1;32mraise\u001b[0m \u001b[0mValueError\u001b[0m\u001b[1;33m(\u001b[0m\u001b[1;34m'You have entered a Negative Value'\u001b[0m\u001b[1;33m,\u001b[0m\u001b[0ma\u001b[0m\u001b[1;33m)\u001b[0m\u001b[1;33m\u001b[0m\u001b[1;33m\u001b[0m\u001b[0m\n\u001b[0m\u001b[0;32m      4\u001b[0m     \u001b[1;32mreturn\u001b[0m \u001b[0ma\u001b[0m\u001b[1;33m\u001b[0m\u001b[1;33m\u001b[0m\u001b[0m\n",
      "\u001b[1;31mValueError\u001b[0m: ('You have entered a Negative Value', -1)"
     ]
    }
   ],
   "source": [
    "rt3(-1)"
   ]
  },
  {
   "cell_type": "code",
   "execution_count": 32,
   "id": "d860d3ae",
   "metadata": {},
   "outputs": [
    {
     "name": "stdout",
     "output_type": "stream",
     "text": [
      "Value:10\n"
     ]
    }
   ],
   "source": [
    "try:\n",
    "    a=int(input('Value:'))\n",
    "    rt3(a)\n",
    "except Exception as e:\n",
    "    print('Error:',e)"
   ]
  },
  {
   "cell_type": "code",
   "execution_count": 35,
   "id": "231b4e3c",
   "metadata": {},
   "outputs": [
    {
     "name": "stdout",
     "output_type": "stream",
     "text": [
      "Value:-1\n",
      "Error:('You have entered a Negative Value', -1)\n"
     ]
    }
   ],
   "source": [
    "try:\n",
    "    a=int(input('Value:'))\n",
    "    rt3(a)\n",
    "except Exception as e:\n",
    "    print('Error:'+str(e))"
   ]
  },
  {
   "cell_type": "code",
   "execution_count": 37,
   "id": "54e839e9",
   "metadata": {},
   "outputs": [
    {
     "name": "stdout",
     "output_type": "stream",
     "text": [
      "value:s\n",
      "Error: invalid literal for int() with base 10: 's'\n"
     ]
    }
   ],
   "source": [
    "try:\n",
    "    a=int(input('value:'))\n",
    "    f=open('test100.txt','r')\n",
    "except Exception as e:\n",
    "    print('Error:',e)"
   ]
  },
  {
   "cell_type": "code",
   "execution_count": 38,
   "id": "69e62cfd",
   "metadata": {},
   "outputs": [
    {
     "name": "stdout",
     "output_type": "stream",
     "text": [
      "value:10\n",
      "Error: [Errno 2] No such file or directory: 'test100.txt'\n"
     ]
    }
   ],
   "source": [
    "try:\n",
    "    a=int(input('value:'))\n",
    "    f=open('test100.txt','r')\n",
    "except Exception as e:\n",
    "    print('Error:',e)"
   ]
  },
  {
   "cell_type": "code",
   "execution_count": 39,
   "id": "6691f0a1",
   "metadata": {},
   "outputs": [
    {
     "name": "stdout",
     "output_type": "stream",
     "text": [
      "value:s\n",
      "Error: invalid literal for int() with base 10: 's'\n"
     ]
    }
   ],
   "source": [
    "try:\n",
    "    a=int(input('value:'))\n",
    "    f=open('test100.txt','r')\n",
    "except ValueError as e:\n",
    "    print('Error:',e)"
   ]
  },
  {
   "cell_type": "code",
   "execution_count": 40,
   "id": "dcf8f4ea",
   "metadata": {},
   "outputs": [
    {
     "name": "stdout",
     "output_type": "stream",
     "text": [
      "value:10\n"
     ]
    },
    {
     "ename": "FileNotFoundError",
     "evalue": "[Errno 2] No such file or directory: 'test100.txt'",
     "output_type": "error",
     "traceback": [
      "\u001b[1;31m---------------------------------------------------------------------------\u001b[0m",
      "\u001b[1;31mFileNotFoundError\u001b[0m                         Traceback (most recent call last)",
      "\u001b[1;32mC:\\Users\\TAMILS~1.E\\AppData\\Local\\Temp/ipykernel_2076/2089942795.py\u001b[0m in \u001b[0;36m<module>\u001b[1;34m\u001b[0m\n\u001b[0;32m      1\u001b[0m \u001b[1;32mtry\u001b[0m\u001b[1;33m:\u001b[0m\u001b[1;33m\u001b[0m\u001b[1;33m\u001b[0m\u001b[0m\n\u001b[0;32m      2\u001b[0m     \u001b[0ma\u001b[0m\u001b[1;33m=\u001b[0m\u001b[0mint\u001b[0m\u001b[1;33m(\u001b[0m\u001b[0minput\u001b[0m\u001b[1;33m(\u001b[0m\u001b[1;34m'value:'\u001b[0m\u001b[1;33m)\u001b[0m\u001b[1;33m)\u001b[0m\u001b[1;33m\u001b[0m\u001b[1;33m\u001b[0m\u001b[0m\n\u001b[1;32m----> 3\u001b[1;33m     \u001b[0mf\u001b[0m\u001b[1;33m=\u001b[0m\u001b[0mopen\u001b[0m\u001b[1;33m(\u001b[0m\u001b[1;34m'test100.txt'\u001b[0m\u001b[1;33m,\u001b[0m\u001b[1;34m'r'\u001b[0m\u001b[1;33m)\u001b[0m\u001b[1;33m\u001b[0m\u001b[1;33m\u001b[0m\u001b[0m\n\u001b[0m\u001b[0;32m      4\u001b[0m \u001b[1;32mexcept\u001b[0m \u001b[0mValueError\u001b[0m \u001b[1;32mas\u001b[0m \u001b[0me\u001b[0m\u001b[1;33m:\u001b[0m\u001b[1;33m\u001b[0m\u001b[1;33m\u001b[0m\u001b[0m\n\u001b[0;32m      5\u001b[0m     \u001b[0mprint\u001b[0m\u001b[1;33m(\u001b[0m\u001b[1;34m'Error:'\u001b[0m\u001b[1;33m,\u001b[0m\u001b[0me\u001b[0m\u001b[1;33m)\u001b[0m\u001b[1;33m\u001b[0m\u001b[1;33m\u001b[0m\u001b[0m\n",
      "\u001b[1;31mFileNotFoundError\u001b[0m: [Errno 2] No such file or directory: 'test100.txt'"
     ]
    }
   ],
   "source": [
    "try:\n",
    "    a=int(input('value:'))\n",
    "    f=open('test100.txt','r')\n",
    "except ValueError as e:\n",
    "    print('Error:',e)"
   ]
  },
  {
   "cell_type": "code",
   "execution_count": 43,
   "id": "d792a60b",
   "metadata": {},
   "outputs": [
    {
     "name": "stdout",
     "output_type": "stream",
     "text": [
      "value:s\n",
      "Error VE: invalid literal for int() with base 10: 's'\n"
     ]
    }
   ],
   "source": [
    "try:\n",
    "    a=int(input('value:'))\n",
    "    f=open('test100.txt','r')\n",
    "except ValueError as ve:\n",
    "    print('Error VE:',ve)\n",
    "except FileNotFoundError as fnfe:\n",
    "    print('Error FNFE:',fnfe)    "
   ]
  },
  {
   "cell_type": "code",
   "execution_count": 44,
   "id": "3f520182",
   "metadata": {},
   "outputs": [
    {
     "name": "stdout",
     "output_type": "stream",
     "text": [
      "value:10\n",
      "Error FNFE: [Errno 2] No such file or directory: 'test100.txt'\n"
     ]
    }
   ],
   "source": [
    "try:\n",
    "    a=int(input('value:'))\n",
    "    f=open('test100.txt','r')\n",
    "except ValueError as ve:\n",
    "    print('Error VE:',ve)\n",
    "except FileNotFoundError as fnfe:\n",
    "    print('Error FNFE:',fnfe)    "
   ]
  },
  {
   "cell_type": "code",
   "execution_count": 45,
   "id": "869c44d9",
   "metadata": {},
   "outputs": [
    {
     "name": "stdout",
     "output_type": "stream",
     "text": [
      "value:s\n",
      "Error E: invalid literal for int() with base 10: 's'\n"
     ]
    }
   ],
   "source": [
    "try:\n",
    "    a=int(input('value:'))\n",
    "    f=open('test100.txt','r')\n",
    "except Exception as e:\n",
    "    print('Error E:',e)\n",
    "except ValueError as ve:\n",
    "    print('Error VE:',ve)\n",
    "except FileNotFoundError as fnfe:\n",
    "    print('Error FNFE:',fnfe)    "
   ]
  },
  {
   "cell_type": "code",
   "execution_count": 46,
   "id": "b2f697a5",
   "metadata": {},
   "outputs": [
    {
     "name": "stdout",
     "output_type": "stream",
     "text": [
      "value:10\n",
      "Error E: [Errno 2] No such file or directory: 'test100.txt'\n"
     ]
    }
   ],
   "source": [
    "try:\n",
    "    a=int(input('value:'))\n",
    "    f=open('test100.txt','r')\n",
    "except Exception as e:\n",
    "    print('Error E:',e)\n",
    "except ValueError as ve:\n",
    "    print('Error VE:',ve)\n",
    "except FileNotFoundError as fnfe:\n",
    "    print('Error FNFE:',fnfe)    "
   ]
  },
  {
   "cell_type": "code",
   "execution_count": 47,
   "id": "96719af9",
   "metadata": {},
   "outputs": [
    {
     "name": "stdout",
     "output_type": "stream",
     "text": [
      "value:s\n",
      "Error VE: invalid literal for int() with base 10: 's'\n"
     ]
    }
   ],
   "source": [
    "try:\n",
    "    a=int(input('value:'))\n",
    "    f=open('test100.txt','r')\n",
    "except ValueError as ve:\n",
    "    print('Error VE:',ve)\n",
    "except FileNotFoundError as fnfe:\n",
    "    print('Error FNFE:',fnfe)\n",
    "except Exception as e:\n",
    "    print('Error E:',e)    "
   ]
  },
  {
   "cell_type": "code",
   "execution_count": 48,
   "id": "6b994b73",
   "metadata": {},
   "outputs": [
    {
     "name": "stdout",
     "output_type": "stream",
     "text": [
      "value:10\n",
      "Error FNFE: [Errno 2] No such file or directory: 'test100.txt'\n"
     ]
    }
   ],
   "source": [
    "try:\n",
    "    a=int(input('value:'))\n",
    "    f=open('test100.txt','r')\n",
    "except ValueError as ve:\n",
    "    print('Error VE:',ve)\n",
    "except FileNotFoundError as fnfe:\n",
    "    print('Error FNFE:',fnfe)\n",
    "except Exception as e:\n",
    "    print('Error E:',e)   "
   ]
  },
  {
   "cell_type": "code",
   "execution_count": 49,
   "id": "6749451f",
   "metadata": {},
   "outputs": [
    {
     "name": "stdout",
     "output_type": "stream",
     "text": [
      "value:10\n",
      "Error E: division by zero\n"
     ]
    }
   ],
   "source": [
    "try:\n",
    "    a=int(input('value:'))\n",
    "    a/0\n",
    "    f=open('test100.txt','r')\n",
    "except ValueError as ve:\n",
    "    print('Error VE:',ve)\n",
    "except FileNotFoundError as fnfe:\n",
    "    print('Error FNFE:',fnfe)\n",
    "except Exception as e:\n",
    "    print('Error E:',e)   "
   ]
  },
  {
   "cell_type": "code",
   "execution_count": null,
   "id": "541e5035",
   "metadata": {},
   "outputs": [],
   "source": []
  }
 ],
 "metadata": {
  "kernelspec": {
   "display_name": "Python 3 (ipykernel)",
   "language": "python",
   "name": "python3"
  },
  "language_info": {
   "codemirror_mode": {
    "name": "ipython",
    "version": 3
   },
   "file_extension": ".py",
   "mimetype": "text/x-python",
   "name": "python",
   "nbconvert_exporter": "python",
   "pygments_lexer": "ipython3",
   "version": "3.9.7"
  }
 },
 "nbformat": 4,
 "nbformat_minor": 5
}
