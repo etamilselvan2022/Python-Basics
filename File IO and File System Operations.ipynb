{
 "cells": [
  {
   "cell_type": "markdown",
   "id": "aec4e081",
   "metadata": {},
   "source": [
    "#### File system i/o operations"
   ]
  },
  {
   "cell_type": "markdown",
   "id": "6e760c94",
   "metadata": {},
   "source": [
    "- pwd\n",
    "- pwd()\n",
    "- %ls\n",
    "- write()\n",
    "- writelines()\n",
    "- read()\n",
    "- readline()\n",
    "- readlines()\n",
    "- seek()\n",
    "- tell()\n",
    "- flush()\n",
    "- name\n",
    "- mode\n",
    "- close()"
   ]
  },
  {
   "cell_type": "code",
   "execution_count": 1,
   "id": "0b877260",
   "metadata": {},
   "outputs": [
    {
     "data": {
      "text/plain": [
       "'C:\\\\Users\\\\Tamilselvan.E'"
      ]
     },
     "execution_count": 1,
     "metadata": {},
     "output_type": "execute_result"
    }
   ],
   "source": [
    "pwd"
   ]
  },
  {
   "cell_type": "code",
   "execution_count": 2,
   "id": "c6c4a9a5",
   "metadata": {},
   "outputs": [
    {
     "data": {
      "text/plain": [
       "'C:\\\\Users\\\\Tamilselvan.E'"
      ]
     },
     "execution_count": 2,
     "metadata": {},
     "output_type": "execute_result"
    }
   ],
   "source": [
    "pwd()"
   ]
  },
  {
   "cell_type": "code",
   "execution_count": 3,
   "id": "e4a10454",
   "metadata": {},
   "outputs": [
    {
     "name": "stdout",
     "output_type": "stream",
     "text": [
      " Volume in drive C has no label.\n",
      " Volume Serial Number is 0C41-70CA\n",
      "\n",
      " Directory of C:\\Users\\Tamilselvan.E\n",
      "\n",
      "22-01-2022  08:02    <DIR>          .\n",
      "22-01-2022  08:02    <DIR>          ..\n",
      "22-01-2022  07:54    <DIR>          .ipynb_checkpoints\n",
      "06-01-2022  20:08    <DIR>          .ipython\n",
      "11-01-2022  06:58    <DIR>          .jupyter\n",
      "12-01-2022  10:38    <DIR>          .openjfx\n",
      "24-07-2021  09:36    <DIR>          .oracle_jre_usage\n",
      "12-01-2022  10:38    <DIR>          .soapuios\n",
      "28-10-2021  16:29    <DIR>          3D Objects\n",
      "06-01-2022  19:31    <DIR>          anaconda3\n",
      "24-07-2021  09:20    <DIR>          Contacts\n",
      "17-01-2022  15:19               254 default-soapui-workspace.xml\n",
      "21-01-2022  19:51    <DIR>          Desktop\n",
      "20-01-2022  16:52    <DIR>          Documents\n",
      "22-01-2022  06:45    <DIR>          Downloads\n",
      "21-01-2022  19:29            26,932 Exception Handling - Class2.ipynb\n",
      "21-01-2022  13:14            15,090 Exception Handling Class1 TS.ipynb\n",
      "28-10-2021  18:17    <DIR>          Favorites\n",
      "22-01-2022  07:45             3,014 google.txt\n",
      "22-01-2022  07:21           277,400 Iterator and Generator.ipynb\n",
      "24-07-2021  09:20    <DIR>          Links\n",
      "21-01-2022  19:50             3,635 Logging .ipynb\n",
      "24-07-2021  09:20    <DIR>          Music\n",
      "29-07-2021  18:47    <DIR>          OneDrive\n",
      "09-12-2021  09:21    <DIR>          Pictures\n",
      "24-07-2021  09:20    <DIR>          Saved Games\n",
      "24-07-2021  09:31    <DIR>          Searches\n",
      "17-01-2022  15:19             2,527 soapui-settings.xml\n",
      "07-01-2022  08:25           109,596 Untitled.ipynb\n",
      "08-01-2022  12:35            11,228 Untitled1.ipynb\n",
      "17-01-2022  02:57             4,467 Untitled10.ipynb\n",
      "20-01-2022  08:33            15,481 Untitled11.ipynb\n",
      "20-01-2022  08:44            13,070 Untitled12.ipynb\n",
      "21-01-2022  06:23             1,985 Untitled13.ipynb\n",
      "21-01-2022  08:41            16,480 Untitled14.ipynb\n",
      "21-01-2022  12:37            13,768 Untitled15.ipynb\n",
      "21-01-2022  13:07            15,090 Untitled16.ipynb\n",
      "21-01-2022  17:02            20,927 Untitled17.ipynb\n",
      "21-01-2022  18:51            22,433 Untitled18.ipynb\n",
      "21-01-2022  19:28            26,932 Untitled19.ipynb\n",
      "09-01-2022  13:13            61,789 Untitled2.ipynb\n",
      "21-01-2022  19:50             3,635 Untitled20.ipynb\n",
      "22-01-2022  07:19           277,266 Untitled21.ipynb\n",
      "22-01-2022  08:00            37,991 Untitled22.ipynb\n",
      "22-01-2022  07:54                72 Untitled23.ipynb\n",
      "22-01-2022  08:02             1,722 Untitled24.ipynb\n",
      "10-01-2022  06:35             2,135 Untitled3.ipynb\n",
      "10-01-2022  08:41            17,252 Untitled4.ipynb\n",
      "11-01-2022  00:13            85,535 Untitled5.ipynb\n",
      "11-01-2022  08:26            12,476 Untitled6.ipynb\n",
      "11-01-2022  23:31            20,836 Untitled7.ipynb\n",
      "12-01-2022  08:28            22,528 Untitled8.ipynb\n",
      "13-01-2022  08:59            90,040 Untitled9.ipynb\n",
      "28-07-2021  09:08    <DIR>          Videos\n",
      "              32 File(s)      1,233,586 bytes\n",
      "              22 Dir(s)  153,901,662,208 bytes free\n"
     ]
    }
   ],
   "source": [
    "%ls"
   ]
  },
  {
   "cell_type": "markdown",
   "id": "3dd82d81",
   "metadata": {},
   "source": [
    "#### Example 1"
   ]
  },
  {
   "cell_type": "code",
   "execution_count": 7,
   "id": "f9b8a720",
   "metadata": {},
   "outputs": [],
   "source": [
    "f=open('test1.txt','w') # by default mode ='r'\n",
    "f.write('Good morning!')\n",
    "f.write('Hello')\n",
    "f.close()"
   ]
  },
  {
   "cell_type": "markdown",
   "id": "768accd1",
   "metadata": {},
   "source": [
    "#### Example2"
   ]
  },
  {
   "cell_type": "code",
   "execution_count": 8,
   "id": "cc4d4758",
   "metadata": {},
   "outputs": [
    {
     "data": {
      "text/plain": [
       "'Good morning!Hello'"
      ]
     },
     "execution_count": 8,
     "metadata": {},
     "output_type": "execute_result"
    }
   ],
   "source": [
    "f=open('test1.txt') # by default mode ='r'\n",
    "f.read()"
   ]
  },
  {
   "cell_type": "code",
   "execution_count": 9,
   "id": "72cb41ab",
   "metadata": {},
   "outputs": [
    {
     "data": {
      "text/plain": [
       "''"
      ]
     },
     "execution_count": 9,
     "metadata": {},
     "output_type": "execute_result"
    }
   ],
   "source": [
    "f.read()"
   ]
  },
  {
   "cell_type": "code",
   "execution_count": 11,
   "id": "eb792260",
   "metadata": {},
   "outputs": [
    {
     "ename": "UnsupportedOperation",
     "evalue": "not writable",
     "output_type": "error",
     "traceback": [
      "\u001b[1;31m---------------------------------------------------------------------------\u001b[0m",
      "\u001b[1;31mUnsupportedOperation\u001b[0m                      Traceback (most recent call last)",
      "\u001b[1;32mC:\\Users\\TAMILS~1.E\\AppData\\Local\\Temp/ipykernel_12032/431873416.py\u001b[0m in \u001b[0;36m<module>\u001b[1;34m\u001b[0m\n\u001b[1;32m----> 1\u001b[1;33m \u001b[0mf\u001b[0m\u001b[1;33m.\u001b[0m\u001b[0mwrite\u001b[0m\u001b[1;33m(\u001b[0m\u001b[1;34m'yes'\u001b[0m\u001b[1;33m)\u001b[0m\u001b[1;33m\u001b[0m\u001b[1;33m\u001b[0m\u001b[0m\n\u001b[0m",
      "\u001b[1;31mUnsupportedOperation\u001b[0m: not writable"
     ]
    }
   ],
   "source": [
    "f.write('yes')"
   ]
  },
  {
   "cell_type": "code",
   "execution_count": 12,
   "id": "dfd4e65b",
   "metadata": {},
   "outputs": [],
   "source": [
    "f.close()"
   ]
  },
  {
   "cell_type": "markdown",
   "id": "716db7b2",
   "metadata": {},
   "source": [
    "#### Example 3"
   ]
  },
  {
   "cell_type": "code",
   "execution_count": 13,
   "id": "0f4ceccd",
   "metadata": {},
   "outputs": [
    {
     "data": {
      "text/plain": [
       "'Good morning!Hello'"
      ]
     },
     "execution_count": 13,
     "metadata": {},
     "output_type": "execute_result"
    }
   ],
   "source": [
    "f=open('test1.txt','r+')\n",
    "f.read()"
   ]
  },
  {
   "cell_type": "code",
   "execution_count": 14,
   "id": "c0a0821c",
   "metadata": {},
   "outputs": [
    {
     "data": {
      "text/plain": [
       "''"
      ]
     },
     "execution_count": 14,
     "metadata": {},
     "output_type": "execute_result"
    }
   ],
   "source": [
    "f.read()"
   ]
  },
  {
   "cell_type": "code",
   "execution_count": 15,
   "id": "f5bd15ae",
   "metadata": {},
   "outputs": [
    {
     "data": {
      "text/plain": [
       "2"
      ]
     },
     "execution_count": 15,
     "metadata": {},
     "output_type": "execute_result"
    }
   ],
   "source": [
    "f.write('hi')"
   ]
  },
  {
   "cell_type": "code",
   "execution_count": 16,
   "id": "8f3a64a9",
   "metadata": {},
   "outputs": [
    {
     "data": {
      "text/plain": [
       "0"
      ]
     },
     "execution_count": 16,
     "metadata": {},
     "output_type": "execute_result"
    }
   ],
   "source": [
    "f.seek(0)"
   ]
  },
  {
   "cell_type": "code",
   "execution_count": 17,
   "id": "797860db",
   "metadata": {},
   "outputs": [
    {
     "data": {
      "text/plain": [
       "0"
      ]
     },
     "execution_count": 17,
     "metadata": {},
     "output_type": "execute_result"
    }
   ],
   "source": [
    "f.tell()"
   ]
  },
  {
   "cell_type": "code",
   "execution_count": 18,
   "id": "de2c8498",
   "metadata": {},
   "outputs": [
    {
     "data": {
      "text/plain": [
       "'test1.txt'"
      ]
     },
     "execution_count": 18,
     "metadata": {},
     "output_type": "execute_result"
    }
   ],
   "source": [
    "f.name"
   ]
  },
  {
   "cell_type": "code",
   "execution_count": 20,
   "id": "00c51fb0",
   "metadata": {},
   "outputs": [
    {
     "data": {
      "text/plain": [
       "'r+'"
      ]
     },
     "execution_count": 20,
     "metadata": {},
     "output_type": "execute_result"
    }
   ],
   "source": [
    "f.mode"
   ]
  },
  {
   "cell_type": "code",
   "execution_count": 22,
   "id": "e11c91ce",
   "metadata": {},
   "outputs": [],
   "source": [
    "f.writelines('hello')"
   ]
  },
  {
   "cell_type": "code",
   "execution_count": 23,
   "id": "8faeb282",
   "metadata": {},
   "outputs": [
    {
     "data": {
      "text/plain": [
       "'morning!Hellohi'"
      ]
     },
     "execution_count": 23,
     "metadata": {},
     "output_type": "execute_result"
    }
   ],
   "source": [
    "f.read()"
   ]
  },
  {
   "cell_type": "code",
   "execution_count": 25,
   "id": "0f763fdf",
   "metadata": {},
   "outputs": [],
   "source": [
    "f.close()"
   ]
  },
  {
   "cell_type": "markdown",
   "id": "9bee98da",
   "metadata": {},
   "source": [
    "#### Example 4"
   ]
  },
  {
   "cell_type": "code",
   "execution_count": 26,
   "id": "ef08e5cf",
   "metadata": {},
   "outputs": [],
   "source": [
    "f=open('google.txt','w')"
   ]
  },
  {
   "cell_type": "code",
   "execution_count": 27,
   "id": "c6a06af2",
   "metadata": {},
   "outputs": [
    {
     "data": {
      "text/plain": [
       "3006"
      ]
     },
     "execution_count": 27,
     "metadata": {},
     "output_type": "execute_result"
    }
   ],
   "source": [
    "f.write(\"\"\"Google LLC is an American multinational technology company that specializes in Internet-related services and products, which include online advertising technologies, a search engine, cloud computing, software, and hardware. It is considered one of the Big Five companies in the American information technology industry, along with Amazon, Apple, Meta (Facebook) and Microsoft.[10]\n",
    "\n",
    "Google was founded on September 4, 1998, by Larry Page and Sergey Brin while they were Ph.D. students at Stanford University in California. Together they own about 14% of its publicly-listed shares and control 56% of the stockholder voting power through super-voting stock. The company went public via an initial public offering (IPO) in 2004. In 2015, Google was reorganized as a wholly-owned subsidiary of Alphabet Inc.. Google is Alphabet's largest subsidiary and is a holding company for Alphabet's Internet properties and interests. Sundar Pichai was appointed CEO of Google on October 24, 2015, replacing Larry Page, who became the CEO of Alphabet. On December 3, 2019, Pichai also became the CEO of Alphabet.[11]\n",
    "\n",
    "In 2021, the Alphabet Workers Union was founded, mainly composed of Google employees.[12]\n",
    "\n",
    "The company's rapid growth since incorporation has included products, acquisitions, and partnerships beyond Google's core search engine, (Google Search). It offers services designed for work and productivity (Google Docs, Google Sheets, and Google Slides), email (Gmail), scheduling and time management (Google Calendar), cloud storage (Google Drive), instant messaging and video chat (Google Duo, Google Chat, and Google Meet), language translation (Google Translate), mapping and navigation (Google Maps, Waze, Google Earth, and Street View), podcast hosting (Google Podcasts), video sharing (YouTube), blog publishing (Blogger), note-taking (Google Keep and Jamboard), and photo organizing and editing (Google Photos). The company leads the development of the Android mobile operating system, the Google Chrome web browser, and Chrome OS (a lightweight, proprietary operating system based on the free and open-source Chromium OS operating system). Google has moved increasingly into hardware; from 2010 to 2015, it partnered with major electronics manufacturers in the production of its Google Nexus devices, and it released multiple hardware products in 2016, including the Google Pixel line of smartphones, Google Home smart speaker, Google Wifi mesh wireless router. Google has also experimented with becoming an Internet carrier (Google Fiber and Google Fi).\n",
    "\n",
    "Google.com is the most visited website worldwide. Several other Google-owned websites also are on the list of most popular websites, including YouTube and Blogger.[13] On the list of most valuable brands, Google is ranked second by Forbes[14] and fourth by Interbrand.[15] It has received significant criticism involving issues such as privacy concerns, tax avoidance, censorship, search neutrality, antitrust and abuse of its monopoly position.\"\"\")"
   ]
  },
  {
   "cell_type": "code",
   "execution_count": 28,
   "id": "80d48422",
   "metadata": {},
   "outputs": [],
   "source": [
    "f.close()"
   ]
  },
  {
   "cell_type": "markdown",
   "id": "32cbc5f7",
   "metadata": {},
   "source": [
    "#### Example 5"
   ]
  },
  {
   "cell_type": "code",
   "execution_count": 29,
   "id": "452516db",
   "metadata": {},
   "outputs": [],
   "source": [
    "f=open('google.txt','r')"
   ]
  },
  {
   "cell_type": "code",
   "execution_count": 30,
   "id": "85d62929",
   "metadata": {},
   "outputs": [
    {
     "data": {
      "text/plain": [
       "\"Google LLC is an American multinational technology company that specializes in Internet-related services and products, which include online advertising technologies, a search engine, cloud computing, software, and hardware. It is considered one of the Big Five companies in the American information technology industry, along with Amazon, Apple, Meta (Facebook) and Microsoft.[10]\\n\\nGoogle was founded on September 4, 1998, by Larry Page and Sergey Brin while they were Ph.D. students at Stanford University in California. Together they own about 14% of its publicly-listed shares and control 56% of the stockholder voting power through super-voting stock. The company went public via an initial public offering (IPO) in 2004. In 2015, Google was reorganized as a wholly-owned subsidiary of Alphabet Inc.. Google is Alphabet's largest subsidiary and is a holding company for Alphabet's Internet properties and interests. Sundar Pichai was appointed CEO of Google on October 24, 2015, replacing Larry Page, who became the CEO of Alphabet. On December 3, 2019, Pichai also became the CEO of Alphabet.[11]\\n\\nIn 2021, the Alphabet Workers Union was founded, mainly composed of Google employees.[12]\\n\\nThe company's rapid growth since incorporation has included products, acquisitions, and partnerships beyond Google's core search engine, (Google Search). It offers services designed for work and productivity (Google Docs, Google Sheets, and Google Slides), email (Gmail), scheduling and time management (Google Calendar), cloud storage (Google Drive), instant messaging and video chat (Google Duo, Google Chat, and Google Meet), language translation (Google Translate), mapping and navigation (Google Maps, Waze, Google Earth, and Street View), podcast hosting (Google Podcasts), video sharing (YouTube), blog publishing (Blogger), note-taking (Google Keep and Jamboard), and photo organizing and editing (Google Photos). The company leads the development of the Android mobile operating system, the Google Chrome web browser, and Chrome OS (a lightweight, proprietary operating system based on the free and open-source Chromium OS operating system). Google has moved increasingly into hardware; from 2010 to 2015, it partnered with major electronics manufacturers in the production of its Google Nexus devices, and it released multiple hardware products in 2016, including the Google Pixel line of smartphones, Google Home smart speaker, Google Wifi mesh wireless router. Google has also experimented with becoming an Internet carrier (Google Fiber and Google Fi).\\n\\nGoogle.com is the most visited website worldwide. Several other Google-owned websites also are on the list of most popular websites, including YouTube and Blogger.[13] On the list of most valuable brands, Google is ranked second by Forbes[14] and fourth by Interbrand.[15] It has received significant criticism involving issues such as privacy concerns, tax avoidance, censorship, search neutrality, antitrust and abuse of its monopoly position.\""
      ]
     },
     "execution_count": 30,
     "metadata": {},
     "output_type": "execute_result"
    }
   ],
   "source": [
    "f.read()"
   ]
  },
  {
   "cell_type": "code",
   "execution_count": 31,
   "id": "766a7d6d",
   "metadata": {},
   "outputs": [
    {
     "data": {
      "text/plain": [
       "''"
      ]
     },
     "execution_count": 31,
     "metadata": {},
     "output_type": "execute_result"
    }
   ],
   "source": [
    "f.read()"
   ]
  },
  {
   "cell_type": "code",
   "execution_count": 32,
   "id": "22bbc7bc",
   "metadata": {},
   "outputs": [
    {
     "data": {
      "text/plain": [
       "0"
      ]
     },
     "execution_count": 32,
     "metadata": {},
     "output_type": "execute_result"
    }
   ],
   "source": [
    "f.seek(0)"
   ]
  },
  {
   "cell_type": "code",
   "execution_count": 34,
   "id": "30648fea",
   "metadata": {},
   "outputs": [
    {
     "data": {
      "text/plain": [
       "0"
      ]
     },
     "execution_count": 34,
     "metadata": {},
     "output_type": "execute_result"
    }
   ],
   "source": [
    "f.tell()"
   ]
  },
  {
   "cell_type": "code",
   "execution_count": 35,
   "id": "f4c3da2b",
   "metadata": {},
   "outputs": [
    {
     "data": {
      "text/plain": [
       "'Google LLC is an American multinational technology company that specializes in Internet-related services and products, which include online advertising technologies, a search engine, cloud computing, software, and hardware. It is considered one of the Big Five companies in the American information technology industry, along with Amazon, Apple, Meta (Facebook) and Microsoft.[10]\\n'"
      ]
     },
     "execution_count": 35,
     "metadata": {},
     "output_type": "execute_result"
    }
   ],
   "source": [
    "f.readline()"
   ]
  },
  {
   "cell_type": "code",
   "execution_count": 36,
   "id": "d0cfc736",
   "metadata": {},
   "outputs": [
    {
     "data": {
      "text/plain": [
       "'\\n'"
      ]
     },
     "execution_count": 36,
     "metadata": {},
     "output_type": "execute_result"
    }
   ],
   "source": [
    "f.readline()"
   ]
  },
  {
   "cell_type": "code",
   "execution_count": 37,
   "id": "9d270d6c",
   "metadata": {},
   "outputs": [
    {
     "data": {
      "text/plain": [
       "\"Google was founded on September 4, 1998, by Larry Page and Sergey Brin while they were Ph.D. students at Stanford University in California. Together they own about 14% of its publicly-listed shares and control 56% of the stockholder voting power through super-voting stock. The company went public via an initial public offering (IPO) in 2004. In 2015, Google was reorganized as a wholly-owned subsidiary of Alphabet Inc.. Google is Alphabet's largest subsidiary and is a holding company for Alphabet's Internet properties and interests. Sundar Pichai was appointed CEO of Google on October 24, 2015, replacing Larry Page, who became the CEO of Alphabet. On December 3, 2019, Pichai also became the CEO of Alphabet.[11]\\n\""
      ]
     },
     "execution_count": 37,
     "metadata": {},
     "output_type": "execute_result"
    }
   ],
   "source": [
    "f.readline()"
   ]
  },
  {
   "cell_type": "code",
   "execution_count": 38,
   "id": "755d63c5",
   "metadata": {},
   "outputs": [
    {
     "data": {
      "text/plain": [
       "'\\n'"
      ]
     },
     "execution_count": 38,
     "metadata": {},
     "output_type": "execute_result"
    }
   ],
   "source": [
    "f.readline()"
   ]
  },
  {
   "cell_type": "code",
   "execution_count": 39,
   "id": "fb56a551",
   "metadata": {},
   "outputs": [
    {
     "data": {
      "text/plain": [
       "'In 2021, the Alphabet Workers Union was founded, mainly composed of Google employees.[12]\\n'"
      ]
     },
     "execution_count": 39,
     "metadata": {},
     "output_type": "execute_result"
    }
   ],
   "source": [
    "f.readline()"
   ]
  },
  {
   "cell_type": "code",
   "execution_count": 40,
   "id": "5093674d",
   "metadata": {},
   "outputs": [
    {
     "data": {
      "text/plain": [
       "'\\n'"
      ]
     },
     "execution_count": 40,
     "metadata": {},
     "output_type": "execute_result"
    }
   ],
   "source": [
    "f.readline()"
   ]
  },
  {
   "cell_type": "code",
   "execution_count": 41,
   "id": "a5f25a91",
   "metadata": {},
   "outputs": [
    {
     "data": {
      "text/plain": [
       "\"The company's rapid growth since incorporation has included products, acquisitions, and partnerships beyond Google's core search engine, (Google Search). It offers services designed for work and productivity (Google Docs, Google Sheets, and Google Slides), email (Gmail), scheduling and time management (Google Calendar), cloud storage (Google Drive), instant messaging and video chat (Google Duo, Google Chat, and Google Meet), language translation (Google Translate), mapping and navigation (Google Maps, Waze, Google Earth, and Street View), podcast hosting (Google Podcasts), video sharing (YouTube), blog publishing (Blogger), note-taking (Google Keep and Jamboard), and photo organizing and editing (Google Photos). The company leads the development of the Android mobile operating system, the Google Chrome web browser, and Chrome OS (a lightweight, proprietary operating system based on the free and open-source Chromium OS operating system). Google has moved increasingly into hardware; from 2010 to 2015, it partnered with major electronics manufacturers in the production of its Google Nexus devices, and it released multiple hardware products in 2016, including the Google Pixel line of smartphones, Google Home smart speaker, Google Wifi mesh wireless router. Google has also experimented with becoming an Internet carrier (Google Fiber and Google Fi).\\n\""
      ]
     },
     "execution_count": 41,
     "metadata": {},
     "output_type": "execute_result"
    }
   ],
   "source": [
    "f.readline()"
   ]
  },
  {
   "cell_type": "code",
   "execution_count": 42,
   "id": "f67a1be8",
   "metadata": {},
   "outputs": [
    {
     "data": {
      "text/plain": [
       "'\\n'"
      ]
     },
     "execution_count": 42,
     "metadata": {},
     "output_type": "execute_result"
    }
   ],
   "source": [
    "f.readline()"
   ]
  },
  {
   "cell_type": "code",
   "execution_count": 43,
   "id": "8afd2098",
   "metadata": {},
   "outputs": [
    {
     "data": {
      "text/plain": [
       "'Google.com is the most visited website worldwide. Several other Google-owned websites also are on the list of most popular websites, including YouTube and Blogger.[13] On the list of most valuable brands, Google is ranked second by Forbes[14] and fourth by Interbrand.[15] It has received significant criticism involving issues such as privacy concerns, tax avoidance, censorship, search neutrality, antitrust and abuse of its monopoly position.'"
      ]
     },
     "execution_count": 43,
     "metadata": {},
     "output_type": "execute_result"
    }
   ],
   "source": [
    "f.readline()"
   ]
  },
  {
   "cell_type": "code",
   "execution_count": 44,
   "id": "81d943a3",
   "metadata": {},
   "outputs": [
    {
     "data": {
      "text/plain": [
       "''"
      ]
     },
     "execution_count": 44,
     "metadata": {},
     "output_type": "execute_result"
    }
   ],
   "source": [
    "f.readline()"
   ]
  },
  {
   "cell_type": "code",
   "execution_count": 45,
   "id": "85b68b65",
   "metadata": {},
   "outputs": [
    {
     "data": {
      "text/plain": [
       "''"
      ]
     },
     "execution_count": 45,
     "metadata": {},
     "output_type": "execute_result"
    }
   ],
   "source": [
    "f.readline()"
   ]
  },
  {
   "cell_type": "code",
   "execution_count": 46,
   "id": "a38f136d",
   "metadata": {},
   "outputs": [
    {
     "data": {
      "text/plain": [
       "3014"
      ]
     },
     "execution_count": 46,
     "metadata": {},
     "output_type": "execute_result"
    }
   ],
   "source": [
    "f.tell()"
   ]
  },
  {
   "cell_type": "code",
   "execution_count": 47,
   "id": "102ddbf3",
   "metadata": {},
   "outputs": [
    {
     "data": {
      "text/plain": [
       "0"
      ]
     },
     "execution_count": 47,
     "metadata": {},
     "output_type": "execute_result"
    }
   ],
   "source": [
    "f.seek(0)"
   ]
  },
  {
   "cell_type": "code",
   "execution_count": 48,
   "id": "3594a2ba",
   "metadata": {},
   "outputs": [
    {
     "data": {
      "text/plain": [
       "['Google LLC is an American multinational technology company that specializes in Internet-related services and products, which include online advertising technologies, a search engine, cloud computing, software, and hardware. It is considered one of the Big Five companies in the American information technology industry, along with Amazon, Apple, Meta (Facebook) and Microsoft.[10]\\n',\n",
       " '\\n',\n",
       " \"Google was founded on September 4, 1998, by Larry Page and Sergey Brin while they were Ph.D. students at Stanford University in California. Together they own about 14% of its publicly-listed shares and control 56% of the stockholder voting power through super-voting stock. The company went public via an initial public offering (IPO) in 2004. In 2015, Google was reorganized as a wholly-owned subsidiary of Alphabet Inc.. Google is Alphabet's largest subsidiary and is a holding company for Alphabet's Internet properties and interests. Sundar Pichai was appointed CEO of Google on October 24, 2015, replacing Larry Page, who became the CEO of Alphabet. On December 3, 2019, Pichai also became the CEO of Alphabet.[11]\\n\",\n",
       " '\\n',\n",
       " 'In 2021, the Alphabet Workers Union was founded, mainly composed of Google employees.[12]\\n',\n",
       " '\\n',\n",
       " \"The company's rapid growth since incorporation has included products, acquisitions, and partnerships beyond Google's core search engine, (Google Search). It offers services designed for work and productivity (Google Docs, Google Sheets, and Google Slides), email (Gmail), scheduling and time management (Google Calendar), cloud storage (Google Drive), instant messaging and video chat (Google Duo, Google Chat, and Google Meet), language translation (Google Translate), mapping and navigation (Google Maps, Waze, Google Earth, and Street View), podcast hosting (Google Podcasts), video sharing (YouTube), blog publishing (Blogger), note-taking (Google Keep and Jamboard), and photo organizing and editing (Google Photos). The company leads the development of the Android mobile operating system, the Google Chrome web browser, and Chrome OS (a lightweight, proprietary operating system based on the free and open-source Chromium OS operating system). Google has moved increasingly into hardware; from 2010 to 2015, it partnered with major electronics manufacturers in the production of its Google Nexus devices, and it released multiple hardware products in 2016, including the Google Pixel line of smartphones, Google Home smart speaker, Google Wifi mesh wireless router. Google has also experimented with becoming an Internet carrier (Google Fiber and Google Fi).\\n\",\n",
       " '\\n',\n",
       " 'Google.com is the most visited website worldwide. Several other Google-owned websites also are on the list of most popular websites, including YouTube and Blogger.[13] On the list of most valuable brands, Google is ranked second by Forbes[14] and fourth by Interbrand.[15] It has received significant criticism involving issues such as privacy concerns, tax avoidance, censorship, search neutrality, antitrust and abuse of its monopoly position.']"
      ]
     },
     "execution_count": 48,
     "metadata": {},
     "output_type": "execute_result"
    }
   ],
   "source": [
    "f.readlines()"
   ]
  },
  {
   "cell_type": "code",
   "execution_count": 49,
   "id": "7debb61b",
   "metadata": {},
   "outputs": [
    {
     "data": {
      "text/plain": [
       "[]"
      ]
     },
     "execution_count": 49,
     "metadata": {},
     "output_type": "execute_result"
    }
   ],
   "source": [
    "f.readlines()"
   ]
  },
  {
   "cell_type": "code",
   "execution_count": 50,
   "id": "42a24f8d",
   "metadata": {},
   "outputs": [
    {
     "data": {
      "text/plain": [
       "3014"
      ]
     },
     "execution_count": 50,
     "metadata": {},
     "output_type": "execute_result"
    }
   ],
   "source": [
    "f.tell()"
   ]
  },
  {
   "cell_type": "code",
   "execution_count": 51,
   "id": "670fb33e",
   "metadata": {},
   "outputs": [],
   "source": [
    "f.close()"
   ]
  },
  {
   "cell_type": "markdown",
   "id": "a2234106",
   "metadata": {},
   "source": [
    "#### Example 6"
   ]
  },
  {
   "cell_type": "code",
   "execution_count": 61,
   "id": "295da529",
   "metadata": {},
   "outputs": [],
   "source": [
    "f=open('google.txt','r+')"
   ]
  },
  {
   "cell_type": "code",
   "execution_count": 62,
   "id": "5f54bf34",
   "metadata": {},
   "outputs": [
    {
     "name": "stdout",
     "output_type": "stream",
     "text": [
      "Google LLC is an American multinational technology company that specializes in Internet-related services and products, which include online advertising technologies, a search engine, cloud computing, software, and hardware. It is considered one of the Big Five companies in the American information technology industry, along with Amazon, Apple, Meta (Facebook) and Microsoft.[10]\n",
      "\n",
      "Google was founded on September 4, 1998, by Larry Page and Sergey Brin while they were Ph.D. students at Stanford University in California. Together they own about 14% of its publicly-listed shares and control 56% of the stockholder voting power through super-voting stock. The company went public via an initial public offering (IPO) in 2004. In 2015, Google was reorganized as a wholly-owned subsidiary of Alphabet Inc.. Google is Alphabet's largest subsidiary and is a holding company for Alphabet's Internet properties and interests. Sundar Pichai was appointed CEO of Google on October 24, 2015, replacing Larry Page, who became the CEO of Alphabet. On December 3, 2019, Pichai also became the CEO of Alphabet.[11]\n",
      "\n",
      "In 2021, the Alphabet Workers Union was founded, mainly composed of Google employees.[12]\n",
      "\n",
      "The company's rapid growth since incorporation has included products, acquisitions, and partnerships beyond Google's core search engine, (Google Search). It offers services designed for work and productivity (Google Docs, Google Sheets, and Google Slides), email (Gmail), scheduling and time management (Google Calendar), cloud storage (Google Drive), instant messaging and video chat (Google Duo, Google Chat, and Google Meet), language translation (Google Translate), mapping and navigation (Google Maps, Waze, Google Earth, and Street View), podcast hosting (Google Podcasts), video sharing (YouTube), blog publishing (Blogger), note-taking (Google Keep and Jamboard), and photo organizing and editing (Google Photos). The company leads the development of the Android mobile operating system, the Google Chrome web browser, and Chrome OS (a lightweight, proprietary operating system based on the free and open-source Chromium OS operating system). Google has moved increasingly into hardware; from 2010 to 2015, it partnered with major electronics manufacturers in the production of its Google Nexus devices, and it released multiple hardware products in 2016, including the Google Pixel line of smartphones, Google Home smart speaker, Google Wifi mesh wireless router. Google has also experimented with becoming an Internet carrier (Google Fiber and Google Fi).\n",
      "\n",
      "Google.com is the most visited website worldwide. Several other Google-owned websites also are on the list of most popular websites, including YouTube and Blogger.[13] On the list of most valuable brands, Google is ranked second by Forbes[14] and fourth by Interbrand.[15] It has received significant criticism involving issues such as privacy concerns, tax avoidance, censorship, search neutrality, antitrust and abuse of its monopoly position."
     ]
    }
   ],
   "source": [
    "for i in f:\n",
    "    print(i,end=\"\")"
   ]
  },
  {
   "cell_type": "code",
   "execution_count": 67,
   "id": "c0c5ba26",
   "metadata": {},
   "outputs": [
    {
     "data": {
      "text/plain": [
       "0"
      ]
     },
     "execution_count": 67,
     "metadata": {},
     "output_type": "execute_result"
    }
   ],
   "source": [
    "f.seek(0)"
   ]
  },
  {
   "cell_type": "code",
   "execution_count": 68,
   "id": "f052ddb6",
   "metadata": {},
   "outputs": [
    {
     "data": {
      "text/plain": [
       "0"
      ]
     },
     "execution_count": 68,
     "metadata": {},
     "output_type": "execute_result"
    }
   ],
   "source": [
    "f.tell()"
   ]
  },
  {
   "cell_type": "code",
   "execution_count": 69,
   "id": "e805bcdf",
   "metadata": {},
   "outputs": [
    {
     "data": {
      "text/plain": [
       "9"
      ]
     },
     "execution_count": 69,
     "metadata": {},
     "output_type": "execute_result"
    }
   ],
   "source": [
    "len(f.readlines())"
   ]
  },
  {
   "cell_type": "code",
   "execution_count": 70,
   "id": "770e9e9f",
   "metadata": {},
   "outputs": [
    {
     "data": {
      "text/plain": [
       "[]"
      ]
     },
     "execution_count": 70,
     "metadata": {},
     "output_type": "execute_result"
    }
   ],
   "source": [
    "f.readlines()"
   ]
  },
  {
   "cell_type": "code",
   "execution_count": 72,
   "id": "2c16c558",
   "metadata": {},
   "outputs": [
    {
     "data": {
      "text/plain": [
       "0"
      ]
     },
     "execution_count": 72,
     "metadata": {},
     "output_type": "execute_result"
    }
   ],
   "source": [
    "f.seek(0)"
   ]
  },
  {
   "cell_type": "code",
   "execution_count": 73,
   "id": "6e352791",
   "metadata": {},
   "outputs": [],
   "source": [
    "l=f.readlines()"
   ]
  },
  {
   "cell_type": "code",
   "execution_count": 74,
   "id": "52412e60",
   "metadata": {},
   "outputs": [
    {
     "data": {
      "text/plain": [
       "['Google LLC is an American multinational technology company that specializes in Internet-related services and products, which include online advertising technologies, a search engine, cloud computing, software, and hardware. It is considered one of the Big Five companies in the American information technology industry, along with Amazon, Apple, Meta (Facebook) and Microsoft.[10]\\n',\n",
       " '\\n',\n",
       " \"Google was founded on September 4, 1998, by Larry Page and Sergey Brin while they were Ph.D. students at Stanford University in California. Together they own about 14% of its publicly-listed shares and control 56% of the stockholder voting power through super-voting stock. The company went public via an initial public offering (IPO) in 2004. In 2015, Google was reorganized as a wholly-owned subsidiary of Alphabet Inc.. Google is Alphabet's largest subsidiary and is a holding company for Alphabet's Internet properties and interests. Sundar Pichai was appointed CEO of Google on October 24, 2015, replacing Larry Page, who became the CEO of Alphabet. On December 3, 2019, Pichai also became the CEO of Alphabet.[11]\\n\",\n",
       " '\\n',\n",
       " 'In 2021, the Alphabet Workers Union was founded, mainly composed of Google employees.[12]\\n',\n",
       " '\\n',\n",
       " \"The company's rapid growth since incorporation has included products, acquisitions, and partnerships beyond Google's core search engine, (Google Search). It offers services designed for work and productivity (Google Docs, Google Sheets, and Google Slides), email (Gmail), scheduling and time management (Google Calendar), cloud storage (Google Drive), instant messaging and video chat (Google Duo, Google Chat, and Google Meet), language translation (Google Translate), mapping and navigation (Google Maps, Waze, Google Earth, and Street View), podcast hosting (Google Podcasts), video sharing (YouTube), blog publishing (Blogger), note-taking (Google Keep and Jamboard), and photo organizing and editing (Google Photos). The company leads the development of the Android mobile operating system, the Google Chrome web browser, and Chrome OS (a lightweight, proprietary operating system based on the free and open-source Chromium OS operating system). Google has moved increasingly into hardware; from 2010 to 2015, it partnered with major electronics manufacturers in the production of its Google Nexus devices, and it released multiple hardware products in 2016, including the Google Pixel line of smartphones, Google Home smart speaker, Google Wifi mesh wireless router. Google has also experimented with becoming an Internet carrier (Google Fiber and Google Fi).\\n\",\n",
       " '\\n',\n",
       " 'Google.com is the most visited website worldwide. Several other Google-owned websites also are on the list of most popular websites, including YouTube and Blogger.[13] On the list of most valuable brands, Google is ranked second by Forbes[14] and fourth by Interbrand.[15] It has received significant criticism involving issues such as privacy concerns, tax avoidance, censorship, search neutrality, antitrust and abuse of its monopoly position.']"
      ]
     },
     "execution_count": 74,
     "metadata": {},
     "output_type": "execute_result"
    }
   ],
   "source": [
    "l"
   ]
  },
  {
   "cell_type": "code",
   "execution_count": 77,
   "id": "ff217570",
   "metadata": {},
   "outputs": [
    {
     "data": {
      "text/plain": [
       "['Google',\n",
       " 'LLC',\n",
       " 'is',\n",
       " 'an',\n",
       " 'American',\n",
       " 'multinational',\n",
       " 'technology',\n",
       " 'company',\n",
       " 'that',\n",
       " 'specializes',\n",
       " 'in',\n",
       " 'Internet-related',\n",
       " 'services',\n",
       " 'and',\n",
       " 'products,',\n",
       " 'which',\n",
       " 'include',\n",
       " 'online',\n",
       " 'advertising',\n",
       " 'technologies,',\n",
       " 'a',\n",
       " 'search',\n",
       " 'engine,',\n",
       " 'cloud',\n",
       " 'computing,',\n",
       " 'software,',\n",
       " 'and',\n",
       " 'hardware.',\n",
       " 'It',\n",
       " 'is',\n",
       " 'considered',\n",
       " 'one',\n",
       " 'of',\n",
       " 'the',\n",
       " 'Big',\n",
       " 'Five',\n",
       " 'companies',\n",
       " 'in',\n",
       " 'the',\n",
       " 'American',\n",
       " 'information',\n",
       " 'technology',\n",
       " 'industry,',\n",
       " 'along',\n",
       " 'with',\n",
       " 'Amazon,',\n",
       " 'Apple,',\n",
       " 'Meta',\n",
       " '(Facebook)',\n",
       " 'and',\n",
       " 'Microsoft.[10]\\n']"
      ]
     },
     "execution_count": 77,
     "metadata": {},
     "output_type": "execute_result"
    }
   ],
   "source": [
    "l[0].split(sep=\" \")"
   ]
  },
  {
   "cell_type": "code",
   "execution_count": 78,
   "id": "37f34b42",
   "metadata": {},
   "outputs": [
    {
     "name": "stdout",
     "output_type": "stream",
     "text": [
      "G\n",
      "L\n",
      "i\n",
      "a\n",
      "A\n",
      "m\n",
      "t\n",
      "c\n",
      "t\n",
      "s\n",
      "i\n",
      "I\n",
      "s\n",
      "a\n",
      "p\n",
      "w\n",
      "i\n",
      "o\n",
      "a\n",
      "t\n",
      "a\n",
      "s\n",
      "e\n",
      "c\n",
      "c\n",
      "s\n",
      "a\n",
      "h\n",
      "I\n",
      "i\n",
      "c\n",
      "o\n",
      "o\n",
      "t\n",
      "B\n",
      "F\n",
      "c\n",
      "i\n",
      "t\n",
      "A\n",
      "i\n",
      "t\n",
      "i\n",
      "a\n",
      "w\n",
      "A\n",
      "A\n",
      "M\n",
      "(\n",
      "a\n",
      "M\n"
     ]
    }
   ],
   "source": [
    "for i in l[0].split(sep=\" \"):\n",
    "    print(i[0])"
   ]
  },
  {
   "cell_type": "code",
   "execution_count": 79,
   "id": "947092d0",
   "metadata": {},
   "outputs": [
    {
     "data": {
      "text/plain": [
       "['G',\n",
       " 'L',\n",
       " 'i',\n",
       " 'a',\n",
       " 'A',\n",
       " 'm',\n",
       " 't',\n",
       " 'c',\n",
       " 't',\n",
       " 's',\n",
       " 'i',\n",
       " 'I',\n",
       " 's',\n",
       " 'a',\n",
       " 'p',\n",
       " 'w',\n",
       " 'i',\n",
       " 'o',\n",
       " 'a',\n",
       " 't',\n",
       " 'a',\n",
       " 's',\n",
       " 'e',\n",
       " 'c',\n",
       " 'c',\n",
       " 's',\n",
       " 'a',\n",
       " 'h',\n",
       " 'I',\n",
       " 'i',\n",
       " 'c',\n",
       " 'o',\n",
       " 'o',\n",
       " 't',\n",
       " 'B',\n",
       " 'F',\n",
       " 'c',\n",
       " 'i',\n",
       " 't',\n",
       " 'A',\n",
       " 'i',\n",
       " 't',\n",
       " 'i',\n",
       " 'a',\n",
       " 'w',\n",
       " 'A',\n",
       " 'A',\n",
       " 'M',\n",
       " '(',\n",
       " 'a',\n",
       " 'M']"
      ]
     },
     "execution_count": 79,
     "metadata": {},
     "output_type": "execute_result"
    }
   ],
   "source": [
    "[i[0] for i in l[0].split(sep=\" \")]"
   ]
  },
  {
   "cell_type": "code",
   "execution_count": 80,
   "id": "c42823b1",
   "metadata": {},
   "outputs": [
    {
     "data": {
      "text/plain": [
       "'google.txt'"
      ]
     },
     "execution_count": 80,
     "metadata": {},
     "output_type": "execute_result"
    }
   ],
   "source": [
    "f.name"
   ]
  },
  {
   "cell_type": "code",
   "execution_count": 81,
   "id": "3b75056f",
   "metadata": {},
   "outputs": [
    {
     "data": {
      "text/plain": [
       "'r+'"
      ]
     },
     "execution_count": 81,
     "metadata": {},
     "output_type": "execute_result"
    }
   ],
   "source": [
    "f.mode"
   ]
  },
  {
   "cell_type": "markdown",
   "id": "e2d02ba6",
   "metadata": {},
   "source": [
    "#### Example 7"
   ]
  },
  {
   "cell_type": "code",
   "execution_count": 82,
   "id": "a3bd3009",
   "metadata": {},
   "outputs": [],
   "source": [
    "f=open('test2.txt','w+')"
   ]
  },
  {
   "cell_type": "code",
   "execution_count": 83,
   "id": "053a50c9",
   "metadata": {},
   "outputs": [],
   "source": [
    "f.writelines('Hi')"
   ]
  },
  {
   "cell_type": "code",
   "execution_count": 84,
   "id": "6f30784c",
   "metadata": {},
   "outputs": [],
   "source": [
    "f.writelines('Hello')"
   ]
  },
  {
   "cell_type": "code",
   "execution_count": 85,
   "id": "a1c9cc06",
   "metadata": {},
   "outputs": [],
   "source": [
    "f.close()"
   ]
  },
  {
   "cell_type": "code",
   "execution_count": 86,
   "id": "efd014c6",
   "metadata": {},
   "outputs": [],
   "source": [
    "# result:HiHello"
   ]
  },
  {
   "cell_type": "code",
   "execution_count": 89,
   "id": "d69fe02c",
   "metadata": {},
   "outputs": [],
   "source": [
    "f=open('test2.txt','w+')"
   ]
  },
  {
   "cell_type": "code",
   "execution_count": 90,
   "id": "d25de736",
   "metadata": {},
   "outputs": [
    {
     "data": {
      "text/plain": [
       "2"
      ]
     },
     "execution_count": 90,
     "metadata": {},
     "output_type": "execute_result"
    }
   ],
   "source": [
    "f.write('Hi')"
   ]
  },
  {
   "cell_type": "code",
   "execution_count": 91,
   "id": "9e8ab03c",
   "metadata": {},
   "outputs": [
    {
     "data": {
      "text/plain": [
       "5"
      ]
     },
     "execution_count": 91,
     "metadata": {},
     "output_type": "execute_result"
    }
   ],
   "source": [
    "f.write('Hello')"
   ]
  },
  {
   "cell_type": "code",
   "execution_count": 92,
   "id": "65fd73d3",
   "metadata": {},
   "outputs": [],
   "source": [
    "f.close()"
   ]
  },
  {
   "cell_type": "code",
   "execution_count": 93,
   "id": "f61a7929",
   "metadata": {},
   "outputs": [],
   "source": [
    "# result:HiHello"
   ]
  },
  {
   "cell_type": "code",
   "execution_count": 95,
   "id": "1d220478",
   "metadata": {},
   "outputs": [],
   "source": [
    "f=open('test2.txt','w+')"
   ]
  },
  {
   "cell_type": "code",
   "execution_count": 96,
   "id": "0ef216e2",
   "metadata": {},
   "outputs": [],
   "source": [
    "f.writelines('Hi\\n')"
   ]
  },
  {
   "cell_type": "code",
   "execution_count": 97,
   "id": "5194dbbb",
   "metadata": {},
   "outputs": [],
   "source": [
    "f.writelines('Hello\\n')"
   ]
  },
  {
   "cell_type": "code",
   "execution_count": 98,
   "id": "24635c41",
   "metadata": {},
   "outputs": [],
   "source": [
    "f.close()"
   ]
  },
  {
   "cell_type": "code",
   "execution_count": 99,
   "id": "bd88b66b",
   "metadata": {},
   "outputs": [],
   "source": [
    "# result:\n",
    "# Hi\n",
    "# Hello"
   ]
  },
  {
   "cell_type": "code",
   "execution_count": 104,
   "id": "1edf328c",
   "metadata": {},
   "outputs": [],
   "source": [
    "f=open('test3.txt','w+')"
   ]
  },
  {
   "cell_type": "code",
   "execution_count": 105,
   "id": "da86a2fb",
   "metadata": {},
   "outputs": [
    {
     "data": {
      "text/plain": [
       "3"
      ]
     },
     "execution_count": 105,
     "metadata": {},
     "output_type": "execute_result"
    }
   ],
   "source": [
    "f.write('Hi\\n')"
   ]
  },
  {
   "cell_type": "code",
   "execution_count": 106,
   "id": "30f2ab7b",
   "metadata": {},
   "outputs": [
    {
     "data": {
      "text/plain": [
       "6"
      ]
     },
     "execution_count": 106,
     "metadata": {},
     "output_type": "execute_result"
    }
   ],
   "source": [
    "f.write('Hello\\n')"
   ]
  },
  {
   "cell_type": "code",
   "execution_count": 107,
   "id": "f3c6b351",
   "metadata": {},
   "outputs": [],
   "source": [
    "f.close()"
   ]
  },
  {
   "cell_type": "code",
   "execution_count": 108,
   "id": "157f24c0",
   "metadata": {},
   "outputs": [],
   "source": [
    "# result:\n",
    "# Hi\n",
    "# Hello"
   ]
  },
  {
   "cell_type": "code",
   "execution_count": 109,
   "id": "df292977",
   "metadata": {},
   "outputs": [],
   "source": [
    "f=open('test3.txt','w+')"
   ]
  },
  {
   "cell_type": "code",
   "execution_count": 110,
   "id": "77490a17",
   "metadata": {},
   "outputs": [],
   "source": [
    "f.flush()"
   ]
  },
  {
   "cell_type": "code",
   "execution_count": 111,
   "id": "a3f82047",
   "metadata": {},
   "outputs": [],
   "source": [
    "f.close()"
   ]
  },
  {
   "cell_type": "markdown",
   "id": "0fe74ba7",
   "metadata": {},
   "source": [
    "#### File system"
   ]
  },
  {
   "cell_type": "code",
   "execution_count": 112,
   "id": "7ca41643",
   "metadata": {},
   "outputs": [],
   "source": [
    "import os"
   ]
  },
  {
   "cell_type": "code",
   "execution_count": 115,
   "id": "916efde9",
   "metadata": {},
   "outputs": [],
   "source": [
    "os.remove('test3.txt')"
   ]
  },
  {
   "cell_type": "code",
   "execution_count": 116,
   "id": "03e77f8a",
   "metadata": {},
   "outputs": [
    {
     "name": "stdout",
     "output_type": "stream",
     "text": [
      " Volume in drive C has no label.\n",
      " Volume Serial Number is 0C41-70CA\n",
      "\n",
      " Directory of C:\\Users\\Tamilselvan.E\n",
      "\n",
      "22-01-2022  08:26    <DIR>          .\n",
      "22-01-2022  08:26    <DIR>          ..\n",
      "22-01-2022  07:54    <DIR>          .ipynb_checkpoints\n",
      "06-01-2022  20:08    <DIR>          .ipython\n",
      "11-01-2022  06:58    <DIR>          .jupyter\n",
      "12-01-2022  10:38    <DIR>          .openjfx\n",
      "24-07-2021  09:36    <DIR>          .oracle_jre_usage\n",
      "12-01-2022  10:38    <DIR>          .soapuios\n",
      "28-10-2021  16:29    <DIR>          3D Objects\n",
      "06-01-2022  19:31    <DIR>          anaconda3\n",
      "24-07-2021  09:20    <DIR>          Contacts\n",
      "17-01-2022  15:19               254 default-soapui-workspace.xml\n",
      "21-01-2022  19:51    <DIR>          Desktop\n",
      "20-01-2022  16:52    <DIR>          Documents\n",
      "22-01-2022  06:45    <DIR>          Downloads\n",
      "21-01-2022  19:29            26,932 Exception Handling - Class2.ipynb\n",
      "21-01-2022  13:14            15,090 Exception Handling Class1 TS.ipynb\n",
      "28-10-2021  18:17    <DIR>          Favorites\n",
      "22-01-2022  08:10             3,014 google.txt\n",
      "22-01-2022  07:21           277,400 Iterator and Generator.ipynb\n",
      "24-07-2021  09:20    <DIR>          Links\n",
      "21-01-2022  19:50             3,635 Logging .ipynb\n",
      "24-07-2021  09:20    <DIR>          Music\n",
      "29-07-2021  18:47    <DIR>          OneDrive\n",
      "09-12-2021  09:21    <DIR>          Pictures\n",
      "24-07-2021  09:20    <DIR>          Saved Games\n",
      "24-07-2021  09:31    <DIR>          Searches\n",
      "17-01-2022  15:19             2,527 soapui-settings.xml\n",
      "22-01-2022  08:10                 0 test1.txt\n",
      "22-01-2022  08:22                11 test2.txt\n",
      "07-01-2022  08:25           109,596 Untitled.ipynb\n",
      "08-01-2022  12:35            11,228 Untitled1.ipynb\n",
      "17-01-2022  02:57             4,467 Untitled10.ipynb\n",
      "20-01-2022  08:33            15,481 Untitled11.ipynb\n",
      "20-01-2022  08:44            13,070 Untitled12.ipynb\n",
      "21-01-2022  06:23             1,985 Untitled13.ipynb\n",
      "21-01-2022  08:41            16,480 Untitled14.ipynb\n",
      "21-01-2022  12:37            13,768 Untitled15.ipynb\n",
      "21-01-2022  13:07            15,090 Untitled16.ipynb\n",
      "21-01-2022  17:02            20,927 Untitled17.ipynb\n",
      "21-01-2022  18:51            22,433 Untitled18.ipynb\n",
      "21-01-2022  19:28            26,932 Untitled19.ipynb\n",
      "09-01-2022  13:13            61,789 Untitled2.ipynb\n",
      "21-01-2022  19:50             3,635 Untitled20.ipynb\n",
      "22-01-2022  07:19           277,266 Untitled21.ipynb\n",
      "22-01-2022  08:10            37,991 Untitled22.ipynb\n",
      "22-01-2022  07:54                72 Untitled23.ipynb\n",
      "22-01-2022  08:24            48,742 Untitled24.ipynb\n",
      "10-01-2022  06:35             2,135 Untitled3.ipynb\n",
      "10-01-2022  08:41            17,252 Untitled4.ipynb\n",
      "11-01-2022  00:13            85,535 Untitled5.ipynb\n",
      "11-01-2022  08:26            12,476 Untitled6.ipynb\n",
      "11-01-2022  23:31            20,836 Untitled7.ipynb\n",
      "12-01-2022  08:28            22,528 Untitled8.ipynb\n",
      "13-01-2022  08:59            90,040 Untitled9.ipynb\n",
      "28-07-2021  09:08    <DIR>          Videos\n",
      "              34 File(s)      1,280,617 bytes\n",
      "              22 Dir(s)  153,900,470,272 bytes free\n"
     ]
    }
   ],
   "source": [
    "%ls"
   ]
  },
  {
   "cell_type": "code",
   "execution_count": 117,
   "id": "c638b53f",
   "metadata": {},
   "outputs": [
    {
     "data": {
      "text/plain": [
       "'C:\\\\Users\\\\Tamilselvan.E'"
      ]
     },
     "execution_count": 117,
     "metadata": {},
     "output_type": "execute_result"
    }
   ],
   "source": [
    "pwd"
   ]
  },
  {
   "cell_type": "code",
   "execution_count": 118,
   "id": "681db6c5",
   "metadata": {},
   "outputs": [
    {
     "data": {
      "text/plain": [
       "'C:\\\\Users\\\\Tamilselvan.E'"
      ]
     },
     "execution_count": 118,
     "metadata": {},
     "output_type": "execute_result"
    }
   ],
   "source": [
    "pwd()"
   ]
  },
  {
   "cell_type": "code",
   "execution_count": 119,
   "id": "d09df4f2",
   "metadata": {},
   "outputs": [
    {
     "data": {
      "text/plain": [
       "'C:\\\\Users\\\\Tamilselvan.E'"
      ]
     },
     "execution_count": 119,
     "metadata": {},
     "output_type": "execute_result"
    }
   ],
   "source": [
    "os.getcwd()"
   ]
  },
  {
   "cell_type": "code",
   "execution_count": 120,
   "id": "91cdc563",
   "metadata": {},
   "outputs": [
    {
     "data": {
      "text/plain": [
       "['.ipynb_checkpoints',\n",
       " '.ipython',\n",
       " '.jupyter',\n",
       " '.openjfx',\n",
       " '.oracle_jre_usage',\n",
       " '.soapuios',\n",
       " '3D Objects',\n",
       " 'anaconda3',\n",
       " 'AppData',\n",
       " 'Application Data',\n",
       " 'Contacts',\n",
       " 'Cookies',\n",
       " 'default-soapui-workspace.xml',\n",
       " 'Desktop',\n",
       " 'Documents',\n",
       " 'Downloads',\n",
       " 'Exception Handling - Class2.ipynb',\n",
       " 'Exception Handling Class1 TS.ipynb',\n",
       " 'Favorites',\n",
       " 'google.txt',\n",
       " 'Iterator and Generator.ipynb',\n",
       " 'Links',\n",
       " 'Local Settings',\n",
       " 'Logging .ipynb',\n",
       " 'Music',\n",
       " 'My Documents',\n",
       " 'NetHood',\n",
       " 'NTUSER.DAT',\n",
       " 'ntuser.dat.LOG1',\n",
       " 'ntuser.dat.LOG2',\n",
       " 'NTUSER.DAT{53b39e88-18c4-11ea-a811-000d3aa4692b}.TM.blf',\n",
       " 'NTUSER.DAT{53b39e88-18c4-11ea-a811-000d3aa4692b}.TMContainer00000000000000000001.regtrans-ms',\n",
       " 'NTUSER.DAT{53b39e88-18c4-11ea-a811-000d3aa4692b}.TMContainer00000000000000000002.regtrans-ms',\n",
       " 'ntuser.ini',\n",
       " 'OneDrive',\n",
       " 'Pictures',\n",
       " 'PrintHood',\n",
       " 'Recent',\n",
       " 'Saved Games',\n",
       " 'Searches',\n",
       " 'SendTo',\n",
       " 'soapui-settings.xml',\n",
       " 'Start Menu',\n",
       " 'Templates',\n",
       " 'test1.txt',\n",
       " 'test2.txt',\n",
       " 'Untitled.ipynb',\n",
       " 'Untitled1.ipynb',\n",
       " 'Untitled10.ipynb',\n",
       " 'Untitled11.ipynb',\n",
       " 'Untitled12.ipynb',\n",
       " 'Untitled13.ipynb',\n",
       " 'Untitled14.ipynb',\n",
       " 'Untitled15.ipynb',\n",
       " 'Untitled16.ipynb',\n",
       " 'Untitled17.ipynb',\n",
       " 'Untitled18.ipynb',\n",
       " 'Untitled19.ipynb',\n",
       " 'Untitled2.ipynb',\n",
       " 'Untitled20.ipynb',\n",
       " 'Untitled21.ipynb',\n",
       " 'Untitled22.ipynb',\n",
       " 'Untitled23.ipynb',\n",
       " 'Untitled24.ipynb',\n",
       " 'Untitled3.ipynb',\n",
       " 'Untitled4.ipynb',\n",
       " 'Untitled5.ipynb',\n",
       " 'Untitled6.ipynb',\n",
       " 'Untitled7.ipynb',\n",
       " 'Untitled8.ipynb',\n",
       " 'Untitled9.ipynb',\n",
       " 'Videos']"
      ]
     },
     "execution_count": 120,
     "metadata": {},
     "output_type": "execute_result"
    }
   ],
   "source": [
    "os.listdir('C:\\\\Users\\\\Tamilselvan.E')"
   ]
  },
  {
   "cell_type": "code",
   "execution_count": null,
   "id": "fbd61fdd",
   "metadata": {},
   "outputs": [],
   "source": []
  }
 ],
 "metadata": {
  "kernelspec": {
   "display_name": "Python 3 (ipykernel)",
   "language": "python",
   "name": "python3"
  },
  "language_info": {
   "codemirror_mode": {
    "name": "ipython",
    "version": 3
   },
   "file_extension": ".py",
   "mimetype": "text/x-python",
   "name": "python",
   "nbconvert_exporter": "python",
   "pygments_lexer": "ipython3",
   "version": "3.9.7"
  }
 },
 "nbformat": 4,
 "nbformat_minor": 5
}
