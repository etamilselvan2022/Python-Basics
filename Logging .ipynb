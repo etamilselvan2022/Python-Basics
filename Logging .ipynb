{
 "cells": [
  {
   "cell_type": "markdown",
   "id": "6922848a",
   "metadata": {},
   "source": [
    "#### Logging\n",
    "- Type of Logs\n",
    "  - Error\n",
    "  - Warning\n",
    "  - Info\n",
    "  - Debug"
   ]
  },
  {
   "cell_type": "code",
   "execution_count": 1,
   "id": "805fbe1a",
   "metadata": {},
   "outputs": [
    {
     "name": "stdout",
     "output_type": "stream",
     "text": [
      "Logging\n"
     ]
    }
   ],
   "source": [
    "print('Logging')"
   ]
  },
  {
   "cell_type": "code",
   "execution_count": 2,
   "id": "5ea7d0bf",
   "metadata": {},
   "outputs": [],
   "source": [
    "import logging"
   ]
  },
  {
   "cell_type": "code",
   "execution_count": 3,
   "id": "5626b86b",
   "metadata": {},
   "outputs": [],
   "source": [
    "logging.basicConfig(filename='l.log')"
   ]
  },
  {
   "cell_type": "code",
   "execution_count": 4,
   "id": "26b9f3b3",
   "metadata": {},
   "outputs": [],
   "source": [
    "logging.error('Error Log')\n",
    "logging.warning('Warning Log')\n",
    "logging.info('Info Log')\n",
    "logging.debug('Debug Log')"
   ]
  },
  {
   "cell_type": "code",
   "execution_count": 5,
   "id": "40570ad2",
   "metadata": {},
   "outputs": [],
   "source": [
    "logging.shutdown()"
   ]
  },
  {
   "cell_type": "code",
   "execution_count": 6,
   "id": "1960e270",
   "metadata": {},
   "outputs": [],
   "source": [
    "import logging\n",
    "logging.basicConfig(filename='l1.log',level=logging.ERROR,format='%(asctime)s %(levelname)s %(message)s')\n",
    "logging.error('Error log')\n",
    "logging.warning('warning log')\n",
    "logging.info('Info Log')\n",
    "logging.debug('Debug Log')\n",
    "logging.shutdown()"
   ]
  },
  {
   "cell_type": "code",
   "execution_count": 7,
   "id": "e17b165d",
   "metadata": {},
   "outputs": [],
   "source": [
    "import logging\n",
    "logging.basicConfig(filename='l2.log',level=logging.WARNING,format='%(asctime)s %(levelname)s %(message)s')\n",
    "logging.error('Error log')\n",
    "logging.warning('warning log')\n",
    "logging.info('Info Log')\n",
    "logging.debug('Debug Log')\n",
    "logging.shutdown()"
   ]
  },
  {
   "cell_type": "code",
   "execution_count": 8,
   "id": "bbc6cd31",
   "metadata": {},
   "outputs": [],
   "source": [
    "import logging\n",
    "logging.basicConfig(filename='l3.log',level=logging.INFO,format='%(asctime)s %(levelname)s %(message)s')\n",
    "logging.error('Error log')\n",
    "logging.warning('warning log')\n",
    "logging.info('Info Log')\n",
    "logging.debug('Debug Log')\n",
    "logging.shutdown()"
   ]
  },
  {
   "cell_type": "code",
   "execution_count": 9,
   "id": "76447a5b",
   "metadata": {},
   "outputs": [],
   "source": [
    "import logging\n",
    "logging.basicConfig(filename='l4.log',level=logging.DEBUG,format='%(asctime)s %(levelname)s %(message)s')\n",
    "logging.error('Error log')\n",
    "logging.warning('warning log')\n",
    "logging.info('Info Log')\n",
    "logging.debug('Debug Log')\n",
    "logging.shutdown()"
   ]
  },
  {
   "cell_type": "code",
   "execution_count": null,
   "id": "e2c888e8",
   "metadata": {},
   "outputs": [],
   "source": []
  }
 ],
 "metadata": {
  "kernelspec": {
   "display_name": "Python 3 (ipykernel)",
   "language": "python",
   "name": "python3"
  },
  "language_info": {
   "codemirror_mode": {
    "name": "ipython",
    "version": 3
   },
   "file_extension": ".py",
   "mimetype": "text/x-python",
   "name": "python",
   "nbconvert_exporter": "python",
   "pygments_lexer": "ipython3",
   "version": "3.9.7"
  }
 },
 "nbformat": 4,
 "nbformat_minor": 5
}
